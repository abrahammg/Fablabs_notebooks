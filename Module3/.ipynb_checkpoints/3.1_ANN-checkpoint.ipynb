{
 "cells": [
  {
   "cell_type": "markdown",
   "id": "b1ae29f8",
   "metadata": {},
   "source": [
    "# Module 3: Neural Network Practice\n",
    "\n",
    "## Introduction\n",
    "In this notebook, we will predict the status of a machine (working or failing) based on temperature and vibration sensor readings. This notebook builds on theoretical concepts from the course, including:\n",
    "\n",
    "- Neural network architecture  \n",
    "- Activation functions  \n",
    "- Layers and neurons  \n",
    "- Training via backpropagation  \n",
    "\n",
    "We use TensorFlow in this notebook because it simplifies the process of building and training neural networks, making it easier for beginners to focus on core concepts like layers, activation functions, and training. With its high-level Keras API, TensorFlow handles complex operations like backpropagation and gradient updates for us, allowing for readable, intuitive code.\n"
   ]
  },
  {
   "cell_type": "markdown",
   "id": "17f25d4e",
   "metadata": {},
   "source": [
    "In this cell we import the libraries necessary for the notebook:\n",
    "\n",
    "- **tensorflow**: To build and train neural networks.\n",
    "- **numpy**: For array manipulation and numerical calculations.\n",
    "- **matplotlib.pyplot**: For generating plots and visualizing data.\n",
    "- **sklearn**: For data splitting and scaling with `train_test_split` and `StandardScaler`.\n",
    "- **ipywidgets** and **IPython.display**: To create an interactive interface with sliders.\n",
    "\n",
    "This sets up the environment for the following sections."
   ]
  },
  {
   "cell_type": "code",
   "execution_count": null,
   "id": "e979f59d",
   "metadata": {},
   "outputs": [],
   "source": [
    "import tensorflow as tf\n",
    "from tensorflow.keras import Sequential, Input\n",
    "from tensorflow.keras.layers import Dense, Dropout\n",
    "import numpy as np\n",
    "import matplotlib.pyplot as plt\n",
    "from sklearn.model_selection import train_test_split\n",
    "from sklearn.preprocessing import StandardScaler\n",
    "import ipywidgets as widgets\n",
    "from IPython.display import display, clear_output\n",
    "\n",
    "print(\"Libraries imported successfully!\")"
   ]
  },
  {
   "cell_type": "markdown",
   "id": "e6b13c2d",
   "metadata": {},
   "source": [
    "## Step 2: Load & Generate Data"
   ]
  },
  {
   "cell_type": "markdown",
   "id": "760e2423",
   "metadata": {},
   "source": [
    "In this cell we load the machine dataset containing temperature and vibration features:\n",
    "\n",
    "1. We use **pandas** to read the CSV file `machine_status.csv`.\n",
    "2. We separate the input columns (`temperature`, `vibration`) into `X` and the binary label (`status`) into `y`.\n",
    "3. We display the first few rows to verify the data loading."
   ]
  },
  {
   "cell_type": "code",
   "execution_count": null,
   "id": "72aae45e",
   "metadata": {},
   "outputs": [],
   "source": [
    "import pandas as pd\n",
    "\n",
    "# Load dataset\n",
    "df = pd.read_csv('./data/machine_status.csv')\n",
    "X = df[['temperature', 'vibration']].values\n",
    "y = df['status'].values\n",
    "\n",
    "# Show samples\n",
    "df.head()"
   ]
  },
  {
   "cell_type": "markdown",
   "id": "c2287526",
   "metadata": {},
   "source": [
    "## Step 3: Visualize the Data"
   ]
  },
  {
   "cell_type": "markdown",
   "id": "e35f841e",
   "metadata": {},
   "source": [
    "In this cell we visualize the data in a scatter plot:\n",
    "\n",
    "- Create a figure of size 10×6.\n",
    "- Plot operational machines (y == 0) and failing machines (y == 1) in different colors.\n",
    "- Add a title, axis labels, legend, and grid.\n",
    "\n",
    "This helps visually inspect the data distribution."
   ]
  },
  {
   "cell_type": "code",
   "execution_count": null,
   "id": "dcb40901",
   "metadata": {},
   "outputs": [],
   "source": [
    "plt.figure(figsize=(10, 6))\n",
    "plt.scatter(X[y==0, 0], X[y==0, 1], c='blue', label='Working Machines')\n",
    "plt.scatter(X[y==1, 0], X[y==1, 1], c='red', label='Failing Machines')\n",
    "plt.title(\"Temperature vs. Vibration\")\n",
    "plt.xlabel(\"Temperature (°C)\")\n",
    "plt.ylabel(\"Vibration (m/s²)\")\n",
    "plt.legend()\n",
    "plt.grid(True)\n",
    "plt.show()"
   ]
  },
  {
   "cell_type": "markdown",
   "id": "b85c1034",
   "metadata": {},
   "source": [
    "## Step 4: Prepare the Data"
   ]
  },
  {
   "cell_type": "markdown",
   "id": "74cf6160",
   "metadata": {},
   "source": [
    "In this cell we prepare the data for training:\n",
    "\n",
    "1. We split the data (`train_test_split`) into training and test sets (80%/20%).\n",
    "2. We create a `StandardScaler` and:\n",
    "   - Fit it on the training data and transform `X_train`.\n",
    "   - Transform `X_test` with the same scaler.\n",
    "\n",
    "Normalizing the data improves model training."
   ]
  },
  {
   "cell_type": "code",
   "execution_count": null,
   "id": "2bec15e8",
   "metadata": {},
   "outputs": [],
   "source": [
    "# Split data\n",
    "X_train, X_test, y_train, y_test = train_test_split(X, y, test_size=0.2, random_state=42)\n",
    "\n",
    "# Normalize\n",
    "scaler = StandardScaler()\n",
    "X_train_scaled = scaler.fit_transform(X_train)\n",
    "X_test_scaled = scaler.transform(X_test)\n",
    "\n",
    "print(\"Data prepared for training.\")"
   ]
  },
  {
   "cell_type": "markdown",
   "id": "4914455d",
   "metadata": {},
   "source": [
    "## Step 5: Build the Neural Network Model"
   ]
  },
  {
   "cell_type": "markdown",
   "id": "448d13c7",
   "metadata": {},
   "source": [
    "In this cell we define the neural network architecture:\n",
    "\n",
    "- Use a Keras **Sequential** model.  \n",
    "- The **Input** layer specifies the shape of the input data (2 features: temperature and vibration).  \n",
    "- The first hidden layer has 16 neurons with **ReLU** activation.  \n",
    "- The output layer has 1 neuron with **Sigmoid** activation for binary classification.  \n",
    "- Compile with the **Adam** optimizer, **binary_crossentropy** loss, and **accuracy** metric."
   ]
  },
  {
   "cell_type": "code",
   "execution_count": null,
   "id": "1f7dd0b1",
   "metadata": {},
   "outputs": [],
   "source": [
    "model = Sequential([\n",
    "    Input(shape=(2,)),\n",
    "    Dense(16, activation='relu'),\n",
    "    Dense(1, activation='sigmoid')\n",
    "])\n",
    "model.compile(optimizer='adam', loss='binary_crossentropy', metrics=['accuracy'])\n",
    "print(\"Model created.\")"
   ]
  },
  {
   "cell_type": "markdown",
   "id": "4ece768b",
   "metadata": {},
   "source": [
    "## Step 6: Train the Model"
   ]
  },
  {
   "cell_type": "markdown",
   "id": "5c28e16e",
   "metadata": {},
   "source": [
    "In this cell we train the model:\n",
    "\n",
    "- Call `model.fit` with:\n",
    "  - Scaled training data (`X_train_scaled`, `y_train`).\n",
    "  - 50 epochs and batch size 32.\n",
    "  - 20% validation split.\n",
    "\n",
    "This returns a `History` object tracking training progress."
   ]
  },
  {
   "cell_type": "code",
   "execution_count": null,
   "id": "9cd6710f",
   "metadata": {},
   "outputs": [],
   "source": [
    "history = model.fit(\n",
    "    X_train_scaled, y_train,\n",
    "    epochs=50,\n",
    "    batch_size=32,\n",
    "    validation_split=0.2,\n",
    "    verbose=1\n",
    ")\n",
    "print(\"Training complete.\")"
   ]
  },
  {
   "cell_type": "markdown",
   "id": "48c12bf4",
   "metadata": {},
   "source": [
    "## Step 7: Evaluate the Model"
   ]
  },
  {
   "cell_type": "markdown",
   "id": "dac39fe9",
   "metadata": {},
   "source": [
    "In this cell we evaluate the model on the test data:\n",
    "\n",
    "- Use `model.evaluate` with `X_test_scaled` and `y_test`.\n",
    "- Obtain loss and accuracy.\n",
    "- Print these values to quantify performance."
   ]
  },
  {
   "cell_type": "code",
   "execution_count": null,
   "id": "f1bc0e9c",
   "metadata": {},
   "outputs": [],
   "source": [
    "test_loss, test_accuracy = model.evaluate(X_test_scaled, y_test)\n",
    "print(f\"Test Loss: {test_loss:.4f}, Test Accuracy: {test_accuracy:.4f}\")"
   ]
  },
  {
   "cell_type": "markdown",
   "id": "d024e19f",
   "metadata": {},
   "source": [
    "## Step 8: Interactive Prediction"
   ]
  },
  {
   "cell_type": "markdown",
   "id": "a96583a5",
   "metadata": {},
   "source": [
    "In this cell we create an interactive interface for predictions:\n",
    "\n",
    "1. Define `predict_status(temp, vib)` that:\n",
    "   - Forms an array with temperature and vibration values.\n",
    "   - Applies the scaler and gets the model prediction.\n",
    "   - Returns 'Failing' or 'Working' based on a 0.5 threshold.\n",
    "2. Generate two FloatSliders for input and display the result dynamically."
   ]
  },
  {
   "cell_type": "code",
   "execution_count": null,
   "id": "5590595a",
   "metadata": {},
   "outputs": [],
   "source": [
    "def predict_status(temp, vib):\n",
    "    input_data = np.array([[temp, vib]])\n",
    "    input_scaled = scaler.transform(input_data)\n",
    "    prediction = model.predict(input_scaled)[0][0]\n",
    "    return \"Failing\" if prediction > 0.5 else \"Working\"\n",
    "\n",
    "def create_interface():\n",
    "    temp_slider = widgets.FloatSlider(value=50, min=30, max=90, step=0.5, description='Temperature (°C):')\n",
    "    vib_slider = widgets.FloatSlider(value=20, min=10, max=60, step=0.5, description='Vibration (m/s²):')\n",
    "    output = widgets.Output()\n",
    "\n",
    "    def update(change):\n",
    "        with output:\n",
    "            clear_output()\n",
    "            status = predict_status(temp_slider.value, vib_slider.value)\n",
    "            print(f\"Temperature: {temp_slider.value}°C\")\n",
    "            print(f\"Vibration: {vib_slider.value} m/s²\")\n",
    "            print(f\"Prediction: {status}\")\n",
    "\n",
    "    temp_slider.observe(update, names='value')\n",
    "    vib_slider.observe(update, names='value')\n",
    "    display(widgets.VBox([temp_slider, vib_slider, output]))\n",
    "\n",
    "create_interface()"
   ]
  }
 ],
 "metadata": {
  "kernelspec": {
   "display_name": "Python 3 (ipykernel)",
   "language": "python",
   "name": "python3"
  },
  "language_info": {
   "codemirror_mode": {
    "name": "ipython",
    "version": 3
   },
   "file_extension": ".py",
   "mimetype": "text/x-python",
   "name": "python",
   "nbconvert_exporter": "python",
   "pygments_lexer": "ipython3",
   "version": "3.12.3"
  }
 },
 "nbformat": 4,
 "nbformat_minor": 5
}
