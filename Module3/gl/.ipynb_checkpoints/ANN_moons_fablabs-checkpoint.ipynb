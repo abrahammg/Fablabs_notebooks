{
 "cells": [
  {
   "cell_type": "markdown",
   "id": "a107ec46",
   "metadata": {},
   "source": [
    "# Clasificación con una ANN y visualización de la frontera de decisión\n",
    "\n",
    "En este notebook:\n",
    "\n",
    "1. **Generamos** un dataset bidimensional con `make_moons`.  \n",
    "2. **Mostramos** los datos originales.  \n",
    "3. **Definimos** una ANN usando Keras.  \n",
    "4. **Entrenamos** la red registrando la evolución de la pérdida y la precisión.  \n",
    "5. **Visualizamos** la frontera de decisión aprendida."
   ]
  },
  {
   "cell_type": "code",
   "execution_count": null,
   "id": "d8683551",
   "metadata": {},
   "outputs": [],
   "source": [
    "import numpy as np\n",
    "import matplotlib.pyplot as plt\n",
    "from matplotlib.colors import ListedColormap\n",
    "from sklearn.datasets import make_moons\n",
    "from sklearn.model_selection import train_test_split\n",
    "from tensorflow.keras.models import Sequential\n",
    "from tensorflow.keras.layers import Dense\n",
    "from tensorflow.keras.callbacks import History"
   ]
  },
  {
   "cell_type": "code",
   "execution_count": null,
   "id": "c284fd8b",
   "metadata": {},
   "outputs": [],
   "source": [
    "X, y = make_moons(n_samples=500, noise=0.25, random_state=42)\n",
    "X_train, X_test, y_train, y_test = train_test_split(X, y, test_size=0.2, random_state=1)\n",
    "\n",
    "plt.figure(figsize=(6,6))\n",
    "plt.scatter(X[:,0], X[:,1], c=y, cmap=ListedColormap(['#FF5555','#5555FF']), edgecolor='k', s=50)\n",
    "plt.title(\"Dataset make_moons\")\n",
    "plt.xlabel(\"X1\"); plt.ylabel(\"X2\")\n",
    "plt.show()"
   ]
  },
  {
   "cell_type": "code",
   "execution_count": null,
   "id": "6f6fe2a6",
   "metadata": {},
   "outputs": [],
   "source": [
    "model = Sequential([\n",
    "    Dense(16, activation='relu', input_shape=(2,)),\n",
    "    Dense(16, activation='relu'),\n",
    "    Dense(1, activation='sigmoid')\n",
    "])\n",
    "model.compile(optimizer='adam', loss='binary_crossentropy', metrics=['accuracy'])\n",
    "model.summary()"
   ]
  },
  {
   "cell_type": "code",
   "execution_count": null,
   "id": "b3e3e068",
   "metadata": {},
   "outputs": [],
   "source": [
    "history = model.fit(X_train, y_train, \n",
    "                    validation_data=(X_test, y_test),\n",
    "                    epochs=50, batch_size=16, verbose=0)\n",
    "\n",
    "plt.figure(figsize=(12,4))\n",
    "\n",
    "plt.subplot(1,2,1)\n",
    "plt.plot(history.history['loss'], label='Entrenamiento')\n",
    "plt.plot(history.history['val_loss'], label='Validación')\n",
    "plt.title(\"Evolución de la pérdida\")\n",
    "plt.xlabel(\"Época\"); plt.ylabel(\"Pérdida\")\n",
    "plt.legend()\n",
    "\n",
    "plt.subplot(1,2,2)\n",
    "plt.plot(history.history['accuracy'], label='Entrenamiento')\n",
    "plt.plot(history.history['val_accuracy'], label='Validación')\n",
    "plt.title(\"Evolución de la precisión\")\n",
    "plt.xlabel(\"Época\"); plt.ylabel(\"Precisión\")\n",
    "plt.legend()\n",
    "\n",
    "plt.show()"
   ]
  },
  {
   "cell_type": "code",
   "execution_count": null,
   "id": "997fc3eb",
   "metadata": {},
   "outputs": [],
   "source": [
    "def plot_decision_boundary(model, X, y, steps=1000, cmap='Paired'):\n",
    "    x_min, x_max = X[:,0].min() - .5, X[:,0].max() + .5\n",
    "    y_min, y_max = X[:,1].min() - .5, X[:,1].max() + .5\n",
    "    xx, yy = np.meshgrid(np.linspace(x_min, x_max, steps),\n",
    "                         np.linspace(y_min, y_max, steps))\n",
    "    Z = model.predict(np.c_[xx.ravel(), yy.ravel()])\n",
    "    Z = (Z > 0.5).astype(int).reshape(xx.shape)\n",
    "    \n",
    "    plt.figure(figsize=(6,6))\n",
    "    plt.contourf(xx, yy, Z, alpha=0.3, cmap=ListedColormap(['#FFAAAA','#AAAAFF']))\n",
    "    plt.scatter(X[:,0], X[:,1], c=y, edgecolor='k', cmap=ListedColormap(['#FF0000','#0000FF']), s=40)\n",
    "    plt.title(\"Frontera de decisión de la ANN\")\n",
    "    plt.xlabel(\"X1\"); plt.ylabel(\"X2\")\n",
    "    plt.show()\n",
    "\n",
    "plot_decision_boundary(model, X, y)"
   ]
  }
 ],
 "metadata": {},
 "nbformat": 4,
 "nbformat_minor": 5
}
