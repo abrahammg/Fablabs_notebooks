{
 "cells": [
  {
   "cell_type": "markdown",
   "id": "b1ae29f8",
   "metadata": {},
   "source": [
    "# Module 3: Neural Network Practice\n",
    "\n",
    "## Introduction\n",
    "In this notebook, we will predict the status of a machine (working or failing) based on temperature and vibration sensor readings. This notebook builds on theoretical concepts from the course, including:\n",
    "\n",
    "- Neural network architecture  \n",
    "- Activation functions  \n",
    "- Layers and neurons  \n",
    "- Training via backpropagation  \n",
    "\n",
    "We use TensorFlow in this notebook because it simplifies the process of building and training neural networks, making it easier for beginners to focus on core concepts like layers, activation functions, and training. With its high-level Keras API, TensorFlow handles complex operations like backpropagation and gradient updates for us, allowing for readable, intuitive code.\n"
   ]
  },
  {
   "cell_type": "markdown",
   "id": "d4a7149d",
   "metadata": {},
   "source": [
    "Nesta celda importamos as librarías necesarias para todo o cuaderno:\n",
    "\n",
    "- **tensorflow**: Para construír e adestrar redes neuronais.\n",
    "- **numpy**: Para manipulación de arrays e cálculos numéricos.\n",
    "- **matplotlib.pyplot**: Para xeración de gráficas e visualización de datos.\n",
    "- **sklearn**: Para partición de datos e escalado con `train_test_split` e `StandardScaler`.\n",
    "- **ipywidgets** e **IPython.display**: Para crear unha interface interactiva con sliders.\n",
    "\n",
    "Isto configura o entorno de traballo para as seguintes seccións."
   ]
  },
  {
   "cell_type": "code",
   "execution_count": null,
   "id": "a6d636b2",
   "metadata": {},
   "outputs": [],
   "source": [
    "import tensorflow as tf\n",
    "from tensorflow.keras import Sequential, Input\n",
    "from tensorflow.keras.layers import Dense, Dropout\n",
    "import numpy as np\n",
    "import matplotlib.pyplot as plt\n",
    "from sklearn.model_selection import train_test_split\n",
    "from sklearn.preprocessing import StandardScaler\n",
    "import ipywidgets as widgets\n",
    "from IPython.display import display, clear_output\n",
    "\n",
    "print(\"Libraries imported successfully!\")"
   ]
  },
  {
   "cell_type": "markdown",
   "id": "e6b13c2d",
   "metadata": {},
   "source": [
    "## Step 2: Load & Generate Data"
   ]
  },
  {
   "cell_type": "markdown",
   "id": "6fe7aae7",
   "metadata": {},
   "source": [
    "Nesta celda cargamos o conxunto de datos dunha máquina que contén características de temperatura e vibración:\n",
    "\n",
    "1. Usamos **pandas** para ler o arquivo CSV `machine_status.csv`.\n",
    "2. Separamos as columnas de entrada (`temperature`, `vibration`) en `X` e a etiqueta binaria (`status`) en `y`.\n",
    "3. Mostramos as primeiras filas para verificar a carga dos datos."
   ]
  },
  {
   "cell_type": "code",
   "execution_count": null,
   "id": "2032751b",
   "metadata": {},
   "outputs": [],
   "source": [
    "import pandas as pd\n",
    "\n",
    "# Load dataset\n",
    "df = pd.read_csv('./data/machine_status.csv')\n",
    "X = df[['temperature', 'vibration']].values\n",
    "y = df['status'].values\n",
    "\n",
    "# Show samples\n",
    "df.head()"
   ]
  },
  {
   "cell_type": "markdown",
   "id": "c2287526",
   "metadata": {},
   "source": [
    "## Step 3: Visualize the Data"
   ]
  },
  {
   "cell_type": "markdown",
   "id": "421f1a69",
   "metadata": {},
   "source": [
    "Nesta celda visualizamos os datos nun diagrama de dispersión:\n",
    "\n",
    "- Creamos unha figura de tamaño 10×6.\n",
    "- Trazamos máquinas operativas (y == 0) e máquinas con fallo (y == 1) en cores diferentes.\n",
    "- Engadimos título, etiquetas nos eixes, lenda e grade.\n",
    "\n",
    "Isto axuda a inspeccionar visualmente a distribución dos datos."
   ]
  },
  {
   "cell_type": "code",
   "execution_count": null,
   "id": "fe41260b",
   "metadata": {},
   "outputs": [],
   "source": [
    "plt.figure(figsize=(10, 6))\n",
    "plt.scatter(X[y==0, 0], X[y==0, 1], c='blue', label='Working Machines')\n",
    "plt.scatter(X[y==1, 0], X[y==1, 1], c='red', label='Failing Machines')\n",
    "plt.title(\"Temperature vs. Vibration\")\n",
    "plt.xlabel(\"Temperature (°C)\")\n",
    "plt.ylabel(\"Vibration (m/s²)\")\n",
    "plt.legend()\n",
    "plt.grid(True)\n",
    "plt.show()"
   ]
  },
  {
   "cell_type": "markdown",
   "id": "b85c1034",
   "metadata": {},
   "source": [
    "## Step 4: Prepare the Data"
   ]
  },
  {
   "cell_type": "markdown",
   "id": "3a3f1c38",
   "metadata": {},
   "source": [
    "Nesta celda preparamos os datos para o adestramento:\n",
    "\n",
    "1. Dividimos (`train_test_split`) os datos en conxuntos de adestramento e test (80%/20%).\n",
    "2. Creamos un `StandardScaler` e:\n",
    "   - Axustámolo aos datos de adestramento e transformamos `X_train`.\n",
    "   - Transformamos `X_test` co mesmo scaler.\n",
    "\n",
    "Normalizar os datos mellora o adestramento do modelo."
   ]
  },
  {
   "cell_type": "code",
   "execution_count": null,
   "id": "d55d5753",
   "metadata": {},
   "outputs": [],
   "source": [
    "# Split data\n",
    "X_train, X_test, y_train, y_test = train_test_split(\n",
    "    X, y, test_size=0.2, random_state=42\n",
    ")\n",
    "\n",
    "# Normalize\n",
    "scaler = StandardScaler()\n",
    "X_train_scaled = scaler.fit_transform(X_train)\n",
    "X_test_scaled = scaler.transform(X_test)\n",
    "\n",
    "print(\"Data prepared for training.\")"
   ]
  },
  {
   "cell_type": "markdown",
   "id": "4914455d",
   "metadata": {},
   "source": [
    "## Step 5: Build the Neural Network Model"
   ]
  },
  {
   "cell_type": "markdown",
   "id": "5b551545",
   "metadata": {},
   "source": [
    "Nesta celda definimos a arquitectura da rede neuronal:\n",
    "\n",
    "- Usamos un modelo **Sequential** de Keras.\n",
    "- A primeira capa oculta ten 16 neuronas con activación **ReLU**.\n",
    "- A capa de saída ten 1 neurona con activación **Sigmoid** para clasificación binaria.\n",
    "- Compilamos co optimizador **Adam**, perda **binary_crossentropy** e métrica **accuracy**."
   ]
  },
  {
   "cell_type": "code",
   "execution_count": null,
   "id": "be4a00dc",
   "metadata": {},
   "outputs": [],
   "source": [
    "model = Sequential([\n",
    "    Input(shape=(2,)),\n",
    "    Dense(16, activation='relu', input_dim=2),\n",
    "    Dense(1, activation='sigmoid')\n",
    "])\n",
    "model.compile(optimizer='adam', loss='binary_crossentropy', metrics=['accuracy'])\n",
    "print(\"Model created.\")"
   ]
  },
  {
   "cell_type": "markdown",
   "id": "4ece768b",
   "metadata": {},
   "source": [
    "## Step 6: Train the Model"
   ]
  },
  {
   "cell_type": "markdown",
   "id": "88766d3e",
   "metadata": {},
   "source": [
    "Nesta celda adestramos o modelo:\n",
    "\n",
    "- Chamamos a `model.fit` con:\n",
    "  - Datos de adestramento escalados (`X_train_scaled`, `y_train`).\n",
    "  - 50 épocas e tamaño de batch 32.\n",
    "  - Validación do 20% dos datos.\n",
    "\n",
    "Isto devolve un obxecto `History` co progreso do adestramento."
   ]
  },
  {
   "cell_type": "code",
   "execution_count": null,
   "id": "9c5838ab",
   "metadata": {},
   "outputs": [],
   "source": [
    "history = model.fit(\n",
    "    X_train_scaled, y_train,\n",
    "    epochs=50,\n",
    "    batch_size=32,\n",
    "    validation_split=0.2,\n",
    "    verbose=1\n",
    ")\n",
    "print(\"Training complete.\")"
   ]
  },
  {
   "cell_type": "markdown",
   "id": "48c12bf4",
   "metadata": {},
   "source": [
    "## Step 7: Evaluate the Model"
   ]
  },
  {
   "cell_type": "markdown",
   "id": "c6e15872",
   "metadata": {},
   "source": [
    "Nesta celda avaliamos o modelo nos datos de proba:\n",
    "\n",
    "- Usamos `model.evaluate` con `X_test_scaled` e `y_test`.\n",
    "- Obtemos a perda e a precisión.\n",
    "- Imprimimos estes valores para cuantificar o rendemento."
   ]
  },
  {
   "cell_type": "code",
   "execution_count": null,
   "id": "933ef731",
   "metadata": {},
   "outputs": [],
   "source": [
    "test_loss, test_accuracy = model.evaluate(X_test_scaled, y_test)\n",
    "print(f\"Test Loss: {test_loss:.4f}, Test Accuracy: {test_accuracy:.4f}\")"
   ]
  },
  {
   "cell_type": "markdown",
   "id": "d024e19f",
   "metadata": {},
   "source": [
    "## Step 8: Interactive Prediction"
   ]
  },
  {
   "cell_type": "markdown",
   "id": "56b6893e",
   "metadata": {},
   "source": [
    "Nesta celda creamos unha interface interactiva para predicións:\n",
    "\n",
    "1. Definimos a función `predict_status(temp, vib)` que:\n",
    "   - Forma un array cos valores de temperatura e vibración.\n",
    "   - Aplica o scaler e obtén a predición do modelo.\n",
    "   - Devolve 'Failing' ou 'Working' segundo o limiar 0.5.\n",
    "2. Xera dous sliders (FloatSlider) para introducir valores e amosa o resultado dinámicamente."
   ]
  },
  {
   "cell_type": "code",
   "execution_count": null,
   "id": "d7a29233",
   "metadata": {},
   "outputs": [],
   "source": [
    "def predict_status(temp, vib):\n",
    "    input_data = np.array([[temp, vib]])\n",
    "    input_scaled = scaler.transform(input_data)\n",
    "    prediction = model.predict(input_scaled)[0][0]\n",
    "    return \"Failing\" if prediction > 0.5 else \"Working\"\n",
    "\n",
    "def create_interface():\n",
    "    temp_slider = widgets.FloatSlider(value=50, min=30, max=90, step=0.5, description='Temperature (°C):')\n",
    "    vib_slider = widgets.FloatSlider(value=20, min=10, max=60, step=0.5, description='Vibration (m/s²):')\n",
    "    output = widgets.Output()\n",
    "\n",
    "    def update(change):\n",
    "        with output:\n",
    "            clear_output()\n",
    "            status = predict_status(temp_slider.value, vib_slider.value)\n",
    "            print(f\"Temperature: {temp_slider.value}°C\")\n",
    "            print(f\"Vibration: {vib_slider.value} m/s²\")\n",
    "            print(f\"Prediction: {status}\")\n",
    "\n",
    "    temp_slider.observe(update, names='value')\n",
    "    vib_slider.observe(update, names='value')\n",
    "    display(widgets.VBox([temp_slider, vib_slider, output]))\n",
    "\n",
    "create_interface()"
   ]
  }
 ],
 "metadata": {
  "kernelspec": {
   "display_name": "Python 3 (ipykernel)",
   "language": "python",
   "name": "python3"
  },
  "language_info": {
   "codemirror_mode": {
    "name": "ipython",
    "version": 3
   },
   "file_extension": ".py",
   "mimetype": "text/x-python",
   "name": "python",
   "nbconvert_exporter": "python",
   "pygments_lexer": "ipython3",
   "version": "3.12.3"
  }
 },
 "nbformat": 4,
 "nbformat_minor": 5
}
