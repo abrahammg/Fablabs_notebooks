{
  "cells": [
    {
      "cell_type": "markdown",
      "metadata": {
        "id": "v_1bJjQjUtSa"
      },
      "source": [
        "# Pandas Practice Exercises\n",
        "\n",
        "Welcome to the Pandas practice exercises notebook. In this notebook, you will find 5 exercises related to the topics covered in the Pandas module of the AI Data course. Try to solve each exercise on your own. At the end of the notebook, you will find the solutions to compare your answers. If you have any doubts while solving the exercises, feel free to review the theoretical content of the course.\n",
        "\n",
        "Good luck and happy learning!"
      ]
    },
    {
      "cell_type": "markdown",
      "metadata": {
        "id": "1ZBhLTubUtSf"
      },
      "source": [
        "### Exercise 1: Create a DataFrame from a dictionary of lists."
      ]
    },
    {
      "cell_type": "markdown",
      "metadata": {
        "id": "zUuiOptmUtSg"
      },
      "source": [
        "Create a DataFrame using the data provided in the dictionary."
      ]
    },
    {
      "cell_type": "code",
      "execution_count": null,
      "metadata": {
        "id": "oKdChuC8UtSg"
      },
      "outputs": [],
      "source": [
        "import pandas as pd\n",
        "\n",
        "# Data dictionary\n",
        "data = {\n",
        "    'Name': ['John', 'Anna', 'Peter', 'Linda'],\n",
        "    'Age': [28, 24, 35, 32],\n",
        "    'City': ['New York', 'Paris', 'Berlin', 'London']\n",
        "}\n",
        "# Your code here\n",
        "\n",
        "\n"
      ]
    },
    {
      "cell_type": "markdown",
      "metadata": {
        "id": "LIU1IIf_UtSh"
      },
      "source": [
        "### Exercise 2: Select the 'Name' and 'Age' columns from the DataFrame."
      ]
    },
    {
      "cell_type": "markdown",
      "metadata": {
        "id": "ThGU2-z8UtSi"
      },
      "source": [
        "Use DataFrame indexing to select the 'Name' and 'Age' columns."
      ]
    },
    {
      "cell_type": "code",
      "execution_count": null,
      "metadata": {
        "id": "1W4Z1Q46UtSi"
      },
      "outputs": [],
      "source": [
        "import pandas as pd\n",
        "\n",
        "data = {\n",
        "    'Name': ['John', 'Anna', 'Peter', 'Linda'],\n",
        "    'Age': [28, 24, 35, 32],\n",
        "    'City': ['New York', 'Paris', 'Berlin', 'London']\n",
        "}\n",
        "df = pd.DataFrame(data)\n",
        "# Your code here\n"
      ]
    },
    {
      "cell_type": "markdown",
      "metadata": {
        "id": "SlDcWDaGUtSj"
      },
      "source": [
        "### Exercise 3: Filter the DataFrame to only include rows where the Age is greater than 30."
      ]
    },
    {
      "cell_type": "markdown",
      "metadata": {
        "id": "xYvyqr6wUtSj"
      },
      "source": [
        "Use a boolean mask to filter the rows where the 'Age' is greater than 30."
      ]
    },
    {
      "cell_type": "code",
      "execution_count": null,
      "metadata": {
        "id": "o3c7AqNmUtSk"
      },
      "outputs": [],
      "source": [
        "import pandas as pd\n",
        "\n",
        "data = {\n",
        "    'Name': ['John', 'Anna', 'Peter', 'Linda'],\n",
        "    'Age': [28, 24, 35, 32],\n",
        "    'City': ['New York', 'Paris', 'Berlin', 'London']\n",
        "}\n",
        "df = pd.DataFrame(data)\n",
        "# Your code here\n"
      ]
    },
    {
      "cell_type": "markdown",
      "metadata": {
        "id": "iQdu6KhyUtSk"
      },
      "source": [
        "### Exercise 4: Add a new column 'Country' to the DataFrame with the values ['USA', 'France', 'Germany', 'UK']."
      ]
    },
    {
      "cell_type": "markdown",
      "metadata": {
        "id": "0wwNvpu7UtSk"
      },
      "source": [
        "Add a new column to the DataFrame using the data provided."
      ]
    },
    {
      "cell_type": "code",
      "execution_count": null,
      "metadata": {
        "id": "i6wIeOdnUtSk"
      },
      "outputs": [],
      "source": [
        "import pandas as pd\n",
        "\n",
        "data = {\n",
        "    'Name': ['John', 'Anna', 'Peter', 'Linda'],\n",
        "    'Age': [28, 24, 35, 32],\n",
        "    'City': ['New York', 'Paris', 'Berlin', 'London']\n",
        "}\n",
        "df = pd.DataFrame(data)\n",
        "# Your code here\n"
      ]
    },
    {
      "cell_type": "markdown",
      "metadata": {
        "id": "Swk2MxbfUtSl"
      },
      "source": [
        "### Exercise 5: Calculate the mean age of the individuals in the DataFrame."
      ]
    },
    {
      "cell_type": "markdown",
      "metadata": {
        "id": "L1-c6dDHUtSl"
      },
      "source": [
        "Use the mean function to calculate the average age."
      ]
    },
    {
      "cell_type": "code",
      "execution_count": null,
      "metadata": {
        "id": "gyeF7zbUUtSl"
      },
      "outputs": [],
      "source": [
        "import pandas as pd\n",
        "\n",
        "data = {\n",
        "    'Name': ['John', 'Anna', 'Peter', 'Linda'],\n",
        "    'Age': [28, 24, 35, 32],\n",
        "    'City': ['New York', 'Paris', 'Berlin', 'London']\n",
        "}\n",
        "df = pd.DataFrame(data)\n",
        "# Your code here\n"
      ]
    },
    {
      "cell_type": "markdown",
      "metadata": {
        "id": "c-IwBj7MUtSl"
      },
      "source": [
        "## Solutions"
      ]
    },
    {
      "cell_type": "markdown",
      "metadata": {
        "id": "owaBxISwUtSl"
      },
      "source": [
        "### Solution to Exercise 1: Create a DataFrame from a dictionary of lists."
      ]
    },
    {
      "cell_type": "code",
      "execution_count": null,
      "metadata": {
        "id": "c_w2fhyQUtSl"
      },
      "outputs": [],
      "source": [
        "import pandas as pd\n",
        "\n",
        "data = {\n",
        "    'Name': ['John', 'Anna', 'Peter', 'Linda'],\n",
        "    'Age': [28, 24, 35, 32],\n",
        "    'City': ['New York', 'Paris', 'Berlin', 'London']\n",
        "}\n",
        "\n",
        "df = pd.DataFrame(data)\n",
        "print(df)"
      ]
    },
    {
      "cell_type": "markdown",
      "metadata": {
        "id": "aUmhloFLUtSm"
      },
      "source": [
        "### Solution to Exercise 2: Select the 'Name' and 'Age' columns from the DataFrame."
      ]
    },
    {
      "cell_type": "code",
      "execution_count": null,
      "metadata": {
        "id": "hRw8TuQAUtSm"
      },
      "outputs": [],
      "source": [
        "import pandas as pd\n",
        "\n",
        "data = {\n",
        "    'Name': ['John', 'Anna', 'Peter', 'Linda'],\n",
        "    'Age': [28, 24, 35, 32],\n",
        "    'City': ['New York', 'Paris', 'Berlin', 'London']\n",
        "}\n",
        "df = pd.DataFrame(data)\n",
        "\n",
        "selected_columns = df[['Name', 'Age']]\n",
        "print(selected_columns)"
      ]
    },
    {
      "cell_type": "markdown",
      "metadata": {
        "id": "buQ1k40vUtSm"
      },
      "source": [
        "### Solution to Exercise 3: Filter the DataFrame to only include rows where the Age is greater than 30."
      ]
    },
    {
      "cell_type": "code",
      "execution_count": null,
      "metadata": {
        "id": "mQUv4B7JUtSm"
      },
      "outputs": [],
      "source": [
        "import pandas as pd\n",
        "\n",
        "data = {\n",
        "    'Name': ['John', 'Anna', 'Peter', 'Linda'],\n",
        "    'Age': [28, 24, 35, 32],\n",
        "    'City': ['New York', 'Paris', 'Berlin', 'London']\n",
        "}\n",
        "df = pd.DataFrame(data)\n",
        "\n",
        "filtered_df = df[df['Age'] > 30]\n",
        "print(filtered_df)"
      ]
    },
    {
      "cell_type": "markdown",
      "metadata": {
        "id": "4QnkWWrRUtSm"
      },
      "source": [
        "### Solution to Exercise 4: Add a new column 'Country' to the DataFrame with the values ['USA', 'France', 'Germany', 'UK']."
      ]
    },
    {
      "cell_type": "code",
      "execution_count": null,
      "metadata": {
        "id": "QgeSsOJRUtSn"
      },
      "outputs": [],
      "source": [
        "import pandas as pd\n",
        "\n",
        "data = {\n",
        "    'Name': ['John', 'Anna', 'Peter', 'Linda'],\n",
        "    'Age': [28, 24, 35, 32],\n",
        "    'City': ['New York', 'Paris', 'Berlin', 'London']\n",
        "}\n",
        "df = pd.DataFrame(data)\n",
        "\n",
        "df['Country'] = ['USA', 'France', 'Germany', 'UK']\n",
        "print(df)"
      ]
    },
    {
      "cell_type": "markdown",
      "metadata": {
        "id": "N1Acri_gUtSn"
      },
      "source": [
        "### Solution to Exercise 5: Calculate the mean age of the individuals in the DataFrame."
      ]
    },
    {
      "cell_type": "code",
      "execution_count": null,
      "metadata": {
        "id": "mjRQ2r2dUtSn"
      },
      "outputs": [],
      "source": [
        "import pandas as pd\n",
        "\n",
        "data = {\n",
        "    'Name': ['John', 'Anna', 'Peter', 'Linda'],\n",
        "    'Age': [28, 24, 35, 32],\n",
        "    'City': ['New York', 'Paris', 'Berlin', 'London']\n",
        "}\n",
        "df = pd.DataFrame(data)\n",
        "\n",
        "mean_age = df['Age'].mean()\n",
        "print(mean_age)"
      ]
    }
  ],
  "metadata": {
    "kernelspec": {
      "display_name": "Python 3",
      "language": "python",
      "name": "python3"
    },
    "language_info": {
      "codemirror_mode": {
        "name": "ipython",
        "version": 3
      },
      "file_extension": ".py",
      "mimetype": "text/x-python",
      "name": "python",
      "nbconvert_exporter": "python",
      "pygments_lexer": "ipython3",
      "version": "3.8.5"
    },
    "colab": {
      "provenance": []
    }
  },
  "nbformat": 4,
  "nbformat_minor": 0
}