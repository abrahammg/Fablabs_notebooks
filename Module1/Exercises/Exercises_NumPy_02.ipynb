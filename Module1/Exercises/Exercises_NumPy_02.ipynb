{
  "cells": [
    {
      "cell_type": "markdown",
      "metadata": {
        "id": "_cQWEQKIVttT"
      },
      "source": [
        "# NumPy Practice Exercises\n",
        "\n",
        "Welcome to the NumPy practice exercises notebook. In this notebook, you will find 5 exercises related to the topics covered in the NumPy module of the AI Data course. Try to solve each exercise on your own. At the end of the notebook, you will find the solutions to compare your answers. If you have any doubts while solving the exercises, feel free to review the theoretical content of the course.\n",
        "\n",
        "Good luck and happy learning!"
      ]
    },
    {
      "cell_type": "markdown",
      "metadata": {
        "id": "OMgvkr5pVttW"
      },
      "source": [
        "### Exercise 1: Create a one-dimensional array of 10 random integers between 1 and 100 using NumPy."
      ]
    },
    {
      "cell_type": "markdown",
      "metadata": {
        "id": "pN3IoQwXVttW"
      },
      "source": [
        "Use the randint function from NumPy to create an array of 10 random integers between 1 and 100."
      ]
    },
    {
      "cell_type": "code",
      "execution_count": null,
      "metadata": {
        "id": "jSpHa2W-VttW"
      },
      "outputs": [],
      "source": [
        "import numpy as np\n",
        "# Your code here\n"
      ]
    },
    {
      "cell_type": "markdown",
      "metadata": {
        "id": "4nVzBrDGVttX"
      },
      "source": [
        "### Exercise 2: Create a 4x4 matrix with values from 1 to 16."
      ]
    },
    {
      "cell_type": "markdown",
      "metadata": {
        "id": "A2Zy6EyJVttY"
      },
      "source": [
        "Use the arange function and reshape method to create a 4x4 matrix."
      ]
    },
    {
      "cell_type": "code",
      "execution_count": null,
      "metadata": {
        "id": "MZQ0MRlPVttY"
      },
      "outputs": [],
      "source": [
        "import numpy as np\n",
        "# Your code here\n"
      ]
    },
    {
      "cell_type": "markdown",
      "metadata": {
        "id": "zRKsRGJ1VttY"
      },
      "source": [
        "### Exercise 3: Create a diagonal matrix with the values 1, 2, 3, 4 on the diagonal."
      ]
    },
    {
      "cell_type": "markdown",
      "metadata": {
        "id": "mkGvruWwVttZ"
      },
      "source": [
        "Use the diag function from NumPy to create a diagonal matrix."
      ]
    },
    {
      "cell_type": "code",
      "execution_count": null,
      "metadata": {
        "id": "NFC4R5EwVttZ"
      },
      "outputs": [],
      "source": [
        "import numpy as np\n",
        "# Your code here\n"
      ]
    },
    {
      "cell_type": "markdown",
      "metadata": {
        "id": "16ntJ_cBVttZ"
      },
      "source": [
        "### Exercise 4: Create a random array of size 20 and find the median value."
      ]
    },
    {
      "cell_type": "markdown",
      "metadata": {
        "id": "ECYCzdifVttZ"
      },
      "source": [
        "Generate a random array using the random function from NumPy and calculate its median."
      ]
    },
    {
      "cell_type": "code",
      "execution_count": null,
      "metadata": {
        "id": "ZKqhUpwDVtta"
      },
      "outputs": [],
      "source": [
        "import numpy as np\n",
        "# Your code here\n"
      ]
    },
    {
      "cell_type": "markdown",
      "metadata": {
        "id": "ROuF83wHVtta"
      },
      "source": [
        "### Exercise 5: Create an array of 15 logarithmically spaced points between 1 and 1000."
      ]
    },
    {
      "cell_type": "markdown",
      "metadata": {
        "id": "kHEi8b9ZVtta"
      },
      "source": [
        "Use the logspace function to generate an array of logarithmically spaced points."
      ]
    },
    {
      "cell_type": "code",
      "execution_count": null,
      "metadata": {
        "id": "9YDLz1LRVtta"
      },
      "outputs": [],
      "source": [
        "import numpy as np\n",
        "# Your code here\n"
      ]
    },
    {
      "cell_type": "markdown",
      "metadata": {
        "id": "5-uEg_qYVtta"
      },
      "source": [
        "## Solutions"
      ]
    },
    {
      "cell_type": "markdown",
      "metadata": {
        "id": "g7YwaTmvVtta"
      },
      "source": [
        "### Solution to Exercise 1: Create a one-dimensional array of 10 random integers between 1 and 100 using NumPy."
      ]
    },
    {
      "cell_type": "code",
      "execution_count": null,
      "metadata": {
        "id": "56YNuopNVtta"
      },
      "outputs": [],
      "source": [
        "import numpy as np\n",
        "random_integers = np.random.randint(1, 101, size=10)\n",
        "print(random_integers)"
      ]
    },
    {
      "cell_type": "markdown",
      "metadata": {
        "id": "zm3wZY02Vtta"
      },
      "source": [
        "### Solution to Exercise 2: Create a 4x4 matrix with values from 1 to 16."
      ]
    },
    {
      "cell_type": "code",
      "execution_count": null,
      "metadata": {
        "id": "jpEhjufZVttb"
      },
      "outputs": [],
      "source": [
        "import numpy as np\n",
        "matrix = np.arange(1, 17).reshape(4, 4)\n",
        "print(matrix)"
      ]
    },
    {
      "cell_type": "markdown",
      "metadata": {
        "id": "_jVY_ZhcVttb"
      },
      "source": [
        "### Solution to Exercise 3: Create a diagonal matrix with the values 1, 2, 3, 4 on the diagonal."
      ]
    },
    {
      "cell_type": "code",
      "execution_count": null,
      "metadata": {
        "id": "RR4IZlq7Vttb"
      },
      "outputs": [],
      "source": [
        "import numpy as np\n",
        "diagonal_matrix = np.diag([1, 2, 3, 4])\n",
        "print(diagonal_matrix)"
      ]
    },
    {
      "cell_type": "markdown",
      "metadata": {
        "id": "mOeKAQoPVttb"
      },
      "source": [
        "### Solution to Exercise 4: Create a random array of size 20 and find the median value."
      ]
    },
    {
      "cell_type": "code",
      "execution_count": null,
      "metadata": {
        "id": "DFh2BuNmVttb"
      },
      "outputs": [],
      "source": [
        "import numpy as np\n",
        "random_array = np.random.rand(20)\n",
        "median_value = np.median(random_array)\n",
        "print(median_value)"
      ]
    },
    {
      "cell_type": "markdown",
      "metadata": {
        "id": "zk4lXIERVttb"
      },
      "source": [
        "### Solution to Exercise 5: Create an array of 15 logarithmically spaced points between 1 and 1000."
      ]
    },
    {
      "cell_type": "code",
      "execution_count": null,
      "metadata": {
        "id": "x2MWjeTMVttb"
      },
      "outputs": [],
      "source": [
        "import numpy as np\n",
        "logspace_array = np.logspace(0, 3, 15)\n",
        "print(logspace_array)"
      ]
    }
  ],
  "metadata": {
    "kernelspec": {
      "display_name": "Python 3",
      "language": "python",
      "name": "python3"
    },
    "language_info": {
      "codemirror_mode": {
        "name": "ipython",
        "version": 3
      },
      "file_extension": ".py",
      "mimetype": "text/x-python",
      "name": "python",
      "nbconvert_exporter": "python",
      "pygments_lexer": "ipython3",
      "version": "3.8.5"
    },
    "colab": {
      "provenance": []
    }
  },
  "nbformat": 4,
  "nbformat_minor": 0
}