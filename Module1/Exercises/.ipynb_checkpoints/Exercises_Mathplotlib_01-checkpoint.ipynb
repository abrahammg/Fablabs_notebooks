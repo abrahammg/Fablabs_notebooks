{
  "cells": [
    {
      "cell_type": "markdown",
      "metadata": {
        "id": "_W4JvON8PbmP"
      },
      "source": [
        "# Matplotlib Practice Exercises\n",
        "\n",
        "Welcome to the Matplotlib practice exercises notebook. In this notebook, you will find 5 exercises related to the topics covered in the Matplotlib module of the AI Data course. Try to solve each exercise on your own. At the end of the notebook, you will find the solutions to compare your answers. If you have any doubts while solving the exercises, feel free to review the theoretical content of the course.\n",
        "\n",
        "Good luck and happy learning!"
      ]
    },
    {
      "cell_type": "markdown",
      "metadata": {
        "id": "udbayCNsPbmS"
      },
      "source": [
        "### Exercise 1: Create a simple line plot."
      ]
    },
    {
      "cell_type": "markdown",
      "metadata": {
        "id": "gP5E2khkPbmS"
      },
      "source": [
        "Use Matplotlib to create a simple line plot with x values ranging from 0 to 10 and y values being the square of x."
      ]
    },
    {
      "cell_type": "code",
      "execution_count": null,
      "metadata": {
        "id": "9gAvQREtPbmT"
      },
      "outputs": [],
      "source": [
        "import matplotlib.pyplot as plt\n",
        "import numpy as np\n",
        "\n",
        "x = np.arange(0, 11)\n",
        "# Your code here\n"
      ]
    },
    {
      "cell_type": "markdown",
      "metadata": {
        "id": "jTuEflDzPbmT"
      },
      "source": [
        "### Exercise 2: Create a scatter plot."
      ]
    },
    {
      "cell_type": "markdown",
      "metadata": {
        "id": "kuTIgk50PbmU"
      },
      "source": [
        "Use Matplotlib to create a scatter plot with 50 random x and y values."
      ]
    },
    {
      "cell_type": "code",
      "execution_count": null,
      "metadata": {
        "id": "36HqJR_SPbmU"
      },
      "outputs": [],
      "source": [
        "import matplotlib.pyplot as plt\n",
        "import numpy as np\n",
        "\n",
        "x = np.random.rand(50)\n",
        "y = np.random.rand(50)\n",
        "# Your code here\n"
      ]
    },
    {
      "cell_type": "markdown",
      "metadata": {
        "id": "q54woF31PbmU"
      },
      "source": [
        "### Exercise 3: Create a bar chart."
      ]
    },
    {
      "cell_type": "markdown",
      "metadata": {
        "id": "v3gmXrjIPbmU"
      },
      "source": [
        "Use Matplotlib to create a bar chart with categories A, B, C, D and their respective values 10, 15, 7, 10."
      ]
    },
    {
      "cell_type": "code",
      "execution_count": null,
      "metadata": {
        "id": "-WHQmsWpPbmV"
      },
      "outputs": [],
      "source": [
        "import matplotlib.pyplot as plt\n",
        "\n",
        "categories = ['A', 'B', 'C', 'D']\n",
        "values = [10, 15, 7, 10]\n",
        "# Your code here\n"
      ]
    },
    {
      "cell_type": "markdown",
      "metadata": {
        "id": "WgV0WkWhPbmV"
      },
      "source": [
        "### Exercise 4: Create a histogram."
      ]
    },
    {
      "cell_type": "markdown",
      "metadata": {
        "id": "ttN4Mj4QPbmV"
      },
      "source": [
        "Use Matplotlib to create a histogram of 1000 random values drawn from a normal distribution."
      ]
    },
    {
      "cell_type": "code",
      "execution_count": null,
      "metadata": {
        "id": "LX43WlCOPbmV"
      },
      "outputs": [],
      "source": [
        "import matplotlib.pyplot as plt\n",
        "import numpy as np\n",
        "\n",
        "values = np.random.randn(1000)\n",
        "# Your code here\n"
      ]
    },
    {
      "cell_type": "markdown",
      "metadata": {
        "id": "U-uxkNphPbmV"
      },
      "source": [
        "### Exercise 5: Create a pie chart."
      ]
    },
    {
      "cell_type": "markdown",
      "metadata": {
        "id": "QvR7fONMPbmV"
      },
      "source": [
        "Use Matplotlib to create a pie chart with the following data: ['Python', 'Java', 'C++', 'Ruby'], [40, 30, 20, 10]."
      ]
    },
    {
      "cell_type": "code",
      "execution_count": null,
      "metadata": {
        "id": "q_-z7OvsPbmV"
      },
      "outputs": [],
      "source": [
        "import matplotlib.pyplot as plt\n",
        "\n",
        "labels = ['Python', 'Java', 'C++', 'Ruby']\n",
        "sizes = [40, 30, 20, 10]\n",
        "# Your code here\n"
      ]
    },
    {
      "cell_type": "markdown",
      "metadata": {
        "id": "AUO_XnNyPbmW"
      },
      "source": [
        "## Solutions"
      ]
    },
    {
      "cell_type": "markdown",
      "metadata": {
        "id": "pO6kCySNPbmW"
      },
      "source": [
        "### Solution to Exercise 1: Create a simple line plot."
      ]
    },
    {
      "cell_type": "code",
      "execution_count": null,
      "metadata": {
        "id": "UweIAKjMPbmW"
      },
      "outputs": [],
      "source": [
        "import matplotlib.pyplot as plt\n",
        "import numpy as np\n",
        "\n",
        "x = np.arange(0, 11)\n",
        "y = x ** 2\n",
        "plt.plot(x, y)\n",
        "plt.xlabel('X values')\n",
        "plt.ylabel('Y values')\n",
        "plt.title('Simple Line Plot')\n",
        "plt.show()"
      ]
    },
    {
      "cell_type": "markdown",
      "metadata": {
        "id": "eIDfy5w8PbmW"
      },
      "source": [
        "### Solution to Exercise 2: Create a scatter plot."
      ]
    },
    {
      "cell_type": "code",
      "execution_count": null,
      "metadata": {
        "id": "O_N2vixQPbmW"
      },
      "outputs": [],
      "source": [
        "import matplotlib.pyplot as plt\n",
        "import numpy as np\n",
        "\n",
        "x = np.random.rand(50)\n",
        "y = np.random.rand(50)\n",
        "plt.scatter(x, y)\n",
        "plt.xlabel('X values')\n",
        "plt.ylabel('Y values')\n",
        "plt.title('Scatter Plot')\n",
        "plt.show()"
      ]
    },
    {
      "cell_type": "markdown",
      "metadata": {
        "id": "RyjwzNyhPbmW"
      },
      "source": [
        "### Solution to Exercise 3: Create a bar chart."
      ]
    },
    {
      "cell_type": "code",
      "execution_count": null,
      "metadata": {
        "id": "ID1qChHuPbmW"
      },
      "outputs": [],
      "source": [
        "import matplotlib.pyplot as plt\n",
        "\n",
        "categories = ['A', 'B', 'C', 'D']\n",
        "values = [10, 15, 7, 10]\n",
        "plt.bar(categories, values)\n",
        "plt.xlabel('Categories')\n",
        "plt.ylabel('Values')\n",
        "plt.title('Bar Chart')\n",
        "plt.show()"
      ]
    },
    {
      "cell_type": "markdown",
      "metadata": {
        "id": "3ECikCHiPbmW"
      },
      "source": [
        "### Solution to Exercise 4: Create a histogram."
      ]
    },
    {
      "cell_type": "code",
      "execution_count": null,
      "metadata": {
        "id": "gUqZXmvnPbmW"
      },
      "outputs": [],
      "source": [
        "import matplotlib.pyplot as plt\n",
        "import numpy as np\n",
        "\n",
        "values = np.random.randn(1000)\n",
        "plt.hist(values, bins=30)\n",
        "plt.xlabel('Value')\n",
        "plt.ylabel('Frequency')\n",
        "plt.title('Histogram')\n",
        "plt.show()"
      ]
    },
    {
      "cell_type": "markdown",
      "metadata": {
        "id": "OeaJez7QPbmX"
      },
      "source": [
        "### Solution to Exercise 5: Create a pie chart."
      ]
    },
    {
      "cell_type": "code",
      "execution_count": null,
      "metadata": {
        "id": "246VKtCaPbmX"
      },
      "outputs": [],
      "source": [
        "import matplotlib.pyplot as plt\n",
        "\n",
        "labels = ['Python', 'Java', 'C++', 'Ruby']\n",
        "sizes = [40, 30, 20, 10]\n",
        "plt.pie(sizes, labels=labels, autopct='%1.1f%%')\n",
        "plt.title('Pie Chart')\n",
        "plt.show()"
      ]
    }
  ],
  "metadata": {
    "kernelspec": {
      "display_name": "Python 3",
      "language": "python",
      "name": "python3"
    },
    "language_info": {
      "codemirror_mode": {
        "name": "ipython",
        "version": 3
      },
      "file_extension": ".py",
      "mimetype": "text/x-python",
      "name": "python",
      "nbconvert_exporter": "python",
      "pygments_lexer": "ipython3",
      "version": "3.8.5"
    },
    "colab": {
      "provenance": []
    }
  },
  "nbformat": 4,
  "nbformat_minor": 0
}