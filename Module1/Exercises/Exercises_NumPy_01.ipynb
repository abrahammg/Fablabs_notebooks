{
 "cells": [
  {
   "cell_type": "markdown",
   "metadata": {
    "id": "ZLhuuiZ3-6oE"
   },
   "source": [
    "# NumPy Practice Exercises\n",
    "\n",
    "Welcome to the NumPy practice exercises notebook. In this notebook, you will find 5 exercises related to the topics covered in the NumPy module of the AI Data course. Try to solve each exercise on your own. At the end of the notebook, you will find the solutions to compare your answers. If you have any doubts while solving the exercises, feel free to review the theoretical content of the course.\n",
    "\n",
    "Good luck and happy learning!"
   ]
  },
  {
   "cell_type": "markdown",
   "metadata": {
    "id": "oI6yiyq1-6oF"
   },
   "source": [
    "### Exercise 1: Create a one-dimensional array of numbers from 0 to 9 using NumPy."
   ]
  },
  {
   "cell_type": "markdown",
   "metadata": {
    "id": "SDY_hV68-6oF"
   },
   "source": [
    "Use the arange function from NumPy to create an array of consecutive numbers from 0 to 9."
   ]
  },
  {
   "cell_type": "code",
   "execution_count": null,
   "metadata": {
    "id": "4fgT77_k-6oF"
   },
   "outputs": [],
   "source": [
    "import numpy as np\n",
    "# Your code here\n"
   ]
  },
  {
   "cell_type": "markdown",
   "metadata": {
    "id": "IsIodHdg-6oG"
   },
   "source": [
    "### Exercise 2: Create a 3x3 matrix with values ranging from 0 to 8."
   ]
  },
  {
   "cell_type": "markdown",
   "metadata": {
    "id": "G_zM4CZF-6oG"
   },
   "source": [
    "Use the arange function and reshape method to create a 3x3 matrix."
   ]
  },
  {
   "cell_type": "code",
   "execution_count": null,
   "metadata": {
    "id": "6Qg8acOD-6oG"
   },
   "outputs": [],
   "source": [
    "import numpy as np\n",
    "# Your code here\n"
   ]
  },
  {
   "cell_type": "markdown",
   "metadata": {
    "id": "VsoQL4a8-6oG"
   },
   "source": [
    "### Exercise 3: Create a 3x3 identity matrix."
   ]
  },
  {
   "cell_type": "code",
   "execution_count": null,
   "metadata": {
    "id": "KdOyLQUCFwfH"
   },
   "outputs": [],
   "source": []
  },
  {
   "cell_type": "markdown",
   "metadata": {
    "id": "aEmJuBAp-6oG"
   },
   "source": [
    "Use the eye function from NumPy to create an identity matrix."
   ]
  },
  {
   "cell_type": "code",
   "execution_count": null,
   "metadata": {
    "id": "VfkjULXk-6oG"
   },
   "outputs": [],
   "source": [
    "import numpy as np\n",
    "# Your code here\n"
   ]
  },
  {
   "cell_type": "markdown",
   "metadata": {
    "id": "zDaVtiAh-6oG"
   },
   "source": [
    "### Exercise 4: Create a random array of size 10 and find the mean value."
   ]
  },
  {
   "cell_type": "markdown",
   "metadata": {
    "id": "E3U-ntxG-6oG"
   },
   "source": [
    "Generate a random array using the random function from NumPy and calculate its mean."
   ]
  },
  {
   "cell_type": "code",
   "execution_count": null,
   "metadata": {
    "id": "U0KJlpcb-6oG"
   },
   "outputs": [],
   "source": [
    "import numpy as np\n",
    "# Your code here\n"
   ]
  },
  {
   "cell_type": "markdown",
   "metadata": {
    "id": "71foyjEK-6oH"
   },
   "source": [
    "### Exercise 5: Create an array of 20 linearly spaced points between 0 and 1."
   ]
  },
  {
   "cell_type": "markdown",
   "metadata": {
    "id": "mh4jCoSa-6oH"
   },
   "source": [
    "Use the linspace function to generate an array of linearly spaced points."
   ]
  },
  {
   "cell_type": "code",
   "execution_count": null,
   "metadata": {
    "id": "WKj5XvwG-6oH"
   },
   "outputs": [],
   "source": [
    "import numpy as np\n",
    "# Your code here\n"
   ]
  },
  {
   "cell_type": "markdown",
   "metadata": {
    "id": "kCbDJi5V-6oH"
   },
   "source": [
    "## Solutions"
   ]
  },
  {
   "cell_type": "markdown",
   "metadata": {
    "id": "t3PJjBRl-6oH"
   },
   "source": [
    "### Solution to Exercise 1: Create a one-dimensional array of numbers from 0 to 9 using NumPy."
   ]
  },
  {
   "cell_type": "code",
   "execution_count": null,
   "metadata": {
    "id": "7d6J74FB-6oH"
   },
   "outputs": [],
   "source": [
    "import numpy as np\n",
    "array = np.arange(10)\n",
    "print(array)"
   ]
  },
  {
   "cell_type": "markdown",
   "metadata": {
    "id": "Lkk03-9h-6oH"
   },
   "source": [
    "### Solution to Exercise 2: Create a 3x3 matrix with values ranging from 0 to 8."
   ]
  },
  {
   "cell_type": "code",
   "execution_count": null,
   "metadata": {
    "id": "HmcYmw2E-6oH"
   },
   "outputs": [],
   "source": [
    "import numpy as np\n",
    "matrix = np.arange(9).reshape(3, 3)\n",
    "print(matrix)"
   ]
  },
  {
   "cell_type": "markdown",
   "metadata": {
    "id": "gXc7HcsF-6oH"
   },
   "source": [
    "### Solution to Exercise 3: Create a 3x3 identity matrix."
   ]
  },
  {
   "cell_type": "code",
   "execution_count": null,
   "metadata": {
    "id": "Xky91ihS-6oH"
   },
   "outputs": [],
   "source": [
    "import numpy as np\n",
    "identity_matrix = np.eye(3)\n",
    "print(identity_matrix)"
   ]
  },
  {
   "cell_type": "markdown",
   "metadata": {
    "id": "IUsyKRoP-6oH"
   },
   "source": [
    "### Solution to Exercise 4: Create a random array of size 10 and find the mean value."
   ]
  },
  {
   "cell_type": "code",
   "execution_count": null,
   "metadata": {
    "id": "mXmbhtTL-6oH"
   },
   "outputs": [],
   "source": [
    "import numpy as np\n",
    "random_array = np.random.rand(10)\n",
    "mean_value = np.mean(random_array)\n",
    "print(mean_value)"
   ]
  },
  {
   "cell_type": "markdown",
   "metadata": {
    "id": "vCiSj33I-6oI"
   },
   "source": [
    "### Solution to Exercise 5: Create an array of 20 linearly spaced points between 0 and 1."
   ]
  },
  {
   "cell_type": "code",
   "execution_count": null,
   "metadata": {
    "id": "ku6bJHwE-6oI"
   },
   "outputs": [],
   "source": [
    "import numpy as np\n",
    "linspace_array = np.linspace(0, 1, 20)\n",
    "print(linspace_array)"
   ]
  }
 ],
 "metadata": {
  "colab": {
   "provenance": []
  },
  "kernelspec": {
   "display_name": "Python 3 (ipykernel)",
   "language": "python",
   "name": "python3"
  },
  "language_info": {
   "codemirror_mode": {
    "name": "ipython",
    "version": 3
   },
   "file_extension": ".py",
   "mimetype": "text/x-python",
   "name": "python",
   "nbconvert_exporter": "python",
   "pygments_lexer": "ipython3",
   "version": "3.12.3"
  }
 },
 "nbformat": 4,
 "nbformat_minor": 4
}
