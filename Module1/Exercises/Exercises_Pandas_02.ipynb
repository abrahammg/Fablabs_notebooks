{
  "cells": [
    {
      "cell_type": "markdown",
      "metadata": {
        "id": "p6rdUtzQV22x"
      },
      "source": [
        "# Pandas Practice Exercises\n",
        "\n",
        "Welcome to the Pandas practice exercises notebook. In this notebook, you will find 5 exercises related to the topics covered in the Pandas module of the AI Data course. Try to solve each exercise on your own. At the end of the notebook, you will find the solutions to compare your answers. If you have any doubts while solving the exercises, feel free to review the theoretical content of the course.\n",
        "\n",
        "Good luck and happy learning!"
      ]
    },
    {
      "cell_type": "markdown",
      "metadata": {
        "id": "x6f3TPSLV222"
      },
      "source": [
        "### Exercise 1: Read a CSV file into a DataFrame."
      ]
    },
    {
      "cell_type": "markdown",
      "metadata": {
        "id": "JL24bUf5V223"
      },
      "source": [
        "Use the read_csv function from Pandas to read the data from a CSV file named 'data.csv'."
      ]
    },
    {
      "cell_type": "code",
      "execution_count": null,
      "metadata": {
        "id": "vqBsfLgxV224"
      },
      "outputs": [],
      "source": [
        "import pandas as pd\n",
        "\n",
        "# Your code here\n"
      ]
    },
    {
      "cell_type": "markdown",
      "metadata": {
        "id": "B4PjVCHzV225"
      },
      "source": [
        "### Exercise 2: Display the summary statistics of the DataFrame."
      ]
    },
    {
      "cell_type": "markdown",
      "metadata": {
        "id": "-qKEJx1PV225"
      },
      "source": [
        "Use the describe method to display the summary statistics of the DataFrame."
      ]
    },
    {
      "cell_type": "code",
      "execution_count": null,
      "metadata": {
        "id": "pSawDy5XV226"
      },
      "outputs": [],
      "source": [
        "import pandas as pd\n",
        "\n",
        "df = pd.read_csv('data.csv')\n",
        "# Your code here\n"
      ]
    },
    {
      "cell_type": "markdown",
      "metadata": {
        "id": "isDxcvn7V226"
      },
      "source": [
        "### Exercise 3: Sort the DataFrame by the 'Age' column in descending order."
      ]
    },
    {
      "cell_type": "markdown",
      "metadata": {
        "id": "WRRrHAOPV227"
      },
      "source": [
        "Use the sort_values method to sort the DataFrame by the 'Age' column."
      ]
    },
    {
      "cell_type": "code",
      "execution_count": null,
      "metadata": {
        "id": "SLkV3LT2V227"
      },
      "outputs": [],
      "source": [
        "import pandas as pd\n",
        "\n",
        "df = pd.read_csv('data.csv')\n",
        "# Your code here\n"
      ]
    },
    {
      "cell_type": "markdown",
      "metadata": {
        "id": "vyV9hYEWV228"
      },
      "source": [
        "### Exercise 4: Group the DataFrame by the 'City' column and calculate the mean age for each city."
      ]
    },
    {
      "cell_type": "markdown",
      "metadata": {
        "id": "-_KkNqNOV228"
      },
      "source": [
        "Use the groupby method to group the DataFrame by 'City' and calculate the mean age."
      ]
    },
    {
      "cell_type": "code",
      "execution_count": null,
      "metadata": {
        "id": "k4a5I3MJV228"
      },
      "outputs": [],
      "source": [
        "import pandas as pd\n",
        "\n",
        "df = pd.read_csv('data.csv')\n",
        "# Your code here\n"
      ]
    },
    {
      "cell_type": "markdown",
      "metadata": {
        "id": "kGuX-VKBV228"
      },
      "source": [
        "### Exercise 5: Save the DataFrame to a new CSV file named 'sorted_data.csv'."
      ]
    },
    {
      "cell_type": "markdown",
      "metadata": {
        "id": "SXI3-ua5V229"
      },
      "source": [
        "Use the to_csv method to save the DataFrame to a new CSV file."
      ]
    },
    {
      "cell_type": "code",
      "execution_count": null,
      "metadata": {
        "id": "Ejz4Dn0QV229"
      },
      "outputs": [],
      "source": [
        "import pandas as pd\n",
        "\n",
        "df = pd.read_csv('data.csv')\n",
        "# Your code here\n"
      ]
    },
    {
      "cell_type": "markdown",
      "metadata": {
        "id": "xK6qHB8_V229"
      },
      "source": [
        "## Solutions"
      ]
    },
    {
      "cell_type": "markdown",
      "metadata": {
        "id": "Sdx94JvYV229"
      },
      "source": [
        "### Solution to Exercise 1: Read a CSV file into a DataFrame."
      ]
    },
    {
      "cell_type": "code",
      "execution_count": null,
      "metadata": {
        "id": "KXUhRV2wV229"
      },
      "outputs": [],
      "source": [
        "import pandas as pd\n",
        "\n",
        "df = pd.read_csv('data.csv')\n",
        "print(df.head())"
      ]
    },
    {
      "cell_type": "markdown",
      "metadata": {
        "id": "mOdohNPwV229"
      },
      "source": [
        "### Solution to Exercise 2: Display the summary statistics of the DataFrame."
      ]
    },
    {
      "cell_type": "code",
      "execution_count": null,
      "metadata": {
        "id": "Pmnhrcc3V22-"
      },
      "outputs": [],
      "source": [
        "import pandas as pd\n",
        "\n",
        "df = pd.read_csv('data.csv')\n",
        "\n",
        "summary_statistics = df.describe()\n",
        "print(summary_statistics)"
      ]
    },
    {
      "cell_type": "markdown",
      "metadata": {
        "id": "BIfjk8w0V22-"
      },
      "source": [
        "### Solution to Exercise 3: Sort the DataFrame by the 'Age' column in descending order."
      ]
    },
    {
      "cell_type": "code",
      "execution_count": null,
      "metadata": {
        "id": "weB35gKHV22-"
      },
      "outputs": [],
      "source": [
        "import pandas as pd\n",
        "\n",
        "df = pd.read_csv('data.csv')\n",
        "\n",
        "sorted_df = df.sort_values(by='Age', ascending=False)\n",
        "print(sorted_df)"
      ]
    },
    {
      "cell_type": "markdown",
      "metadata": {
        "id": "R6OwDKKMV22-"
      },
      "source": [
        "### Solution to Exercise 4: Group the DataFrame by the 'City' column and calculate the mean age for each city."
      ]
    },
    {
      "cell_type": "code",
      "execution_count": null,
      "metadata": {
        "id": "XDYafUveV22-"
      },
      "outputs": [],
      "source": [
        "import pandas as pd\n",
        "\n",
        "df = pd.read_csv('data.csv')\n",
        "\n",
        "grouped_df = df.groupby('City')['Age'].mean()\n",
        "print(grouped_df)"
      ]
    },
    {
      "cell_type": "markdown",
      "metadata": {
        "id": "adanN7fsV22-"
      },
      "source": [
        "### Solution to Exercise 5: Save the DataFrame to a new CSV file named 'sorted_data.csv'."
      ]
    },
    {
      "cell_type": "code",
      "execution_count": null,
      "metadata": {
        "id": "7CpGf6xWV22_"
      },
      "outputs": [],
      "source": [
        "import pandas as pd\n",
        "\n",
        "df = pd.read_csv('data.csv')\n",
        "\n",
        "df.to_csv('sorted_data.csv', index=False)\n",
        "print('DataFrame saved to sorted_data.csv')"
      ]
    }
  ],
  "metadata": {
    "kernelspec": {
      "display_name": "Python 3",
      "language": "python",
      "name": "python3"
    },
    "language_info": {
      "codemirror_mode": {
        "name": "ipython",
        "version": 3
      },
      "file_extension": ".py",
      "mimetype": "text/x-python",
      "name": "python",
      "nbconvert_exporter": "python",
      "pygments_lexer": "ipython3",
      "version": "3.8.5"
    },
    "colab": {
      "provenance": []
    }
  },
  "nbformat": 4,
  "nbformat_minor": 0
}