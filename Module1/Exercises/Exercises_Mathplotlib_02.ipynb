{
  "cells": [
    {
      "cell_type": "markdown",
      "metadata": {
        "id": "FxfnQKqlV9oV"
      },
      "source": [
        "# Matplotlib Practice Exercises\n",
        "\n",
        "Welcome to the Matplotlib practice exercises notebook. In this notebook, you will find 5 exercises related to the topics covered in the Matplotlib module of the AI Data course. Try to solve each exercise on your own. At the end of the notebook, you will find the solutions to compare your answers. If you have any doubts while solving the exercises, feel free to review the theoretical content of the course.\n",
        "\n",
        "Good luck and happy learning!"
      ]
    },
    {
      "cell_type": "markdown",
      "metadata": {
        "id": "OT0CIlt6V9oY"
      },
      "source": [
        "### Exercise 1: Create a multi-line plot."
      ]
    },
    {
      "cell_type": "markdown",
      "metadata": {
        "id": "YnNm1qE8V9oY"
      },
      "source": [
        "Use Matplotlib to create a multi-line plot with x values ranging from 0 to 10 and two y values: y1 = x and y2 = x^2."
      ]
    },
    {
      "cell_type": "code",
      "execution_count": null,
      "metadata": {
        "id": "Nil_cEioV9oZ"
      },
      "outputs": [],
      "source": [
        "import matplotlib.pyplot as plt\n",
        "import numpy as np\n",
        "\n",
        "x = np.arange(0, 11)\n",
        "# Your code here\n"
      ]
    },
    {
      "cell_type": "markdown",
      "metadata": {
        "id": "Qe4DEiVyV9oZ"
      },
      "source": [
        "### Exercise 2: Create a histogram with different bin sizes."
      ]
    },
    {
      "cell_type": "markdown",
      "metadata": {
        "id": "gxZFSaQ3V9oa"
      },
      "source": [
        "Use Matplotlib to create a histogram of 1000 random values drawn from a normal distribution with 10 and 50 bins."
      ]
    },
    {
      "cell_type": "code",
      "execution_count": null,
      "metadata": {
        "id": "vqaoqEySV9oa"
      },
      "outputs": [],
      "source": [
        "import matplotlib.pyplot as plt\n",
        "import numpy as np\n",
        "\n",
        "values = np.random.randn(1000)\n",
        "# Your code here\n"
      ]
    },
    {
      "cell_type": "markdown",
      "metadata": {
        "id": "Bg1-p5_rV9oa"
      },
      "source": [
        "### Exercise 3: Create a horizontal bar chart."
      ]
    },
    {
      "cell_type": "markdown",
      "metadata": {
        "id": "CVBCSxhuV9oa"
      },
      "source": [
        "Use Matplotlib to create a horizontal bar chart with categories A, B, C, D and their respective values 10, 15, 7, 10."
      ]
    },
    {
      "cell_type": "code",
      "execution_count": null,
      "metadata": {
        "id": "InqqmQj2V9ob"
      },
      "outputs": [],
      "source": [
        "import matplotlib.pyplot as plt\n",
        "\n",
        "categories = ['A', 'B', 'C', 'D']\n",
        "values = [10, 15, 7, 10]\n",
        "# Your code here\n"
      ]
    },
    {
      "cell_type": "markdown",
      "metadata": {
        "id": "Wx5Y02liV9ob"
      },
      "source": [
        "### Exercise 4: Create a pie chart with explosion."
      ]
    },
    {
      "cell_type": "markdown",
      "metadata": {
        "id": "5vsUo-CMV9ob"
      },
      "source": [
        "Use Matplotlib to create a pie chart with the following data: ['Python', 'Java', 'C++', 'Ruby'], [40, 30, 20, 10] and explode the 'Python' slice."
      ]
    },
    {
      "cell_type": "code",
      "execution_count": null,
      "metadata": {
        "id": "a9TpgNUZV9ob"
      },
      "outputs": [],
      "source": [
        "import matplotlib.pyplot as plt\n",
        "\n",
        "labels = ['Python', 'Java', 'C++', 'Ruby']\n",
        "sizes = [40, 30, 20, 10]\n",
        "# Your code here\n"
      ]
    },
    {
      "cell_type": "markdown",
      "metadata": {
        "id": "GZWLDPwLV9ob"
      },
      "source": [
        "### Exercise 5: Create a box plot."
      ]
    },
    {
      "cell_type": "markdown",
      "metadata": {
        "id": "tVKwYUt8V9ob"
      },
      "source": [
        "Use Matplotlib to create a box plot of 1000 random values drawn from a normal distribution."
      ]
    },
    {
      "cell_type": "code",
      "execution_count": null,
      "metadata": {
        "id": "9mHezBKrV9ob"
      },
      "outputs": [],
      "source": [
        "import matplotlib.pyplot as plt\n",
        "import numpy as np\n",
        "\n",
        "values = np.random.randn(1000)\n",
        "# Your code here\n"
      ]
    },
    {
      "cell_type": "markdown",
      "metadata": {
        "id": "_PD6oSwpV9oc"
      },
      "source": [
        "## Solutions"
      ]
    },
    {
      "cell_type": "markdown",
      "metadata": {
        "id": "HFHEyGHEV9oc"
      },
      "source": [
        "### Solution to Exercise 1: Create a multi-line plot."
      ]
    },
    {
      "cell_type": "code",
      "execution_count": null,
      "metadata": {
        "id": "OdYNnLytV9oc"
      },
      "outputs": [],
      "source": [
        "import matplotlib.pyplot as plt\n",
        "import numpy as np\n",
        "\n",
        "x = np.arange(0, 11)\n",
        "y1 = x\n",
        "y2 = x ** 2\n",
        "plt.plot(x, y1, label='y = x')\n",
        "plt.plot(x, y2, label='y = x^2')\n",
        "plt.xlabel('X values')\n",
        "plt.ylabel('Y values')\n",
        "plt.title('Multi-line Plot')\n",
        "plt.legend()\n",
        "plt.show()"
      ]
    },
    {
      "cell_type": "markdown",
      "metadata": {
        "id": "sgVQtIA4V9oc"
      },
      "source": [
        "### Solution to Exercise 2: Create a histogram with different bin sizes."
      ]
    },
    {
      "cell_type": "code",
      "execution_count": null,
      "metadata": {
        "id": "LHECjhFnV9oc"
      },
      "outputs": [],
      "source": [
        "import matplotlib.pyplot as plt\n",
        "import numpy as np\n",
        "\n",
        "values = np.random.randn(1000)\n",
        "plt.figure(figsize=(12, 6))\n",
        "plt.subplot(1, 2, 1)\n",
        "plt.hist(values, bins=10)\n",
        "plt.title('Histogram with 10 bins')\n",
        "plt.subplot(1, 2, 2)\n",
        "plt.hist(values, bins=50)\n",
        "plt.title('Histogram with 50 bins')\n",
        "plt.show()"
      ]
    },
    {
      "cell_type": "markdown",
      "metadata": {
        "id": "anzUqd-rV9oc"
      },
      "source": [
        "### Solution to Exercise 3: Create a horizontal bar chart."
      ]
    },
    {
      "cell_type": "code",
      "execution_count": null,
      "metadata": {
        "id": "mEx6ahM1V9oc"
      },
      "outputs": [],
      "source": [
        "import matplotlib.pyplot as plt\n",
        "\n",
        "categories = ['A', 'B', 'C', 'D']\n",
        "values = [10, 15, 7, 10]\n",
        "plt.barh(categories, values)\n",
        "plt.xlabel('Values')\n",
        "plt.ylabel('Categories')\n",
        "plt.title('Horizontal Bar Chart')\n",
        "plt.show()"
      ]
    },
    {
      "cell_type": "markdown",
      "metadata": {
        "id": "95UpGnzeV9oc"
      },
      "source": [
        "### Solution to Exercise 4: Create a pie chart with explosion."
      ]
    },
    {
      "cell_type": "code",
      "execution_count": null,
      "metadata": {
        "id": "6QTCELWVV9oc"
      },
      "outputs": [],
      "source": [
        "import matplotlib.pyplot as plt\n",
        "\n",
        "labels = ['Python', 'Java', 'C++', 'Ruby']\n",
        "sizes = [40, 30, 20, 10]\n",
        "explode = (0.1, 0, 0, 0)\n",
        "plt.pie(sizes, labels=labels, explode=explode, autopct='%1.1f%%')\n",
        "plt.title('Pie Chart with Explosion')\n",
        "plt.show()"
      ]
    },
    {
      "cell_type": "markdown",
      "metadata": {
        "id": "uJBixUJQV9od"
      },
      "source": [
        "### Solution to Exercise 5: Create a box plot."
      ]
    },
    {
      "cell_type": "code",
      "execution_count": null,
      "metadata": {
        "id": "BV5QoH-tV9od"
      },
      "outputs": [],
      "source": [
        "import matplotlib.pyplot as plt\n",
        "import numpy as np\n",
        "\n",
        "values = np.random.randn(1000)\n",
        "plt.boxplot(values)\n",
        "plt.title('Box Plot')\n",
        "plt.show()"
      ]
    }
  ],
  "metadata": {
    "kernelspec": {
      "display_name": "Python 3",
      "language": "python",
      "name": "python3"
    },
    "language_info": {
      "codemirror_mode": {
        "name": "ipython",
        "version": 3
      },
      "file_extension": ".py",
      "mimetype": "text/x-python",
      "name": "python",
      "nbconvert_exporter": "python",
      "pygments_lexer": "ipython3",
      "version": "3.8.5"
    },
    "colab": {
      "provenance": []
    }
  },
  "nbformat": 4,
  "nbformat_minor": 0
}