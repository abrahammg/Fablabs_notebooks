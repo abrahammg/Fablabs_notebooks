{
 "cells": [
  {
   "cell_type": "markdown",
   "metadata": {
    "id": "6bRBuBpZhviY"
   },
   "source": [
    "# Basic Operations with Pandas\n",
    "\n",
    "Welcome back to our Pandas course module. In this section, we will delve into basic operations with Pandas, which are essential for any data manipulation and analysis tasks. These operations include reading and writing data, selecting and indexing data, filtering, and modifying data. Let's get started!\n"
   ]
  },
  {
   "cell_type": "markdown",
   "metadata": {
    "id": "5X3sOHGphviZ"
   },
   "source": [
    "## Reading and Writing Data\n",
    "\n",
    "One of the most common tasks you'll perform with Pandas is reading data from various file formats and writing data back to these formats. Pandas supports multiple file types, but we'll focus on CSV (Comma Separated Values) files, as they are widely used.\n",
    "\n",
    "To read a CSV file into a Pandas DataFrame, use the `read_csv` function:"
   ]
  },
  {
   "cell_type": "code",
   "execution_count": null,
   "metadata": {
    "id": "lMMPW6sthviZ"
   },
   "outputs": [],
   "source": [
    "# Importing Pandas\n",
    "import pandas as pd\n",
    "\n",
    "# Reading a CSV file\n",
    "df = pd.read_csv('data/sample_data.csv')\n",
    "print(df.head())  # Display the first few rows of the DataFrame\n"
   ]
  },
  {
   "cell_type": "markdown",
   "metadata": {
    "id": "XXfZc5wThvib"
   },
   "source": [
    "Similarly, to write a DataFrame to a CSV file, use the `to_csv` function:"
   ]
  },
  {
   "cell_type": "code",
   "execution_count": null,
   "metadata": {
    "id": "GUJCLF0phvib"
   },
   "outputs": [],
   "source": [
    "# Writing a DataFrame to a CSV file\n",
    "df.to_csv('path_to_your_output_file.csv', index=False)\n"
   ]
  },
  {
   "cell_type": "markdown",
   "metadata": {
    "id": "p7x2uFXOhvib"
   },
   "source": [
    "## Selecting and Indexing Data\n",
    "\n",
    "Pandas provides various methods to select and index data within a DataFrame. The two primary methods are `.loc` and `.iloc`.\n",
    "\n",
    "- **.loc**: Selects data by labels (index and column names).\n",
    "- **.iloc**: Selects data by integer location (position).\n",
    "\n",
    "Here’s how you can use these methods:"
   ]
  },
  {
   "cell_type": "code",
   "execution_count": null,
   "metadata": {
    "id": "grITReHnhvic"
   },
   "outputs": [],
   "source": [
    "# Selecting a single column using .loc\n",
    "print(df.loc[:, 'Name'])\n",
    "print(\"----\")\n",
    "\n",
    "# Selecting multiple columns using .loc\n",
    "print(df.loc[:, ['Name', 'Age']])\n",
    "print(\"----\")\n",
    "\n",
    "# Selecting rows by index using .iloc\n",
    "print(df.iloc[0])  # First row\n",
    "print(df.iloc[0:2])  # First two rows\n"
   ]
  },
  {
   "cell_type": "markdown",
   "metadata": {
    "id": "2KHxdViJhvic"
   },
   "source": [
    "## Filtering Data\n",
    "\n",
    "Filtering data is crucial for narrowing down your dataset to specific conditions. You can filter rows based on one or more conditions using Boolean indexing.\n",
    "\n",
    "For example, to filter rows where the age is greater than 23:"
   ]
  },
  {
   "cell_type": "code",
   "execution_count": null,
   "metadata": {
    "id": "5dbNZM-ohvic"
   },
   "outputs": [],
   "source": [
    "# Filtering rows based on a condition\n",
    "df_filtered = df[df['Age'] > 23]\n",
    "print(df_filtered)\n"
   ]
  },
  {
   "cell_type": "markdown",
   "metadata": {
    "id": "gUeywOhthvic"
   },
   "source": [
    "You can also combine multiple conditions using logical operators:"
   ]
  },
  {
   "cell_type": "code",
   "execution_count": null,
   "metadata": {
    "id": "90cu53ePhvic"
   },
   "outputs": [],
   "source": [
    "# Filtering rows based on multiple conditions\n",
    "df_filtered = df[(df['Age'] > 23) & (df['City'] == 'Vigo')]\n",
    "print(df_filtered)\n"
   ]
  },
  {
   "cell_type": "markdown",
   "metadata": {
    "id": "-qRgaXQPhvid"
   },
   "source": [
    "## Summary\n",
    "\n",
    "In this section, we covered the fundamental operations you'll need to work effectively with Pandas. These skills form the foundation for more advanced data analysis and manipulation tasks. Practice these operations with your own datasets to become more comfortable with them.\n",
    "\n",
    "Next, we will explore data analysis and manipulation techniques in Pandas, which will help you derive meaningful insights from your data. Stay tuned!"
   ]
  }
 ],
 "metadata": {
  "colab": {
   "provenance": []
  },
  "kernelspec": {
   "display_name": "Python 3 (ipykernel)",
   "language": "python",
   "name": "python3"
  },
  "language_info": {
   "codemirror_mode": {
    "name": "ipython",
    "version": 3
   },
   "file_extension": ".py",
   "mimetype": "text/x-python",
   "name": "python",
   "nbconvert_exporter": "python",
   "pygments_lexer": "ipython3",
   "version": "3.12.3"
  }
 },
 "nbformat": 4,
 "nbformat_minor": 4
}
