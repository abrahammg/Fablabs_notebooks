{
  "cells": [
    {
      "cell_type": "markdown",
      "metadata": {
        "id": "XxZlxKHHT_2O"
      },
      "source": [
        "### Introduction to Pandas\n",
        "\n",
        "Welcome to the module on Pandas, a powerful data manipulation and analysis library for Python. In this session, we will explore the basics of Pandas and how it can be used to efficiently handle and analyze data."
      ]
    },
    {
      "cell_type": "markdown",
      "metadata": {
        "id": "dVTq50sXT_2Q"
      },
      "source": [
        "#### What is Pandas?\n",
        "\n",
        "Pandas is an open-source data analysis and manipulation library built on top of the Python programming language. It provides data structures and functions needed to work with structured data seamlessly. The name \"Pandas\" is derived from the term \"panel data,\" which refers to multidimensional data."
      ]
    },
    {
      "cell_type": "markdown",
      "metadata": {
        "id": "eyMX_abbT_2R"
      },
      "source": [
        "#### Why Use Pandas?\n",
        "\n",
        "Pandas is highly favored for its ability to:\n",
        "- Handle large amounts of data efficiently.\n",
        "- Perform data cleaning and preprocessing.\n",
        "- Provide powerful data aggregation and transformation tools.\n",
        "- Integrate seamlessly with other Python libraries, such as NumPy, Matplotlib, and Scikit-Learn."
      ]
    },
    {
      "cell_type": "markdown",
      "metadata": {
        "id": "GalaO0A0T_2R"
      },
      "source": [
        "#### Installing Pandas\n",
        "\n",
        "To get started with Pandas, you need to have it installed on your system. You can install it using pip, Python’s package installer, with the following command:"
      ]
    },
    {
      "cell_type": "code",
      "metadata": {
        "colab": {
          "base_uri": "https://localhost:8080/"
        },
        "id": "F0Jv1AtDT_2S",
        "outputId": "5af63368-f0cb-42a6-dfd0-b272b4c8ca63"
      },
      "source": [
        "!pip install pandas"
      ],
      "execution_count": null,
      "outputs": [
        {
          "output_type": "stream",
          "name": "stdout",
          "text": [
            "Requirement already satisfied: pandas in /usr/local/lib/python3.10/dist-packages (2.0.3)\n",
            "Requirement already satisfied: python-dateutil>=2.8.2 in /usr/local/lib/python3.10/dist-packages (from pandas) (2.8.2)\n",
            "Requirement already satisfied: pytz>=2020.1 in /usr/local/lib/python3.10/dist-packages (from pandas) (2023.4)\n",
            "Requirement already satisfied: tzdata>=2022.1 in /usr/local/lib/python3.10/dist-packages (from pandas) (2024.1)\n",
            "Requirement already satisfied: numpy>=1.21.0 in /usr/local/lib/python3.10/dist-packages (from pandas) (1.25.2)\n",
            "Requirement already satisfied: six>=1.5 in /usr/local/lib/python3.10/dist-packages (from python-dateutil>=2.8.2->pandas) (1.16.0)\n"
          ]
        }
      ]
    },
    {
      "cell_type": "markdown",
      "metadata": {
        "id": "Ik2cB4yVT_2S"
      },
      "source": [
        "Once installed, you can import it into your Python environment:"
      ]
    },
    {
      "cell_type": "code",
      "metadata": {
        "id": "Nc817gt2T_2T"
      },
      "source": [
        "import pandas as pd"
      ],
      "execution_count": null,
      "outputs": []
    },
    {
      "cell_type": "markdown",
      "metadata": {
        "id": "EJ8WvUnET_2T"
      },
      "source": [
        "#### Exploring Pandas Data Structures\n",
        "\n",
        "Pandas primarily uses two data structures: Series and DataFrame. Let's take a quick look at each.\n",
        "\n",
        "**Series:** A one-dimensional labeled array capable of holding any data type. It is similar to a column in an Excel spreadsheet."
      ]
    },
    {
      "cell_type": "code",
      "metadata": {
        "colab": {
          "base_uri": "https://localhost:8080/"
        },
        "id": "BJyXY8EfT_2T",
        "outputId": "1a7fbb59-63b7-4e86-a1c0-f7c8b0450f51"
      },
      "source": [
        "# Creating a Series\n",
        "serie = pd.Series([1, 2, 3, 4, 5])\n",
        "print(serie)"
      ],
      "execution_count": null,
      "outputs": [
        {
          "output_type": "stream",
          "name": "stdout",
          "text": [
            "0    1\n",
            "1    2\n",
            "2    3\n",
            "3    4\n",
            "4    5\n",
            "dtype: int64\n"
          ]
        }
      ]
    },
    {
      "cell_type": "markdown",
      "metadata": {
        "id": "PzyTIfN5T_2T"
      },
      "source": [
        "**DataFrame:** A two-dimensional labeled data structure with columns of potentially different types. It can be thought of as a table, similar to an Excel spreadsheet or a SQL table."
      ]
    },
    {
      "cell_type": "code",
      "metadata": {
        "colab": {
          "base_uri": "https://localhost:8080/"
        },
        "id": "YHVXqc2NT_2U",
        "outputId": "9517e180-2380-4bde-d6ea-7827bf102d1e"
      },
      "source": [
        "# Creating a DataFrame\n",
        "data = {\n",
        "    'Name': ['Ana', 'Brais', 'Carlos', 'Diana'],\n",
        "    'Age': [23, 24, 22, 25],\n",
        "    'City': ['Santiago', 'Vigo', 'Ourense', 'Lugo']\n",
        "}\n",
        "dataframe = pd.DataFrame(data)\n",
        "print(dataframe)"
      ],
      "execution_count": null,
      "outputs": [
        {
          "output_type": "stream",
          "name": "stdout",
          "text": [
            "     Name  Age      City\n",
            "0     Ana   23  Santiago\n",
            "1   Brais   24      Vigo\n",
            "2  Carlos   22   Ourense\n",
            "3   Diana   25      Lugo\n"
          ]
        }
      ]
    },
    {
      "cell_type": "markdown",
      "metadata": {
        "id": "cZ3YKBqtT_2U"
      },
      "source": [
        "#### Course Outline\n",
        "\n",
        "Throughout this course, we will cover the following key areas:\n",
        "\n",
        "1. **Basic Operations with Pandas:**\n",
        "   - Reading and writing data to files (CSV, Excel).\n",
        "   - Selecting and indexing data.\n",
        "   - Filtering and modifying data.\n",
        "\n",
        "2. **Data Analysis and Manipulation:**\n",
        "   - Grouping and aggregating data.\n",
        "   - Merging and joining DataFrames.\n",
        "   - Performing basic statistical operations.\n",
        "\n",
        "3. **Data Visualization:**\n",
        "   - Creating basic plots using Pandas.\n",
        "   - Visualizing data trends and distributions.\n",
        "\n",
        "By the end of this module, you will have a solid understanding of how to use Pandas to manage and analyze data effectively.\n",
        "\n",
        "Let's dive in and start exploring the capabilities of Pandas!"
      ]
    }
  ],
  "metadata": {
    "kernelspec": {
      "display_name": "Python 3",
      "language": "python",
      "name": "python3"
    },
    "language_info": {
      "codemirror_mode": {
        "name": "ipython",
        "version": 3
      },
      "file_extension": ".py",
      "mimetype": "text/x-python",
      "name": "python",
      "pygments_lexer": "ipython3",
      "version": "3.8.5"
    },
    "colab": {
      "provenance": []
    }
  },
  "nbformat": 4,
  "nbformat_minor": 0
}