{
 "cells": [
  {
   "cell_type": "markdown",
   "metadata": {
    "id": "lxLUn6QmW5H6"
   },
   "source": [
    "# Data Structures in Pandas\n",
    "\n",
    "Welcome back to our Pandas course module. In this section, we will explore the core data structures in Pandas: Series and DataFrames. Understanding these structures is crucial as they form the foundation of data manipulation and analysis in Pandas. Let's dive in!"
   ]
  },
  {
   "cell_type": "markdown",
   "metadata": {
    "id": "-kTq4FkfW5H7"
   },
   "source": [
    "## Series\n",
    "\n",
    "A Series is a one-dimensional labeled array that can hold any data type, such as integers, strings, floats, and even Python objects. Think of a Series as a single column in an Excel spreadsheet. Each element in a Series is assigned a label, also known as an index."
   ]
  },
  {
   "cell_type": "code",
   "execution_count": null,
   "metadata": {
    "colab": {
     "base_uri": "https://localhost:8080/"
    },
    "id": "lx79tdv5W5H8",
    "outputId": "d98bc1fd-258a-42c7-9d92-5628d6524fb8"
   },
   "outputs": [],
   "source": [
    "import pandas as pd\n",
    "\n",
    "# Creating a Series\n",
    "serie = pd.Series([1, 2, 3, 4, 5])\n",
    "print(serie)"
   ]
  },
  {
   "cell_type": "markdown",
   "metadata": {
    "id": "WAslBlD-W5H8"
   },
   "source": [
    "In this example, we create a Series from a list of numbers. Pandas automatically generates an integer index starting from 0. You can also specify custom indices:"
   ]
  },
  {
   "cell_type": "code",
   "execution_count": null,
   "metadata": {
    "colab": {
     "base_uri": "https://localhost:8080/"
    },
    "id": "6VK6kZEFW5H9",
    "outputId": "fe574c96-f4d2-4477-d061-b881932b6bf9"
   },
   "outputs": [],
   "source": [
    "# Creating a Series with custom indices\n",
    "serie_custom_index = pd.Series([1, 2, 3, 4, 5], index=['a', 'b', 'c', 'd', 'e'])\n",
    "print(serie_custom_index)"
   ]
  },
  {
   "cell_type": "markdown",
   "metadata": {
    "id": "WKd31HqpW5H9"
   },
   "source": [
    "## DataFrames\n",
    "\n",
    "A DataFrame is a two-dimensional labeled data structure with columns of potentially different types. It is similar to a table in a database or an Excel spreadsheet. DataFrames are incredibly versatile and can be created in several ways, such as from dictionaries, lists, or other data structures."
   ]
  },
  {
   "cell_type": "code",
   "execution_count": null,
   "metadata": {
    "colab": {
     "base_uri": "https://localhost:8080/"
    },
    "id": "89HIlP5EW5H9",
    "outputId": "129a45fd-5926-4df5-b1ce-e80f2111fcf3"
   },
   "outputs": [],
   "source": [
    "# Creating a DataFrame from a dictionary\n",
    "data = {\n",
    "    'Name': ['Ana', 'Brais', 'Carlos', 'Diana'],\n",
    "    'Age': [23, 24, 22, 25],\n",
    "    'City': ['Santiago', 'Vigo', 'Ourense', 'Lugo']\n",
    "}\n",
    "dataframe = pd.DataFrame(data)\n",
    "print(dataframe)"
   ]
  },
  {
   "cell_type": "markdown",
   "metadata": {
    "id": "-J4-Z6o2W5H9"
   },
   "source": [
    "In this example, we create a DataFrame with three columns: 'Name', 'Age', and 'City'. Each column is a Series, and the DataFrame is essentially a collection of Series that share the same index."
   ]
  },
  {
   "cell_type": "markdown",
   "metadata": {
    "id": "ie44q3amW5H9"
   },
   "source": [
    "## Accessing Data in Series and DataFrames\n",
    "\n",
    "You can access elements in a Series using the index:"
   ]
  },
  {
   "cell_type": "code",
   "execution_count": null,
   "metadata": {
    "colab": {
     "base_uri": "https://localhost:8080/"
    },
    "id": "Tn7NdkjYW5H9",
    "outputId": "592dc95e-e9b0-4cc3-daa3-2687864854d2"
   },
   "outputs": [],
   "source": [
    "# Accessing elements in a Series\n",
    "print(serie[0])  # Access by position\n",
    "print(serie_custom_index['a'])  # Access by custom index"
   ]
  },
  {
   "cell_type": "markdown",
   "metadata": {
    "id": "yLyCDW70W5H9"
   },
   "source": [
    "Similarly, you can access data in a DataFrame using column names and row indices:"
   ]
  },
  {
   "cell_type": "code",
   "execution_count": null,
   "metadata": {
    "colab": {
     "base_uri": "https://localhost:8080/"
    },
    "id": "t6_ZHuSQW5H9",
    "outputId": "84c33392-8e67-4710-fe16-144de79e6ff9"
   },
   "outputs": [],
   "source": [
    "# Accessing columns in a DataFrame\n",
    "print(dataframe['Name'])\n",
    "print('----')\n",
    "\n",
    "# Accessing rows in a DataFrame using .loc and .iloc\n",
    "print(dataframe.loc[0])  # Access by label/index\n",
    "print('----')\n",
    "print(dataframe.iloc[0])  # Access by position"
   ]
  },
  {
   "cell_type": "markdown",
   "metadata": {
    "id": "x-_uxfeZW5H9"
   },
   "source": [
    "## Basic Operations on DataFrames\n",
    "\n",
    "DataFrames support a wide range of operations, such as adding new columns, deleting columns, and performing arithmetic operations. Here are some examples:"
   ]
  },
  {
   "cell_type": "code",
   "execution_count": null,
   "metadata": {
    "colab": {
     "base_uri": "https://localhost:8080/"
    },
    "id": "QlagrQ2aW5H9",
    "outputId": "e435f595-4a27-4b31-926f-d77862b5124c"
   },
   "outputs": [],
   "source": [
    "# Adding a new column\n",
    "dataframe['Country'] = 'Spain'\n",
    "print(dataframe)\n",
    "print('---')\n",
    "\n",
    "# Deleting a column\n",
    "dataframe = dataframe.drop('Country', axis=1)\n",
    "print(dataframe)\n",
    "print('---')\n",
    "\n",
    "# Performing arithmetic operations\n",
    "dataframe['Age'] = dataframe['Age'] + 1\n",
    "print(dataframe)"
   ]
  },
  {
   "cell_type": "markdown",
   "metadata": {
    "id": "BHK3rLtmW5H9"
   },
   "source": [
    "## Summary\n",
    "\n",
    "In this section, we introduced the two primary data structures in Pandas: Series and DataFrames. Series are one-dimensional arrays, while DataFrames are two-dimensional tables with labeled axes. Understanding these structures and how to manipulate them is key to effectively using Pandas for data analysis.\n",
    "\n",
    "Next, we will cover basic operations in Pandas, including reading and writing data, selecting and indexing data, filtering, and modifying data. These operations will build on the foundational knowledge you’ve gained in this section. Stay tuned!"
   ]
  }
 ],
 "metadata": {
  "colab": {
   "provenance": []
  },
  "kernelspec": {
   "display_name": "Python 3 (ipykernel)",
   "language": "python",
   "name": "python3"
  },
  "language_info": {
   "codemirror_mode": {
    "name": "ipython",
    "version": 3
   },
   "file_extension": ".py",
   "mimetype": "text/x-python",
   "name": "python",
   "nbconvert_exporter": "python",
   "pygments_lexer": "ipython3",
   "version": "3.12.3"
  }
 },
 "nbformat": 4,
 "nbformat_minor": 4
}
