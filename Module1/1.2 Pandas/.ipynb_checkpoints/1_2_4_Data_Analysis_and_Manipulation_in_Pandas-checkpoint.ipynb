{
 "cells": [
  {
   "cell_type": "markdown",
   "metadata": {
    "id": "HHlTszrAs9nG"
   },
   "source": [
    "# Data Analysis and Manipulation in Pandas\n",
    "\n",
    "Welcome back to our Pandas course module. In this section, we will delve into data analysis and manipulation techniques. These techniques are essential for deriving insights from your data and preparing it for further analysis. We will cover grouping and aggregating data, merging and joining DataFrames, and performing basic statistical operations. Let's get started!"
   ]
  },
  {
   "cell_type": "markdown",
   "metadata": {
    "id": "03oiZ0w4s9nI"
   },
   "source": [
    "## Grouping and Aggregating Data\n",
    "\n",
    "Grouping and aggregating data allows you to summarize large datasets based on specific criteria. The `groupby` method is used to split data into groups based on some criteria, and then you can apply aggregation functions to each group independently."
   ]
  },
  {
   "cell_type": "code",
   "execution_count": null,
   "metadata": {
    "colab": {
     "base_uri": "https://localhost:8080/"
    },
    "id": "JzS0HdKHs9nJ",
    "outputId": "27950ff6-80df-4852-da67-5d75f0cc7dad"
   },
   "outputs": [],
   "source": [
    "# Grouping data by 'City' and calculating the mean age\n",
    "import pandas as pd\n",
    "\n",
    "data = {\n",
    "    'Name': ['Ana', 'Brais', 'Carlos', 'Diana', 'Jesús'],\n",
    "    'Age': [23, 24, 22, 25, 28],\n",
    "    'City': ['Santiago', 'Vigo', 'Ourense', 'Vigo', 'Ourense']\n",
    "}\n",
    "dataframe = pd.DataFrame(data)\n",
    "\n",
    "grouped = dataframe.groupby('City')['Age'].mean()\n",
    "print(grouped)"
   ]
  },
  {
   "cell_type": "markdown",
   "metadata": {
    "id": "V2EhpDYus9nJ"
   },
   "source": [
    "In this example, we group the DataFrame by the 'City' column and then calculate the mean age for each city.\n",
    "\n",
    "You can also apply multiple aggregation functions using the `agg` method:"
   ]
  },
  {
   "cell_type": "code",
   "execution_count": null,
   "metadata": {
    "colab": {
     "base_uri": "https://localhost:8080/"
    },
    "id": "fJJGEeows9nJ",
    "outputId": "12fa7411-ada3-4009-940a-87f5f176ac88"
   },
   "outputs": [],
   "source": [
    "# Applying multiple aggregation functions\n",
    "aggregated = dataframe.groupby('City').agg({'Age': ['mean', 'max'], 'Name': 'count'})\n",
    "print(aggregated)"
   ]
  },
  {
   "cell_type": "markdown",
   "metadata": {
    "id": "vOsu75FBs9nJ"
   },
   "source": [
    "This code groups the data by 'City' and then calculates the mean and maximum age, as well as the count of names in each city."
   ]
  },
  {
   "cell_type": "markdown",
   "metadata": {
    "id": "wU-gSQm_s9nK"
   },
   "source": [
    "## Merging and Joining DataFrames\n",
    "\n",
    "Merging and joining DataFrames are crucial operations when working with multiple datasets. Pandas provides several methods for combining DataFrames, such as `merge`, `join`, and `concat`.\n",
    "\n",
    "Here’s how to merge two DataFrames:"
   ]
  },
  {
   "cell_type": "code",
   "execution_count": null,
   "metadata": {
    "colab": {
     "base_uri": "https://localhost:8080/"
    },
    "id": "ucsSLVHcs9nK",
    "outputId": "5020ae24-fd77-492e-ae85-67254e55e7b9"
   },
   "outputs": [],
   "source": [
    "# Creating two DataFrames to merge\n",
    "df1 = pd.DataFrame({'key': ['A', 'B', 'C'], 'value1': [1, 2, 3]})\n",
    "df2 = pd.DataFrame({'key': ['B', 'C', 'D'], 'value2': [4, 5, 6]})\n",
    "\n",
    "# Merging DataFrames on the 'key' column\n",
    "merged_df = pd.merge(df1, df2, on='key', how='inner')\n",
    "print(merged_df)"
   ]
  },
  {
   "cell_type": "markdown",
   "metadata": {
    "id": "neD6MOAOs9nK"
   },
   "source": [
    "In this example, we merge `df1` and `df2` on the 'key' column using an inner join, which includes only the rows with matching keys in both DataFrames."
   ]
  },
  {
   "cell_type": "markdown",
   "metadata": {
    "id": "AWS1Xs8Ws9nK"
   },
   "source": [
    "## Performing Basic Statistical Operations\n",
    "\n",
    "Pandas makes it easy to perform basic statistical operations on your data. Here are some common operations:"
   ]
  },
  {
   "cell_type": "code",
   "execution_count": null,
   "metadata": {
    "colab": {
     "base_uri": "https://localhost:8080/"
    },
    "id": "tVjn_s2zs9nK",
    "outputId": "a691320e-412f-443b-dde1-1b245c6f55b6"
   },
   "outputs": [],
   "source": [
    "# Calculating summary statistics\n",
    "print(dataframe['Age'].sum())  # Sum of ages\n",
    "print(\"----\")\n",
    "print(dataframe['Age'].mean())  # Mean age\n",
    "print(\"----\")\n",
    "print(dataframe['Age'].describe())  # Summary statistics"
   ]
  },
  {
   "cell_type": "markdown",
   "metadata": {
    "id": "6wg58M6Vs9nK"
   },
   "source": [
    "These operations provide quick insights into the distribution and central tendency of your data."
   ]
  },
  {
   "cell_type": "markdown",
   "metadata": {
    "id": "DWvlgWl-s9nK"
   },
   "source": [
    "## Practical Example\n",
    "\n",
    "Let’s apply what we've learned so far in a practical example. Suppose we have a DataFrame with sales data, and we want to analyze the total and average sales per product category:"
   ]
  },
  {
   "cell_type": "code",
   "execution_count": null,
   "metadata": {
    "colab": {
     "base_uri": "https://localhost:8080/"
    },
    "id": "knGEU3wzs9nL",
    "outputId": "b7403351-14d5-4634-c63b-33cbfc84e9c7"
   },
   "outputs": [],
   "source": [
    "# Sample sales data\n",
    "sales_data = {\n",
    "    'Product': ['A', 'B', 'A', 'B', 'C'],\n",
    "    'Category': ['Electronics', 'Furniture', 'Electronics', 'Furniture', 'Electronics'],\n",
    "    'Sales': [200, 150, 300, 100, 250]\n",
    "}\n",
    "sales_df = pd.DataFrame(sales_data)\n",
    "\n",
    "# Grouping and aggregating sales by category\n",
    "category_sales = sales_df.groupby('Category').agg({'Sales': ['sum', 'mean']})\n",
    "print(category_sales)"
   ]
  },
  {
   "cell_type": "markdown",
   "metadata": {
    "id": "-HR2JTGis9nL"
   },
   "source": [
    "In this example, we group the sales data by 'Category' and calculate the total and average sales for each category."
   ]
  },
  {
   "cell_type": "markdown",
   "metadata": {
    "id": "MhmzB57vs9nL"
   },
   "source": [
    "## Summary\n",
    "\n",
    "In this section, we explored key data analysis and manipulation techniques in Pandas, including grouping and aggregating data, merging and joining DataFrames, and performing basic statistical operations. These skills are essential for any data analysis workflow and will help you derive meaningful insights from your data.\n",
    "\n",
    "Next, we will cover data visualization with Pandas, which will allow you to create graphical representations of your data to uncover trends and patterns. Stay tuned!"
   ]
  }
 ],
 "metadata": {
  "colab": {
   "provenance": []
  },
  "kernelspec": {
   "display_name": "Python 3 (ipykernel)",
   "language": "python",
   "name": "python3"
  },
  "language_info": {
   "codemirror_mode": {
    "name": "ipython",
    "version": 3
   },
   "file_extension": ".py",
   "mimetype": "text/x-python",
   "name": "python",
   "nbconvert_exporter": "python",
   "pygments_lexer": "ipython3",
   "version": "3.12.3"
  }
 },
 "nbformat": 4,
 "nbformat_minor": 4
}
