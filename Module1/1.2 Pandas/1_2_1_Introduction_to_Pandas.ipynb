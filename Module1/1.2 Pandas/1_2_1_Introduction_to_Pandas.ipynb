{
 "cells": [
  {
   "cell_type": "markdown",
   "metadata": {
    "id": "XxZlxKHHT_2O"
   },
   "source": [
    "### Introduction to Pandas\n",
    "\n",
    "Welcome to the module on Pandas, a powerful data manipulation and analysis library for Python. In this session, we will explore the basics of Pandas and how it can be used to efficiently handle and analyze data."
   ]
  },
  {
   "cell_type": "markdown",
   "metadata": {
    "id": "dVTq50sXT_2Q"
   },
   "source": [
    "#### What is Pandas?\n",
    "\n",
    "Pandas is an open-source data analysis and manipulation library built on top of the Python programming language. It provides data structures and functions needed to work with structured data seamlessly. The name \"Pandas\" is derived from the term \"panel data,\" which refers to multidimensional data."
   ]
  },
  {
   "cell_type": "markdown",
   "metadata": {
    "id": "eyMX_abbT_2R"
   },
   "source": [
    "#### Why Use Pandas?\n",
    "\n",
    "Pandas is highly favored for its ability to:\n",
    "- Handle large amounts of data efficiently.\n",
    "- Perform data cleaning and preprocessing.\n",
    "- Provide powerful data aggregation and transformation tools.\n",
    "- Integrate seamlessly with other Python libraries, such as NumPy, Matplotlib, and Scikit-Learn."
   ]
  },
  {
   "cell_type": "markdown",
   "metadata": {
    "id": "GalaO0A0T_2R"
   },
   "source": [
    "#### Installing Pandas\n",
    "\n",
    "To get started with Pandas, you need to have it installed on your system. You can install it using pip, Python’s package installer, with the following command:"
   ]
  },
  {
   "cell_type": "code",
   "execution_count": null,
   "metadata": {
    "colab": {
     "base_uri": "https://localhost:8080/"
    },
    "id": "F0Jv1AtDT_2S",
    "outputId": "5af63368-f0cb-42a6-dfd0-b272b4c8ca63"
   },
   "outputs": [],
   "source": [
    "!pip install pandas"
   ]
  },
  {
   "cell_type": "markdown",
   "metadata": {
    "id": "Ik2cB4yVT_2S"
   },
   "source": [
    "Once installed, you can import it into your Python environment:"
   ]
  },
  {
   "cell_type": "code",
   "execution_count": null,
   "metadata": {
    "id": "Nc817gt2T_2T"
   },
   "outputs": [],
   "source": [
    "import pandas as pd"
   ]
  },
  {
   "cell_type": "markdown",
   "metadata": {
    "id": "EJ8WvUnET_2T"
   },
   "source": [
    "#### Exploring Pandas Data Structures\n",
    "\n",
    "Pandas primarily uses two data structures: Series and DataFrame. Let's take a quick look at each.\n",
    "\n",
    "**Series:** A one-dimensional labeled array capable of holding any data type. It is similar to a column in an Excel spreadsheet."
   ]
  },
  {
   "cell_type": "code",
   "execution_count": null,
   "metadata": {
    "colab": {
     "base_uri": "https://localhost:8080/"
    },
    "id": "BJyXY8EfT_2T",
    "outputId": "1a7fbb59-63b7-4e86-a1c0-f7c8b0450f51"
   },
   "outputs": [],
   "source": [
    "# Creating a Series\n",
    "serie = pd.Series([1, 2, 3, 4, 5])\n",
    "print(serie)"
   ]
  },
  {
   "cell_type": "markdown",
   "metadata": {
    "id": "PzyTIfN5T_2T"
   },
   "source": [
    "**DataFrame:** A two-dimensional labeled data structure with columns of potentially different types. It can be thought of as a table, similar to an Excel spreadsheet or a SQL table."
   ]
  },
  {
   "cell_type": "code",
   "execution_count": null,
   "metadata": {
    "colab": {
     "base_uri": "https://localhost:8080/"
    },
    "id": "YHVXqc2NT_2U",
    "outputId": "9517e180-2380-4bde-d6ea-7827bf102d1e"
   },
   "outputs": [],
   "source": [
    "# Creating a DataFrame\n",
    "data = {\n",
    "    'Name': ['Ana', 'Brais', 'Carlos', 'Diana'],\n",
    "    'Age': [23, 24, 22, 25],\n",
    "    'City': ['Santiago', 'Vigo', 'Ourense', 'Lugo']\n",
    "}\n",
    "dataframe = pd.DataFrame(data)\n",
    "print(dataframe)"
   ]
  },
  {
   "cell_type": "markdown",
   "metadata": {
    "id": "cZ3YKBqtT_2U"
   },
   "source": [
    "#### Course Outline\n",
    "\n",
    "Throughout this course, we will cover the following key areas:\n",
    "\n",
    "1. **Basic Operations with Pandas:**\n",
    "   - Reading and writing data to files (CSV, Excel).\n",
    "   - Selecting and indexing data.\n",
    "   - Filtering and modifying data.\n",
    "\n",
    "2. **Data Analysis and Manipulation:**\n",
    "   - Grouping and aggregating data.\n",
    "   - Merging and joining DataFrames.\n",
    "   - Performing basic statistical operations.\n",
    "\n",
    "3. **Data Visualization:**\n",
    "   - Creating basic plots using Pandas.\n",
    "   - Visualizing data trends and distributions.\n",
    "\n",
    "By the end of this module, you will have a solid understanding of how to use Pandas to manage and analyze data effectively.\n",
    "\n",
    "Let's dive in and start exploring the capabilities of Pandas!"
   ]
  }
 ],
 "metadata": {
  "colab": {
   "provenance": []
  },
  "kernelspec": {
   "display_name": "Python 3 (ipykernel)",
   "language": "python",
   "name": "python3"
  },
  "language_info": {
   "codemirror_mode": {
    "name": "ipython",
    "version": 3
   },
   "file_extension": ".py",
   "mimetype": "text/x-python",
   "name": "python",
   "nbconvert_exporter": "python",
   "pygments_lexer": "ipython3",
   "version": "3.12.3"
  }
 },
 "nbformat": 4,
 "nbformat_minor": 4
}
