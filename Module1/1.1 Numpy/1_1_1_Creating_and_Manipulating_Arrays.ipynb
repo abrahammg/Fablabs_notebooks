{
 "cells": [
  {
   "cell_type": "markdown",
   "metadata": {
    "id": "ydpOyNWRlqW5"
   },
   "source": [
    "# Creating and Manipulating Arrays\n",
    "\n",
    "Welcome back to our NumPy course module. In this section, we will dive into creating and manipulating arrays, which are the fundamental data structures in NumPy. Understanding how to efficiently create and manipulate arrays will allow you to handle large datasets and perform complex operations with ease. Let's get started!\n"
   ]
  },
  {
   "cell_type": "markdown",
   "metadata": {
    "id": "X3mKF1wLlqW9"
   },
   "source": [
    "## Creating Arrays\n",
    "\n",
    "NumPy offers several ways to create arrays. The most basic way is to use the `np.array` function to convert a list or a tuple into a NumPy array.\n",
    "\n",
    "Here's how you can create a one-dimensional and a two-dimensional array:\n"
   ]
  },
  {
   "cell_type": "code",
   "execution_count": null,
   "metadata": {
    "colab": {
     "base_uri": "https://localhost:8080/"
    },
    "id": "MTpW7TxllqW9",
    "outputId": "ceaaf156-4eb2-4a49-fd14-235fe822ae3f"
   },
   "outputs": [],
   "source": [
    "# Importing NumPy library\n",
    "import numpy as np\n",
    "\n",
    "# Creating a one-dimensional array\n",
    "array1 = np.array([1, 2, 3, 4, 5])\n",
    "print(\"array1 ->\", array1)\n",
    "\n",
    "# Creating a two-dimensional array\n",
    "array2 = np.array([[1, 2, 3, 4], [4, 5, 6, 7]])\n",
    "print(\"array2 ->\", array2)"
   ]
  },
  {
   "cell_type": "markdown",
   "metadata": {
    "id": "6iHSmU5hlqW-"
   },
   "source": [
    "In addition to `np.array`, NumPy provides several other functions to create arrays with specific values or ranges of values.\n",
    "\n",
    "### Using `arange` and `linspace`:\n",
    "\n",
    "- `np.arange` creates an array with evenly spaced values within a specified range.\n",
    "- `np.linspace` creates an array with a specified number of evenly spaced values between two given values.\n"
   ]
  },
  {
   "cell_type": "code",
   "execution_count": null,
   "metadata": {
    "colab": {
     "base_uri": "https://localhost:8080/"
    },
    "id": "PAAY1mZGlqW-",
    "outputId": "ec5c2cab-a214-4111-e0a3-5c65982e6a6e"
   },
   "outputs": [],
   "source": [
    "# Creating an array with arange\n",
    "array_arange = np.arange(0, 10, 2)\n",
    "print(array_arange)\n",
    "\n",
    "# Creating an array with linspace\n",
    "array_linspace = np.linspace(0, 1, 5)\n",
    "print(array_linspace)"
   ]
  },
  {
   "cell_type": "markdown",
   "metadata": {
    "id": "KCDS63IalqW_"
   },
   "source": [
    "### Creating arrays filled with zeros and ones:\n",
    "\n",
    "- `np.zeros` creates an array filled with zeros.\n",
    "- `np.ones` creates an array filled with ones.\n"
   ]
  },
  {
   "cell_type": "code",
   "execution_count": null,
   "metadata": {
    "colab": {
     "base_uri": "https://localhost:8080/"
    },
    "id": "dfbLEp6VlqW_",
    "outputId": "ca45056f-4339-4f44-fb59-4dea6db73d70"
   },
   "outputs": [],
   "source": [
    "# Creating an array filled with zeros\n",
    "array_zeros = np.zeros((2, 3))\n",
    "print(array_zeros)\n",
    "\n",
    "# Creating an array filled with ones\n",
    "array_ones = np.ones((3, 2))\n",
    "print(array_ones)"
   ]
  },
  {
   "cell_type": "markdown",
   "metadata": {
    "id": "fVHRFe_xlqW_"
   },
   "source": [
    "## Indexing and Slicing Arrays\n",
    "\n",
    "Indexing and slicing are essential operations for accessing and modifying elements within an array. You can use standard Python indexing and slicing techniques with NumPy arrays.\n",
    "\n",
    "### Indexing:\n",
    "\n",
    "You can access individual elements of an array by specifying their indices.\n"
   ]
  },
  {
   "cell_type": "code",
   "execution_count": null,
   "metadata": {
    "colab": {
     "base_uri": "https://localhost:8080/"
    },
    "id": "0dsOchfllqXA",
    "outputId": "0bec8ee1-9ee3-4f46-9797-d7b98aae4a98"
   },
   "outputs": [],
   "source": [
    "# Accessing an element in a two-dimensional array\n",
    "print(array2[0, 1])  # Element in the first row and second column"
   ]
  },
  {
   "cell_type": "markdown",
   "metadata": {
    "id": "kOpBPLbelqXA"
   },
   "source": [
    "### Slicing:\n",
    "\n",
    "Slicing allows you to access a subarray by specifying a range of indices.\n"
   ]
  },
  {
   "cell_type": "code",
   "execution_count": null,
   "metadata": {
    "colab": {
     "base_uri": "https://localhost:8080/"
    },
    "id": "6Ndj50ZElqXA",
    "outputId": "aea9dfab-fd89-47e2-853f-05dc0ebaffbd"
   },
   "outputs": [],
   "source": [
    "# Slicing a two-dimensional array\n",
    "print(array2[:, 1])  # All rows, second column"
   ]
  },
  {
   "cell_type": "markdown",
   "metadata": {
    "id": "iYZBrxzGlqXA"
   },
   "source": [
    "## Summary\n",
    "\n",
    "In this section, we covered the basics of creating and manipulating arrays in NumPy. You learned how to create arrays using various methods such as `np.array`, `np.arange`, `np.linspace`, `np.zeros`, and `np.ones`. Additionally, you explored indexing and slicing techniques to access and modify elements within arrays.\n",
    "\n",
    "Mastering these skills will enable you to work efficiently with large datasets and perform a wide range of operations in NumPy. In the next section, we will explore basic operations with arrays, including arithmetic operations, universal functions, and aggregation methods. Stay tuned!\n"
   ]
  }
 ],
 "metadata": {
  "colab": {
   "provenance": []
  },
  "kernelspec": {
   "display_name": "Python 3 (ipykernel)",
   "language": "python",
   "name": "python3"
  },
  "language_info": {
   "codemirror_mode": {
    "name": "ipython",
    "version": 3
   },
   "file_extension": ".py",
   "mimetype": "text/x-python",
   "name": "python",
   "nbconvert_exporter": "python",
   "pygments_lexer": "ipython3",
   "version": "3.12.3"
  }
 },
 "nbformat": 4,
 "nbformat_minor": 4
}
