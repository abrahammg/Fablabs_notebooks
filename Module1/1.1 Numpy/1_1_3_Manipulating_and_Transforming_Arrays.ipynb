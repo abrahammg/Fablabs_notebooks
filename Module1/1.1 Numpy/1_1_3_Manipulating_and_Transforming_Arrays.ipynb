{
 "cells": [
  {
   "cell_type": "markdown",
   "metadata": {
    "id": "dCo4ix19BuCz"
   },
   "source": [
    "# Manipulating and Transforming Arrays\n",
    "\n",
    "Welcome back to our NumPy course module. In this section, we will explore manipulating and transforming arrays, which are crucial for reshaping and organizing data to suit your analysis needs. These operations include reshaping arrays, transposing arrays, concatenating arrays, and splitting arrays. Understanding these techniques will help you manage your data more effectively. Let's get started!\n"
   ]
  },
  {
   "cell_type": "markdown",
   "metadata": {
    "id": "26XyiUlMBuC2"
   },
   "source": [
    "## Reshaping Arrays\n",
    "\n",
    "Reshaping an array means changing its shape without changing its data. The `reshape` method allows you to rearrange the data into a different shape.\n",
    "\n",
    "Here's how you can reshape an array:\n"
   ]
  },
  {
   "cell_type": "code",
   "execution_count": null,
   "metadata": {
    "colab": {
     "base_uri": "https://localhost:8080/"
    },
    "id": "ox9WSUsyBuC2",
    "outputId": "7844968a-e7e6-4415-f571-1b2e1e0737f5"
   },
   "outputs": [],
   "source": [
    "import numpy as np\n",
    "\n",
    "# Creating a one-dimensional array\n",
    "array1 = np.arange(1, 13)\n",
    "print(\"Original array:\")\n",
    "print(array1)\n",
    "\n",
    "# Reshaping the array to 3x4\n",
    "array_reshaped = array1.reshape(3, 4)\n",
    "print(\"Reshaped array (3x4):\")\n",
    "print(array_reshaped)"
   ]
  },
  {
   "cell_type": "markdown",
   "metadata": {
    "id": "UrLot1CFBuC3"
   },
   "source": [
    "## Transposing Arrays\n",
    "\n",
    "Transposing an array means swapping its axes. This operation is useful for converting rows to columns and vice versa. You can use the `transpose` method or the `T` attribute.\n",
    "\n",
    "Here's how you can transpose an array:\n"
   ]
  },
  {
   "cell_type": "code",
   "execution_count": null,
   "metadata": {
    "colab": {
     "base_uri": "https://localhost:8080/"
    },
    "id": "mZhYrXhpBuC3",
    "outputId": "ac954e93-c00e-4168-b67e-6fc3db482eca"
   },
   "outputs": [],
   "source": [
    "# Transposing the reshaped array\n",
    "array_transposed = array_reshaped.T\n",
    "print(\"Transposed array:\")\n",
    "print(array_transposed)"
   ]
  },
  {
   "cell_type": "markdown",
   "metadata": {
    "id": "ZDukKqB8BuC3"
   },
   "source": [
    "## Concatenating Arrays\n",
    "\n",
    "Concatenation involves joining two or more arrays along an existing axis. You can use the `concatenate` function to achieve this.\n",
    "\n",
    "Here's how you can concatenate arrays:\n"
   ]
  },
  {
   "cell_type": "code",
   "execution_count": null,
   "metadata": {
    "colab": {
     "base_uri": "https://localhost:8080/"
    },
    "id": "bXUPTRUaBuC4",
    "outputId": "341b69e2-5629-4b78-eadf-99d3e593519d"
   },
   "outputs": [],
   "source": [
    "# Creating another array to concatenate\n",
    "array2 = np.array([[13, 14, 15, 16]])\n",
    "print(\"Array to concatenate:\")\n",
    "print(array2)\n",
    "\n",
    "# Concatenating along the first axis (rows)\n",
    "array_concatenated = np.concatenate((array_reshaped, array2), axis=0)\n",
    "print(\"Concatenated array (along rows):\")\n",
    "print(array_concatenated)"
   ]
  },
  {
   "cell_type": "markdown",
   "metadata": {
    "id": "cekW2MTGBuC4"
   },
   "source": [
    "## Splitting Arrays\n",
    "\n",
    "Splitting an array means dividing it into multiple sub-arrays. You can use the `split` function to split an array into equally-sized sub-arrays or specify the indices where the split should occur.\n",
    "\n",
    "Here's how you can split an array:\n"
   ]
  },
  {
   "cell_type": "code",
   "execution_count": null,
   "metadata": {
    "colab": {
     "base_uri": "https://localhost:8080/"
    },
    "id": "FIeUQjbrBuC4",
    "outputId": "219b5551-a160-43f4-ab93-c260644c5b9e"
   },
   "outputs": [],
   "source": [
    "# Splitting the concatenated array into two sub-arrays along the second axis (columns)\n",
    "array_split = np.split(array_concatenated, 2, axis=1)\n",
    "print(\"Split arrays:\")\n",
    "for subarray in array_split:\n",
    "    print(subarray)"
   ]
  },
  {
   "cell_type": "markdown",
   "metadata": {
    "id": "6Zz3AfVZBuC5"
   },
   "source": [
    "## Summary\n",
    "\n",
    "In this section, we covered essential techniques for manipulating and transforming arrays in NumPy. You learned how to reshape arrays using the `reshape` method, transpose arrays with the `transpose` method or `T` attribute, concatenate arrays using the `concatenate` function, and split arrays with the `split` function.\n",
    "\n",
    "Mastering these operations will enable you to organize and manage your data more effectively, making it easier to perform further analysis. In the next section, we will explore advanced operations and applications of NumPy, including matrix multiplication, logical operations, and use cases in data science and machine learning. Stay tuned!\n"
   ]
  }
 ],
 "metadata": {
  "colab": {
   "provenance": []
  },
  "kernelspec": {
   "display_name": "Python 3 (ipykernel)",
   "language": "python",
   "name": "python3"
  },
  "language_info": {
   "codemirror_mode": {
    "name": "ipython",
    "version": 3
   },
   "file_extension": ".py",
   "mimetype": "text/x-python",
   "name": "python",
   "nbconvert_exporter": "python",
   "pygments_lexer": "ipython3",
   "version": "3.12.3"
  }
 },
 "nbformat": 4,
 "nbformat_minor": 4
}
