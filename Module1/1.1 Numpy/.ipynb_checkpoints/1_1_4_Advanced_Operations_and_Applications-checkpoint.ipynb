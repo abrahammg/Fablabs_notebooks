{
 "cells": [
  {
   "cell_type": "markdown",
   "metadata": {
    "id": "YRxEnRUDJ2tl"
   },
   "source": [
    "# Advanced Operations and Applications\n",
    "\n",
    "Welcome back to our NumPy course module. In this section, we will explore advanced operations and applications of NumPy. These techniques will allow you to perform more complex computations and are essential for scientific computing, data analysis, and machine learning. We will cover matrix multiplication, logical operations, and practical applications in data science. Let's get started!"
   ]
  },
  {
   "cell_type": "markdown",
   "metadata": {
    "id": "L3hPRDwpJ2tn"
   },
   "source": [
    "## Matrix Multiplication\n",
    "\n",
    "Matrix multiplication is a fundamental operation in many numerical and scientific computations. NumPy provides the `dot` function and the `@` operator for performing matrix multiplication.\n",
    "\n",
    "Here's how you can perform matrix multiplication:"
   ]
  },
  {
   "cell_type": "code",
   "execution_count": null,
   "metadata": {
    "colab": {
     "base_uri": "https://localhost:8080/"
    },
    "id": "CjYvUqvFJ2to",
    "outputId": "329d57d6-11c7-4d78-daac-31c96712e6d8"
   },
   "outputs": [],
   "source": [
    "import numpy as np\n",
    "\n",
    "# Creating two matrices\n",
    "matrix1 = np.array([[1, 2], [3, 4]])\n",
    "matrix2 = np.array([[5, 6], [7, 8]])\n",
    "\n",
    "# Using the dot function\n",
    "result_dot = np.dot(matrix1, matrix2)\n",
    "print(\"Matrix multiplication using dot function:\")\n",
    "print(result_dot)\n",
    "\n",
    "# Using the @ operator\n",
    "result_at = matrix1 @ matrix2\n",
    "print(\"Matrix multiplication using @ operator:\")\n",
    "print(result_at)"
   ]
  },
  {
   "cell_type": "markdown",
   "metadata": {
    "id": "5nJx-1c-J2tp"
   },
   "source": [
    "## Logical Operations\n",
    "\n",
    "Logical operations are used to perform element-wise comparisons and to create boolean arrays. These operations include comparisons such as greater than, less than, and equality checks.\n",
    "\n",
    "Here's how you can perform logical operations:"
   ]
  },
  {
   "cell_type": "code",
   "execution_count": null,
   "metadata": {
    "colab": {
     "base_uri": "https://localhost:8080/"
    },
    "id": "WodmSROIJ2tp",
    "outputId": "c3a4a394-bcad-4c3f-a52e-3d2333023837"
   },
   "outputs": [],
   "source": [
    "# Creating an array\n",
    "array = np.array([1, 2, 3, 4, 5])\n",
    "\n",
    "# Checking for elements greater than 3\n",
    "greater_than_3 = array > 3\n",
    "print(\"Elements greater than 3:\")\n",
    "print(greater_than_3)\n",
    "\n",
    "# Checking for elements equal to 3\n",
    "equal_to_3 = array == 3\n",
    "print(\"Elements equal to 3:\")\n",
    "print(equal_to_3)"
   ]
  },
  {
   "cell_type": "markdown",
   "metadata": {
    "id": "_rtGmt30J2tp"
   },
   "source": [
    "You can use these boolean arrays for filtering data:"
   ]
  },
  {
   "cell_type": "code",
   "execution_count": null,
   "metadata": {
    "colab": {
     "base_uri": "https://localhost:8080/"
    },
    "id": "p_KuqnCiJ2tq",
    "outputId": "2c5bbf11-7e62-4730-ba6c-f32c9d7e5ff0"
   },
   "outputs": [],
   "source": [
    "# Filtering elements greater than 3\n",
    "filtered_array = array[greater_than_3]\n",
    "print(\"Filtered array (elements greater than 3):\")\n",
    "print(filtered_array)"
   ]
  },
  {
   "cell_type": "markdown",
   "metadata": {
    "id": "d8IFaH--J2tq"
   },
   "source": [
    "## Applications in Data Science and Machine Learning\n",
    "\n",
    "NumPy is extensively used in data science and machine learning for various tasks, such as statistical analysis, data preprocessing, and implementing algorithms.\n",
    "\n",
    "Here's a simple example of calculating the mean and standard deviation of a dataset:"
   ]
  },
  {
   "cell_type": "code",
   "execution_count": null,
   "metadata": {
    "colab": {
     "base_uri": "https://localhost:8080/"
    },
    "id": "9wi2K7VRJ2tq",
    "outputId": "27b0fe6a-a0a9-46c9-ab8d-32ced7cf590b"
   },
   "outputs": [],
   "source": [
    "# Creating a sample dataset\n",
    "data = np.random.randn(20)\n",
    "print(data)\n",
    "\n",
    "# Calculating the mean\n",
    "mean = np.mean(data)\n",
    "print(\"Mean of the data:\", mean)\n",
    "\n",
    "# Calculating the standard deviation\n",
    "std_dev = np.std(data)\n",
    "print(\"Standard deviation of the data:\", std_dev)"
   ]
  },
  {
   "cell_type": "markdown",
   "metadata": {
    "id": "7dP-IW6BJ2tq"
   },
   "source": [
    "NumPy also forms the backbone of many machine learning libraries like TensorFlow and Scikit-Learn, where it is used for tensor operations and array manipulations."
   ]
  },
  {
   "cell_type": "markdown",
   "metadata": {
    "id": "Flg998Z0J2tr"
   },
   "source": [
    "## Summary\n",
    "\n",
    "In this section, we covered advanced operations with NumPy, including matrix multiplication, logical operations, and practical applications in data science and machine learning. These skills are essential for performing complex computations and analyses, making NumPy a powerful tool for any data scientist or engineer.\n",
    "\n",
    "With this knowledge, you are now equipped to handle a wide range of tasks using NumPy. Continue practicing and exploring more advanced topics to deepen your understanding and proficiency with this versatile library. Happy coding!"
   ]
  }
 ],
 "metadata": {
  "colab": {
   "provenance": []
  },
  "kernelspec": {
   "display_name": "Python 3 (ipykernel)",
   "language": "python",
   "name": "python3"
  },
  "language_info": {
   "codemirror_mode": {
    "name": "ipython",
    "version": 3
   },
   "file_extension": ".py",
   "mimetype": "text/x-python",
   "name": "python",
   "nbconvert_exporter": "python",
   "pygments_lexer": "ipython3",
   "version": "3.12.3"
  }
 },
 "nbformat": 4,
 "nbformat_minor": 4
}
