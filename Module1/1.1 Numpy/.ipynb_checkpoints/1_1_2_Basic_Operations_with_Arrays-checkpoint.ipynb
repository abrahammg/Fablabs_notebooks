{
 "cells": [
  {
   "cell_type": "markdown",
   "metadata": {
    "id": "6vMsCU2f4nvn"
   },
   "source": [
    "# Basic Operations with Arrays - Course Narration\n",
    "\n",
    "Welcome back to our NumPy course module. In this section, we will explore basic operations with arrays, which are crucial for data manipulation and analysis. These operations include arithmetic operations, universal functions (ufuncs), and aggregation methods. Mastering these basic operations will enable you to perform efficient computations on large datasets. Let's get started!\n"
   ]
  },
  {
   "cell_type": "markdown",
   "metadata": {
    "id": "4zag77em4nvq"
   },
   "source": [
    "## Arithmetic Operations\n",
    "\n",
    "NumPy allows you to perform element-wise arithmetic operations on arrays with ease. These operations include addition, subtraction, multiplication, and division.\n",
    "\n",
    "Here's how you can perform these operations:\n"
   ]
  },
  {
   "cell_type": "code",
   "execution_count": null,
   "metadata": {
    "colab": {
     "base_uri": "https://localhost:8080/"
    },
    "id": "RCP7h3s64nvq",
    "outputId": "15637871-4813-46ef-b506-18efa2ef0a47"
   },
   "outputs": [],
   "source": [
    "import numpy as np\n",
    "\n",
    "# Creating arrays\n",
    "array1 = np.array([1, 2, 3, 4, 5])\n",
    "array2 = np.array([10, 20, 30, 40, 50])\n",
    "\n",
    "# Element-wise addition\n",
    "addition = array1 + array2\n",
    "print(\"Addition:\", addition)\n",
    "\n",
    "# Element-wise subtraction\n",
    "subtraction = array2 - array1\n",
    "print(\"Subtraction:\", subtraction)\n",
    "\n",
    "# Element-wise multiplication\n",
    "multiplication = array1 * array2\n",
    "print(\"Multiplication:\", multiplication)\n",
    "\n",
    "# Element-wise division\n",
    "division = array2 / array1\n",
    "print(\"Division:\", division)"
   ]
  },
  {
   "cell_type": "markdown",
   "metadata": {
    "id": "ypk-ghIq4nvr"
   },
   "source": [
    "These operations are performed element-wise, meaning each element of one array is combined with the corresponding element of the other array.\n"
   ]
  },
  {
   "cell_type": "markdown",
   "metadata": {
    "id": "FNVywyKs4nvs"
   },
   "source": [
    "## Universal Functions (ufuncs)\n",
    "\n",
    "Universal functions, or ufuncs, are functions that operate element-wise on arrays. NumPy provides a wide range of built-in ufuncs for various mathematical operations.\n",
    "\n",
    "Some commonly used ufuncs include `np.sqrt` (square root), `np.exp` (exponential), and `np.log` (natural logarithm).\n",
    "\n",
    "Here's how you can use these ufuncs:\n"
   ]
  },
  {
   "cell_type": "code",
   "execution_count": null,
   "metadata": {
    "colab": {
     "base_uri": "https://localhost:8080/"
    },
    "id": "Lo6j5k4b4nvs",
    "outputId": "6ef556c3-4db2-4c65-c0bc-fa03a4d89cd2"
   },
   "outputs": [],
   "source": [
    "# Square root of each element in the array\n",
    "sqrt_array = np.sqrt(array1)\n",
    "print(\"Square root:\", sqrt_array)\n",
    "\n",
    "# Exponential of each element in the array\n",
    "exp_array = np.exp(array1)\n",
    "print(\"Exponential:\", exp_array)\n",
    "\n",
    "# Natural logarithm of each element in the array\n",
    "log_array = np.log(array1)\n",
    "print(\"Natural logarithm:\", log_array)"
   ]
  },
  {
   "cell_type": "markdown",
   "metadata": {
    "id": "14B1GlBS4nvs"
   },
   "source": [
    "## Aggregation Operations\n",
    "\n",
    "Aggregation operations are used to summarize data by calculating statistical values such as sum, mean, maximum, and minimum. These operations can be performed on the entire array or along specific axes.\n",
    "\n",
    "Here's how you can perform aggregation operations:\n"
   ]
  },
  {
   "cell_type": "code",
   "execution_count": null,
   "metadata": {
    "colab": {
     "base_uri": "https://localhost:8080/"
    },
    "id": "o3BNOWX24nvs",
    "outputId": "fc43a991-bc2d-4d93-8e19-a00e7574c438"
   },
   "outputs": [],
   "source": [
    "# Sum of all elements\n",
    "sum_total = array1.sum()\n",
    "print(\"Sum:\", sum_total)\n",
    "\n",
    "# Mean of all elements\n",
    "mean_value = array1.mean()\n",
    "print(\"Mean:\", mean_value)\n",
    "\n",
    "# Maximum value\n",
    "max_value = array1.max()\n",
    "print(\"Maximum:\", max_value)\n",
    "\n",
    "# Minimum value\n",
    "min_value = array1.min()\n",
    "print(\"Minimum:\", min_value)"
   ]
  },
  {
   "cell_type": "markdown",
   "metadata": {
    "id": "6NsKnze14nvt"
   },
   "source": [
    "You can also perform these operations along specific axes in a multi-dimensional array:\n"
   ]
  },
  {
   "cell_type": "code",
   "execution_count": null,
   "metadata": {
    "colab": {
     "base_uri": "https://localhost:8080/"
    },
    "id": "4zbwev2J4nvt",
    "outputId": "8d0ecd26-79db-471e-c246-2f620f36dd3e"
   },
   "outputs": [],
   "source": [
    "# Creating a 2D array\n",
    "array2d = np.array([[1, 2, 3], [4, 5, 6]])\n",
    "\n",
    "# Sum along the columns\n",
    "sum_columns = array2d.sum(axis=0)\n",
    "print(\"Sum along columns:\", sum_columns)\n",
    "\n",
    "# Sum along the rows\n",
    "sum_rows = array2d.sum(axis=1)\n",
    "print(\"Sum along rows:\", sum_rows)"
   ]
  },
  {
   "cell_type": "markdown",
   "metadata": {
    "id": "1z_rAfjf4nvt"
   },
   "source": [
    "## Summary\n",
    "\n",
    "In this section, we covered the fundamental operations you'll need to work effectively with NumPy arrays. These skills form the foundation for more advanced data analysis and manipulation tasks. Practice these operations with your own datasets to become more comfortable with them.\n",
    "\n",
    "Next, we will explore more advanced operations and applications of NumPy, including matrix multiplication, logical operations, and use cases in data science and machine learning. Stay tuned!\n"
   ]
  }
 ],
 "metadata": {
  "colab": {
   "provenance": []
  },
  "kernelspec": {
   "display_name": "Python 3 (ipykernel)",
   "language": "python",
   "name": "python3"
  },
  "language_info": {
   "codemirror_mode": {
    "name": "ipython",
    "version": 3
   },
   "file_extension": ".py",
   "mimetype": "text/x-python",
   "name": "python",
   "nbconvert_exporter": "python",
   "pygments_lexer": "ipython3",
   "version": "3.12.3"
  }
 },
 "nbformat": 4,
 "nbformat_minor": 4
}
