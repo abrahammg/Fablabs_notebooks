{
 "cells": [
  {
   "cell_type": "markdown",
   "metadata": {
    "id": "MrYEJSAqJZtb"
   },
   "source": [
    "# Customizing Plots\n",
    "\n",
    "Welcome back to our Matplotlib course module. In this section, we will delve into customizing plots to make them more informative and visually appealing. Customization is essential for enhancing the readability and interpretability of your visualizations. We will cover changing colors and line styles, adding labels and titles, and adjusting axis limits. Let's get started!\n"
   ]
  },
  {
   "cell_type": "markdown",
   "metadata": {
    "id": "hyGDKNZYJZtd"
   },
   "source": [
    "## Changing Colors and Line Styles\n",
    "\n",
    "Matplotlib allows you to customize the appearance of your plots by changing colors and line styles. You can specify colors using color names, RGB or hex codes, and line styles using predefined patterns.\n",
    "\n",
    "Here's how you can customize colors and line styles in a line plot:\n"
   ]
  },
  {
   "cell_type": "code",
   "execution_count": null,
   "metadata": {
    "id": "qlzz8jDKJZte"
   },
   "outputs": [],
   "source": [
    "import matplotlib.pyplot as plt\n",
    "\n",
    "# Data for plotting\n",
    "x = [1, 2, 3, 4, 5]\n",
    "y = [1, 4, 9, 16, 25]\n",
    "\n",
    "# Creating the plot with custom color and line style\n",
    "# linestyle options: '-' (solid), '--' (dashed), '-.' (dash-dot), ':' (dotted), 'None' or '' (no line)\n",
    "# marker options: '.' (point), 'o' (circle), 's' (square), '^' (triangle_up), 'v' (triangle_down), '*' (star), '+' (plus), 'x' (x), 'D' (diamond), '' or None (no marker)\n",
    "plt.plot(x, y, color='red', linestyle='--', marker='o')\n",
    "\n",
    "# Adding titles and labels\n",
    "plt.title('My Custom Plot')\n",
    "plt.xlabel('X Axis')\n",
    "plt.ylabel('Y Axis')\n",
    "\n",
    "# Displaying the plot\n",
    "plt.show()"
   ]
  },
  {
   "cell_type": "markdown",
   "metadata": {
    "id": "WzPgIfnFJZtf"
   },
   "source": [
    "In this example, we use the `color` parameter to set the line color to green, the `linestyle` parameter to set the line style to dashed, and the `marker` parameter to add circle markers at each data point.\n"
   ]
  },
  {
   "cell_type": "markdown",
   "metadata": {
    "id": "bR8MoRi9JZtf"
   },
   "source": [
    "## Adding Labels and Titles\n",
    "\n",
    "Adding labels and titles is crucial for providing context to your plots. Labels help identify the axes, while titles provide an overall description of the plot.\n",
    "\n",
    "Here's how you can add labels and titles:\n"
   ]
  },
  {
   "cell_type": "code",
   "execution_count": null,
   "metadata": {
    "id": "2OquXBYwJZtf"
   },
   "outputs": [],
   "source": [
    "# Creating the plot\n",
    "plt.plot(x, y)\n",
    "\n",
    "# Adding titles and labels\n",
    "plt.title('Line Plot with Labels')\n",
    "plt.xlabel('X Axis')\n",
    "plt.ylabel('Y Axis')\n",
    "\n",
    "# Displaying the plot\n",
    "plt.show()"
   ]
  },
  {
   "cell_type": "markdown",
   "metadata": {
    "id": "-6t2ptiOJZtf"
   },
   "source": [
    "In this example, we use `plt.title()` to add a title to the plot, `plt.xlabel()` to label the x-axis, and `plt.ylabel()` to label the y-axis.\n"
   ]
  },
  {
   "cell_type": "markdown",
   "metadata": {
    "id": "nuXkXImpJZtf"
   },
   "source": [
    "## Adjusting Axis Limits\n",
    "\n",
    "Adjusting the axis limits can help focus on a specific range of data, making the plot clearer and more relevant to the analysis.\n",
    "\n",
    "Here's how you can adjust the axis limits:\n"
   ]
  },
  {
   "cell_type": "code",
   "execution_count": null,
   "metadata": {
    "id": "xDbMtnShJZtf"
   },
   "outputs": [],
   "source": [
    "# Creating the plot\n",
    "plt.plot(x, y)\n",
    "\n",
    "# Adding titles and labels\n",
    "plt.title('Line Plot with Axis Limits')\n",
    "plt.xlabel('X Axis')\n",
    "plt.ylabel('Y Axis')\n",
    "\n",
    "# Setting the axis limits\n",
    "plt.xlim(0, 6)\n",
    "plt.ylim(0, 30)\n",
    "\n",
    "# Displaying the plot\n",
    "plt.show()"
   ]
  },
  {
   "cell_type": "markdown",
   "metadata": {
    "id": "v8rAt8rWJZtf"
   },
   "source": [
    "In this example, we use `plt.xlim()` to set the limits of the x-axis from 0 to 6 and `plt.ylim()` to set the limits of the y-axis from 0 to 30.\n"
   ]
  },
  {
   "cell_type": "markdown",
   "metadata": {
    "id": "Vf4zfmEGJZtf"
   },
   "source": [
    "## Summary\n",
    "\n",
    "In this section, we covered essential customization techniques for Matplotlib plots. You learned how to change colors and line styles, add labels and titles, and adjust axis limits. These customizations enhance the clarity and presentation of your visualizations, making them more effective for data communication.\n",
    "\n",
    "In the next section, we will explore creating subplots and arranging multiple plots within a single figure. Stay tuned for more advanced plotting techniques!\n"
   ]
  }
 ],
 "metadata": {
  "colab": {
   "provenance": []
  },
  "kernelspec": {
   "display_name": "Python 3 (ipykernel)",
   "language": "python",
   "name": "python3"
  },
  "language_info": {
   "codemirror_mode": {
    "name": "ipython",
    "version": 3
   },
   "file_extension": ".py",
   "mimetype": "text/x-python",
   "name": "python",
   "nbconvert_exporter": "python",
   "pygments_lexer": "ipython3",
   "version": "3.12.3"
  }
 },
 "nbformat": 4,
 "nbformat_minor": 4
}
