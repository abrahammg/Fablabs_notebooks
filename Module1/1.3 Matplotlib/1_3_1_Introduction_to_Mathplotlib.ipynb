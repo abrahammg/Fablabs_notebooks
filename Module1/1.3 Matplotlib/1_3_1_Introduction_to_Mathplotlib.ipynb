{
 "cells": [
  {
   "cell_type": "markdown",
   "metadata": {
    "id": "pAg_c44a-PWT"
   },
   "source": [
    "# Introduction to Matplotlib\n",
    "\n",
    "Welcome to the Matplotlib module of our AI course. In this session, we will introduce you to Matplotlib, a powerful plotting library in Python. By the end of this session, you will understand what Matplotlib is, how to install it, and how to import and use it for creating basic plots. Let's get started!\n"
   ]
  },
  {
   "cell_type": "markdown",
   "metadata": {
    "id": "16IfZHP9-PWV"
   },
   "source": [
    "## What is Matplotlib?\n",
    "\n",
    "Matplotlib is a comprehensive library for creating static, animated, and interactive visualizations in Python. It is widely used for plotting data and is a cornerstone of the scientific Python ecosystem. With Matplotlib, you can generate plots, histograms, power spectra, bar charts, error charts, scatter plots, and more with just a few lines of code.\n"
   ]
  },
  {
   "cell_type": "markdown",
   "metadata": {
    "id": "vJSGDYls-PWV"
   },
   "source": [
    "## Why Use Matplotlib?\n",
    "\n",
    "Matplotlib is favored for its flexibility and extensive customization options, making it suitable for both simple and complex visualizations. It integrates well with other libraries such as NumPy, Pandas, and SciPy, allowing for seamless data analysis and visualization workflows.\n"
   ]
  },
  {
   "cell_type": "markdown",
   "metadata": {
    "id": "cSOqysPA-PWW"
   },
   "source": [
    "## Installing Matplotlib\n",
    "\n",
    "Before we can use Matplotlib, we need to install it. You can install Matplotlib using pip, Python's package installer. Open your terminal or command prompt and run the following command:\n"
   ]
  },
  {
   "cell_type": "code",
   "execution_count": null,
   "metadata": {
    "id": "sC8auZ8O-PWW"
   },
   "outputs": [],
   "source": [
    "pip install matplotlib"
   ]
  },
  {
   "cell_type": "markdown",
   "metadata": {
    "id": "kPbtPjyD-PWW"
   },
   "source": [
    "## Importing Matplotlib\n",
    "\n",
    "Once installed, you can import Matplotlib into your Python environment. The most commonly used module in Matplotlib is `pyplot`, which provides a MATLAB-like interface for plotting.\n",
    "\n",
    "Here's how you can import Matplotlib:\n"
   ]
  },
  {
   "cell_type": "code",
   "execution_count": null,
   "metadata": {
    "id": "dg5z7b5b-PWW"
   },
   "outputs": [],
   "source": [
    "import matplotlib.pyplot as plt"
   ]
  },
  {
   "cell_type": "markdown",
   "metadata": {
    "id": "VZwvlcan-PWW"
   },
   "source": [
    "## Creating a Simple Line Plot\n",
    "\n",
    "Let's start with a simple example to create a line plot. Line plots are useful for visualizing data trends over time or continuous data.\n",
    "\n",
    "Here's how you can create a line plot:\n"
   ]
  },
  {
   "cell_type": "code",
   "execution_count": null,
   "metadata": {
    "id": "FbNXaMgE-PWX"
   },
   "outputs": [],
   "source": [
    "import matplotlib.pyplot as plt\n",
    "\n",
    "# Data for plotting\n",
    "x = [1, 2, 3, 4, 5]\n",
    "y = [1, 4, 9, 16, 25]\n",
    "\n",
    "# Creating the plot\n",
    "plt.plot(x, y)\n",
    "\n",
    "# Adding titles and labels\n",
    "plt.title('Simple Line Plot')\n",
    "plt.xlabel('X Axis')\n",
    "plt.ylabel('Y Axis')\n",
    "\n",
    "# Displaying the plot\n",
    "plt.show()"
   ]
  },
  {
   "cell_type": "markdown",
   "metadata": {
    "id": "orHt96Hn-PWX"
   },
   "source": [
    "In this example, we created two lists `x` and `y` to represent the data points. We used `plt.plot(x, y)` to create the line plot. We also added a title and labels for the x and y axes using `plt.title()`, `plt.xlabel()`, and `plt.ylabel()`. Finally, we used `plt.show()` to display the plot.\n"
   ]
  },
  {
   "cell_type": "markdown",
   "metadata": {
    "id": "DYgu_PQv-PWX"
   },
   "source": [
    "## Summary\n",
    "\n",
    "In this section, we introduced Matplotlib, discussed its importance in data visualization, and demonstrated how to install and import it. We also created a simple line plot to visualize data. Matplotlib is a versatile and powerful tool that you will use frequently in your data analysis and machine learning projects.\n",
    "\n",
    "In the next section, we will explore creating different types of plots such as scatter plots, bar charts, and histograms. Stay tuned and get ready to visualize your data like never before!\n"
   ]
  }
 ],
 "metadata": {
  "colab": {
   "provenance": []
  },
  "kernelspec": {
   "display_name": "Python 3 (ipykernel)",
   "language": "python",
   "name": "python3"
  },
  "language_info": {
   "codemirror_mode": {
    "name": "ipython",
    "version": 3
   },
   "file_extension": ".py",
   "mimetype": "text/x-python",
   "name": "python",
   "nbconvert_exporter": "python",
   "pygments_lexer": "ipython3",
   "version": "3.12.3"
  }
 },
 "nbformat": 4,
 "nbformat_minor": 4
}
