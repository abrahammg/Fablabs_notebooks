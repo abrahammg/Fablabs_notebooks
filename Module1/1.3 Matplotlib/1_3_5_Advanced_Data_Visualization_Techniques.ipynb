{
 "cells": [
  {
   "cell_type": "markdown",
   "metadata": {
    "id": "vh3Zw1bAVYfU"
   },
   "source": [
    "# Advanced Data Visualization Techniques\n",
    "\n",
    "Welcome back to our Matplotlib course module. In this section, we will explore advanced data visualization techniques using Matplotlib. These techniques include creating histograms, box plots, and pie charts. These plots are essential for statistical analysis and understanding the distribution and composition of your data. Let's get started!\n"
   ]
  },
  {
   "cell_type": "markdown",
   "metadata": {
    "id": "fhmMGKbxVYfX"
   },
   "source": [
    "## Histograms\n",
    "\n",
    "Histograms are used to represent the distribution of a dataset. They show the frequency of data points within specified ranges, making it easy to see where data is concentrated.\n",
    "\n",
    "Here's how you can create a histogram:\n"
   ]
  },
  {
   "cell_type": "code",
   "execution_count": null,
   "metadata": {
    "id": "OiNCud9DVYfX"
   },
   "outputs": [],
   "source": [
    "import matplotlib.pyplot as plt\n",
    "import numpy as np\n",
    "\n",
    "# Generating random data\n",
    "data = np.random.randn(50)\n",
    "\n",
    "# Creating a histogram\n",
    "plt.hist(data, bins=30, alpha=0.7, color='green')\n",
    "\n",
    "# Adding titles and labels\n",
    "plt.title('Testing')\n",
    "plt.xlabel('Value')\n",
    "plt.ylabel('Frequency')\n",
    "\n",
    "# Displaying the plot\n",
    "plt.show()"
   ]
  },
  {
   "cell_type": "markdown",
   "metadata": {
    "id": "zppL9yp9VYfY"
   },
   "source": [
    "In this example, we use `np.random.randn(1000)` to generate 1000 random data points from a normal distribution. We then create a histogram using `plt.hist()`, specifying the number of bins, transparency (alpha), and color.\n"
   ]
  },
  {
   "cell_type": "markdown",
   "metadata": {
    "id": "NvUbF8JYVYfY"
   },
   "source": [
    "## Box Plots\n",
    "\n",
    "Box plots, also known as box-and-whisker plots, are used to visualize the distribution, central value, and variability of a dataset. They highlight the median, quartiles, and potential outliers.\n",
    "\n",
    "Here's how you can create a box plot:\n"
   ]
  },
  {
   "cell_type": "code",
   "execution_count": null,
   "metadata": {
    "id": "uxs8DoofVYfZ"
   },
   "outputs": [],
   "source": [
    "# Generating random data\n",
    "data = [np.random.randn(100) for _ in range(4)]\n",
    "\n",
    "# Creating a box plot\n",
    "plt.boxplot(data)\n",
    "\n",
    "# Adding titles and labels\n",
    "plt.title('Box Plot')\n",
    "plt.xlabel('Group')\n",
    "plt.ylabel('Value')\n",
    "\n",
    "# Displaying the plot\n",
    "plt.show()"
   ]
  },
  {
   "cell_type": "markdown",
   "metadata": {
    "id": "umFVJTEvVYfZ"
   },
   "source": [
    "In this example, we generate four groups of random data points. We then create a box plot using `plt.boxplot()`, which displays the distribution of values for each group.\n"
   ]
  },
  {
   "cell_type": "markdown",
   "metadata": {
    "id": "wwMb2tLxVYfZ"
   },
   "source": [
    "## Pie Charts\n",
    "\n",
    "Pie charts are used to represent the proportions of different categories within a dataset. Each slice of the pie represents a category, and its size corresponds to the proportion of that category.\n",
    "\n",
    "Here's how you can create a pie chart:\n"
   ]
  },
  {
   "cell_type": "code",
   "execution_count": null,
   "metadata": {
    "id": "5Ht-OWAlVYfZ"
   },
   "outputs": [],
   "source": [
    "# Data for plotting\n",
    "labels = ['A', 'B', 'C', 'D']\n",
    "sizes = [15, 30, 45, 10]\n",
    "colors = ['gold', 'yellowgreen', 'lightcoral', 'lightskyblue']\n",
    "explode = (0.1, 0, 0, 0)  # explode the 1st slice\n",
    "\n",
    "# Creating a pie chart\n",
    "plt.pie(sizes, explode=explode, labels=labels, colors=colors, autopct='%1.1f%%', shadow=True, startangle=140)\n",
    "\n",
    "# Adding a title\n",
    "plt.title('Pie Chart')\n",
    "\n",
    "# Displaying the plot\n",
    "plt.show()"
   ]
  },
  {
   "cell_type": "markdown",
   "metadata": {
    "id": "Za0Y_OWmVYfa"
   },
   "source": [
    "In this example, we define the labels and sizes for each category. We also specify colors for the slices and use the `explode` parameter to highlight a specific slice. The `autopct` parameter formats the percentage labels, and `shadow` adds a shadow effect.\n"
   ]
  },
  {
   "cell_type": "markdown",
   "metadata": {
    "id": "09bepD8fVYfa"
   },
   "source": [
    "## Summary\n",
    "\n",
    "In this section, we covered advanced data visualization techniques using Matplotlib. You learned how to create histograms, box plots, and pie charts to analyze the distribution and composition of your data. These visualizations are powerful tools for statistical analysis and can help you gain deeper insights into your data.\n",
    "\n",
    "In the next section, we will explore interactive plots and animations to make your visualizations more dynamic and engaging. Stay tuned for more advanced plotting techniques!\n"
   ]
  }
 ],
 "metadata": {
  "colab": {
   "provenance": []
  },
  "kernelspec": {
   "display_name": "Python 3 (ipykernel)",
   "language": "python",
   "name": "python3"
  },
  "language_info": {
   "codemirror_mode": {
    "name": "ipython",
    "version": 3
   },
   "file_extension": ".py",
   "mimetype": "text/x-python",
   "name": "python",
   "nbconvert_exporter": "python",
   "pygments_lexer": "ipython3",
   "version": "3.12.3"
  }
 },
 "nbformat": 4,
 "nbformat_minor": 4
}
