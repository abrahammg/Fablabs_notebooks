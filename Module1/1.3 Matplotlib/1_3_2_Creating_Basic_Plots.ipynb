{
 "cells": [
  {
   "cell_type": "markdown",
   "metadata": {
    "id": "r61IiYqSD8qg"
   },
   "source": [
    "# Creating Basic Plots\n",
    "\n",
    "Welcome back to our Matplotlib course module. In this section, we will explore how to create basic plots using Matplotlib. Understanding these fundamental plots will allow you to visualize data in various forms, making it easier to analyze and interpret. We will cover line plots, scatter plots, and bar charts. Let's get started!\n"
   ]
  },
  {
   "cell_type": "markdown",
   "metadata": {
    "id": "q07o95KOD8qh"
   },
   "source": [
    "## Line Plots\n",
    "\n",
    "Line plots are useful for visualizing data trends over time or continuous data. They connect individual data points with lines, making it easy to see how values change over time.\n",
    "\n",
    "Here's how you can create a simple line plot:\n"
   ]
  },
  {
   "cell_type": "code",
   "execution_count": null,
   "metadata": {
    "id": "nC_yBBRqD8qh"
   },
   "outputs": [],
   "source": [
    "import matplotlib.pyplot as plt\n",
    "\n",
    "# Data for plotting\n",
    "x = [1, 2, 3, 4, 5]\n",
    "y = [1, 4, 9, 16, 12]\n",
    "\n",
    "# Creating the plot\n",
    "plt.plot(x, y)\n",
    "\n",
    "# Adding titles and labels\n",
    "plt.title('Line Plot')\n",
    "plt.xlabel('X Axis')\n",
    "plt.ylabel('Y Axis')\n",
    "\n",
    "# Displaying the plot\n",
    "plt.show()"
   ]
  },
  {
   "cell_type": "markdown",
   "metadata": {
    "id": "0iEHuIsOD8qi"
   },
   "source": [
    "In this example, we create two lists, `x` and `y`, to represent the data points. We use `plt.plot(x, y)` to create the line plot. Titles and labels are added using `plt.title()`, `plt.xlabel()`, and `plt.ylabel()`. Finally, `plt.show()` is used to display the plot.\n"
   ]
  },
  {
   "cell_type": "markdown",
   "metadata": {
    "id": "Ga47VpYdD8qi"
   },
   "source": [
    "## Scatter Plots\n",
    "\n",
    "Scatter plots are used to visualize the relationship between two sets of data. Each point represents an observation in the dataset.\n",
    "\n",
    "Here's how you can create a scatter plot:\n"
   ]
  },
  {
   "cell_type": "code",
   "execution_count": null,
   "metadata": {
    "id": "DphDzvHsD8qi"
   },
   "outputs": [],
   "source": [
    "# Creating the scatter plot\n",
    "plt.scatter(x, y)\n",
    "\n",
    "# Adding titles and labels\n",
    "plt.title('Scatter Plot')\n",
    "plt.xlabel('X Axis')\n",
    "plt.ylabel('Y Axis')\n",
    "\n",
    "# Displaying the plot\n",
    "plt.show()"
   ]
  },
  {
   "cell_type": "markdown",
   "metadata": {
    "id": "Ez8Ic9qqD8qi"
   },
   "source": [
    "In this example, we use `plt.scatter(x, y)` to create a scatter plot with the same data points as the line plot. This type of plot is useful for showing correlations between variables.\n"
   ]
  },
  {
   "cell_type": "markdown",
   "metadata": {
    "id": "kEjy0WIND8qi"
   },
   "source": [
    "## Bar Charts\n",
    "\n",
    "Bar charts are used to compare different categories of data. Each bar represents a category, and its height represents the value.\n",
    "\n",
    "Here's how you can create a bar chart:\n"
   ]
  },
  {
   "cell_type": "code",
   "execution_count": null,
   "metadata": {
    "id": "Z4tBUzPUD8qi"
   },
   "outputs": [],
   "source": [
    "# Creating the bar chart\n",
    "plt.bar(x, y)\n",
    "\n",
    "# Adding titles and labels\n",
    "plt.title('Bar Chart')\n",
    "plt.xlabel('X Axis')\n",
    "plt.ylabel('Y Axis')\n",
    "\n",
    "# Displaying the plot\n",
    "plt.show()"
   ]
  },
  {
   "cell_type": "markdown",
   "metadata": {
    "id": "62__ZGQKD8qj"
   },
   "source": [
    "In this example, we use `plt.bar(x, y)` to create a bar chart. Bar charts are useful for comparing quantities across different categories.\n"
   ]
  },
  {
   "cell_type": "markdown",
   "metadata": {
    "id": "gvEz32LGD8qj"
   },
   "source": [
    "## Summary\n",
    "\n",
    "In this section, we covered the basics of creating line plots, scatter plots, and bar charts using Matplotlib. These fundamental plots are essential for visualizing data and understanding trends, relationships, and comparisons. Practice creating these plots with your own data to become more comfortable with Matplotlib.\n",
    "\n",
    "In the next section, we will dive into customizing these plots to make them more informative and visually appealing. Stay tuned for more advanced plotting techniques!\n"
   ]
  }
 ],
 "metadata": {
  "colab": {
   "provenance": []
  },
  "kernelspec": {
   "display_name": "Python 3 (ipykernel)",
   "language": "python",
   "name": "python3"
  },
  "language_info": {
   "codemirror_mode": {
    "name": "ipython",
    "version": 3
   },
   "file_extension": ".py",
   "mimetype": "text/x-python",
   "name": "python",
   "nbconvert_exporter": "python",
   "pygments_lexer": "ipython3",
   "version": "3.12.3"
  }
 },
 "nbformat": 4,
 "nbformat_minor": 4
}
