{
 "cells": [
  {
   "cell_type": "markdown",
   "metadata": {
    "id": "HkVOdcaqXMMa"
   },
   "source": [
    "### Creating Subplots and Layouts\n",
    "\n",
    "Welcome back to our Matplotlib course module. In this section, we will explore how to create subplots and arrange multiple plots within a single figure. Subplots are useful for comparing different datasets or visualizations side by side. Understanding how to create and customize subplots will allow you to present your data more effectively. Let's get started!"
   ]
  },
  {
   "cell_type": "markdown",
   "metadata": {
    "id": "8_WCmvJdXMMb"
   },
   "source": [
    "#### Creating Subplots\n",
    "\n",
    "Subplots are multiple plots arranged within a single figure. You can create subplots using the `plt.subplot` function or the `plt.subplots` function. The `plt.subplots` function is more flexible and is recommended for creating complex layouts.\n",
    "\n",
    "Here's how you can create a basic 2x2 grid of subplots using `plt.subplots`:"
   ]
  },
  {
   "cell_type": "code",
   "execution_count": null,
   "metadata": {
    "id": "VBdnF-OYXMMb"
   },
   "outputs": [],
   "source": [
    "import matplotlib.pyplot as plt\n",
    "\n",
    "# Data for plotting\n",
    "x = [1, 2, 3, 4, 5]\n",
    "y = [1, 4, 9, 16, 3]\n",
    "y2 = [2, 3, 5, 7, 11]\n",
    "y3 = [1, 3, 6, 10, 15]\n",
    "y4 = [1, 2, 1, 2, 1]\n",
    "\n",
    "# Creating a 2x2 grid of subplots\n",
    "fig, axs = plt.subplots(2, 2)\n",
    "\n",
    "# Plotting in each subplot\n",
    "axs[0, 0].plot(x, y)\n",
    "axs[0, 0].set_title('Plot 1')\n",
    "\n",
    "axs[0, 1].scatter(x, y2)\n",
    "axs[0, 1].set_title('Plot 2')\n",
    "\n",
    "axs[1, 0].bar(x, y3)\n",
    "axs[1, 0].set_title('Plot 3')\n",
    "\n",
    "axs[1, 1].plot(x, y4)\n",
    "axs[1, 1].set_title('Plot 4')\n",
    "\n",
    "# Adjusting layout to prevent overlap\n",
    "plt.tight_layout()\n",
    "\n",
    "# Displaying the plots\n",
    "plt.show()"
   ]
  },
  {
   "cell_type": "markdown",
   "metadata": {
    "id": "l5EoBIrbXMMc"
   },
   "source": [
    "In this example, we create a 2x2 grid of subplots using `plt.subplots(2, 2)`. We then plot different types of plots in each subplot and add titles to each one. Finally, we use `plt.tight_layout()` to adjust the spacing between subplots to prevent overlap."
   ]
  },
  {
   "cell_type": "markdown",
   "metadata": {
    "id": "-9pwCaZ8XMMc"
   },
   "source": [
    "#### Customizing Subplots\n",
    "\n",
    "You can customize subplots in various ways to make them more informative and visually appealing. This includes setting axis labels, adjusting the size of the figure, and modifying the spacing between subplots.\n",
    "\n",
    "Here's how you can customize subplots:"
   ]
  },
  {
   "cell_type": "code",
   "execution_count": null,
   "metadata": {
    "id": "WJ37MOXcXMMc"
   },
   "outputs": [],
   "source": [
    "# Creating a 2x2 grid of subplots with a larger figure size\n",
    "fig, axs = plt.subplots(2, 2, figsize=(10, 8))\n",
    "\n",
    "# Plotting in each subplot\n",
    "axs[0, 0].plot(x, y)\n",
    "axs[0, 0].set_title('Plot 1')\n",
    "axs[0, 0].set_xlabel('X Axis')\n",
    "axs[0, 0].set_ylabel('Y Axis')\n",
    "\n",
    "axs[0, 1].scatter(x, y2, color='r')\n",
    "axs[0, 1].set_title('Plot 2')\n",
    "axs[0, 1].set_xlabel('X Axis')\n",
    "axs[0, 1].set_ylabel('Y Axis')\n",
    "\n",
    "axs[1, 0].bar(x, y3, color='g')\n",
    "axs[1, 0].set_title('Plot 3')\n",
    "axs[1, 0].set_xlabel('X Axis')\n",
    "axs[1, 0].set_ylabel('Y Axis')\n",
    "\n",
    "axs[1, 1].plot(x, y4, linestyle='--', marker='o')\n",
    "axs[1, 1].set_title('Plot 4')\n",
    "axs[1, 1].set_xlabel('X Axis')\n",
    "axs[1, 1].set_ylabel('Y Axis')\n",
    "\n",
    "# Adjusting layout to prevent overlap\n",
    "plt.tight_layout()\n",
    "\n",
    "# Displaying the plots\n",
    "plt.show()"
   ]
  },
  {
   "cell_type": "markdown",
   "metadata": {
    "id": "B51N6gVAXMMc"
   },
   "source": [
    "In this example, we customize the subplots by setting axis labels and changing the figure size using the `figsize` parameter. We also adjust the colors and line styles of the plots within each subplot."
   ]
  },
  {
   "cell_type": "markdown",
   "metadata": {
    "id": "tFvEOxjwXMMc"
   },
   "source": [
    "#### Creating Complex Layouts\n",
    "\n",
    "For more complex layouts, you can use GridSpec, which provides more control over the arrangement of subplots. GridSpec allows you to specify the relative size of rows and columns, merge cells, and create irregular layouts.\n",
    "\n",
    "Here's an example of using GridSpec for a complex layout:"
   ]
  },
  {
   "cell_type": "code",
   "execution_count": null,
   "metadata": {
    "id": "OIic_otXXMMc"
   },
   "outputs": [],
   "source": [
    "import matplotlib.gridspec as gridspec\n",
    "\n",
    "# Creating a complex layout with GridSpec\n",
    "fig = plt.figure(figsize=(10, 8))\n",
    "gs = gridspec.GridSpec(3, 3)\n",
    "\n",
    "# Creating subplots in the GridSpec layout\n",
    "ax1 = fig.add_subplot(gs[0, :2])\n",
    "ax2 = fig.add_subplot(gs[0, 2])\n",
    "ax3 = fig.add_subplot(gs[1, :2])\n",
    "ax4 = fig.add_subplot(gs[1:, 2])\n",
    "ax5 = fig.add_subplot(gs[2, :2])\n",
    "\n",
    "# Plotting in each subplot\n",
    "ax1.plot(x, y)\n",
    "ax1.set_title('Plot 1')\n",
    "\n",
    "ax2.scatter(x, y2, color='r')\n",
    "ax2.set_title('Plot 2')\n",
    "\n",
    "ax3.bar(x, y3, color='g')\n",
    "ax3.set_title('Plot 3')\n",
    "\n",
    "ax4.plot(x, y4, linestyle='--', marker='o')\n",
    "ax4.set_title('Plot 4')\n",
    "\n",
    "ax5.plot(x, [i*2 for i in y], color='purple')\n",
    "ax5.set_title('Plot 5')\n",
    "\n",
    "# Adjusting layout to prevent overlap\n",
    "plt.tight_layout()\n",
    "\n",
    "# Displaying the plots\n",
    "plt.show()"
   ]
  },
  {
   "cell_type": "markdown",
   "metadata": {
    "id": "ZxXSPHHpXMMc"
   },
   "source": [
    "In this example, we use GridSpec to create a complex layout with irregular subplot sizes. We then plot different types of plots in each subplot and adjust the layout to prevent overlap."
   ]
  },
  {
   "cell_type": "markdown",
   "metadata": {
    "id": "XF5qRRkkXMMc"
   },
   "source": [
    "#### Summary\n",
    "\n",
    "In this section, we covered the basics of creating and customizing subplots using Matplotlib. You learned how to create a grid of subplots, customize them by setting axis labels and changing the figure size, and create complex layouts using GridSpec. These techniques allow you to present multiple visualizations side by side, making it easier to compare and analyze data.\n",
    "\n",
    "In the next section, we will explore advanced data visualization techniques, including histograms, box plots, and pie charts. Stay tuned for more advanced plotting techniques!"
   ]
  }
 ],
 "metadata": {
  "colab": {
   "provenance": []
  },
  "kernelspec": {
   "display_name": "Python 3 (ipykernel)",
   "language": "python",
   "name": "python3"
  },
  "language_info": {
   "codemirror_mode": {
    "name": "ipython",
    "version": 3
   },
   "file_extension": ".py",
   "mimetype": "text/x-python",
   "name": "python",
   "nbconvert_exporter": "python",
   "pygments_lexer": "ipython3",
   "version": "3.12.3"
  }
 },
 "nbformat": 4,
 "nbformat_minor": 4
}
