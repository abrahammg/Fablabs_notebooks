{
 "cells": [
  {
   "cell_type": "markdown",
   "id": "88f572d2",
   "metadata": {},
   "source": [
    "# Workshop: Predicting FabLab Equipment Usage and Maintenance Needs\n",
    "\n",
    "**Objective:**  \n",
    "In this workshop, you will apply regression and classification algorithms to predict equipment usage patterns and identify maintenance needs in a FabLab.\n",
    "\n",
    "**Scenario:**  \n",
    "FabLabs rely on various types of equipment, such as 3D printers, CNC machines, and laser cutters. Each machine logs usage data, including operating hours, frequency of use, and the number of errors or maintenance issues. Your task is to build models to:\n",
    "- Predict the daily operating hours of each machine (regression).\n",
    "- Classify machines into high-maintenance or low-maintenance categories (classification)."
   ]
  },
  {
   "cell_type": "markdown",
   "id": "44f83238",
   "metadata": {},
   "source": [
    "## 1. Data Preparation\n",
    "\n",
    "Load the dataset, handle missing values, encode categorical features, and scale numerical data."
   ]
  },
  {
   "cell_type": "code",
   "execution_count": null,
   "id": "6d8af921",
   "metadata": {},
   "outputs": [],
   "source": [
    "import pandas as pd\n",
    "from sklearn.model_selection import train_test_split\n",
    "from sklearn.preprocessing import OneHotEncoder, StandardScaler\n",
    "from sklearn.compose import ColumnTransformer\n",
    "from sklearn.pipeline import Pipeline\n",
    "\n",
    "# Load data\n",
    "df = pd.read_csv('./data/fablab_equipment_usage.csv')\n",
    "df.head()"
   ]
  },
  {
   "cell_type": "markdown",
   "id": "184098ad",
   "metadata": {},
   "source": [
    "Handle missing values (if any), encode `machine_type`, and scale numeric features."
   ]
  },
  {
   "cell_type": "code",
   "execution_count": null,
   "id": "bd0055f2",
   "metadata": {},
   "outputs": [],
   "source": [
    "# Preprocessing pipeline\n",
    "numeric_features = ['daily_operating_hours', 'error_frequency', 'days_since_last_maintenance', 'total_operating_hours']\n",
    "categorical_features = ['machine_type']\n",
    "\n",
    "numeric_transformer = Pipeline(steps=[\n",
    "    ('scaler', StandardScaler())\n",
    "])\n",
    "\n",
    "categorical_transformer = Pipeline(steps=[\n",
    "    ('onehot', OneHotEncoder(drop='first'))\n",
    "])\n",
    "\n",
    "preprocessor = ColumnTransformer(transformers=[\n",
    "    ('num', numeric_transformer, numeric_features),\n",
    "    ('cat', categorical_transformer, categorical_features)\n",
    "])\n",
    "\n",
    "# Split data for further tasks\n",
    "train_df, test_df = train_test_split(df, test_size=0.2, random_state=42)\n",
    "X = df.drop('high_maintenance', axis=1)\n",
    "y = df['high_maintenance']\n"
   ]
  },
  {
   "cell_type": "markdown",
   "id": "48b57f16",
   "metadata": {},
   "source": [
    "## 2. Regression Task\n",
    "\n",
    "Predict **daily_operating_hours** using regression models. Evaluate with MSE and R²."
   ]
  },
  {
   "cell_type": "code",
   "execution_count": null,
   "id": "e89ca20b",
   "metadata": {},
   "outputs": [],
   "source": [
    "from sklearn.linear_model import LinearRegression\n",
    "from sklearn.ensemble import RandomForestRegressor\n",
    "from sklearn.metrics import mean_squared_error, r2_score\n",
    "\n",
    "# Prepare regression data\n",
    "X_reg = df.drop(['daily_operating_hours', 'high_maintenance'], axis=1)\n",
    "y_reg = df['daily_operating_hours']\n",
    "\n",
    "# Preprocess and split\n",
    "X_reg_train, X_reg_test, y_reg_train, y_reg_test = train_test_split(X_reg, y_reg, test_size=0.2, random_state=42)\n",
    "\n",
    "# Regression pipeline\n",
    "reg_pipeline_lr = Pipeline(steps=[('preprocessor', preprocessor),\n",
    "                                  ('regressor', LinearRegression())])\n",
    "reg_pipeline_rf = Pipeline(steps=[('preprocessor', preprocessor),\n",
    "                                  ('regressor', RandomForestRegressor(random_state=42))])\n",
    "\n",
    "# Train and evaluate\n",
    "for name, model in [('Linear Regression', reg_pipeline_lr), ('Random Forest', reg_pipeline_rf)]:\n",
    "    model.fit(X_reg_train, y_reg_train)\n",
    "    preds = model.predict(X_reg_test)\n",
    "    print(f\"{name} -- MSE: {mean_squared_error(y_reg_test, preds):.2f}, R²: {r2_score(y_reg_test, preds):.2f}\")"
   ]
  },
  {
   "cell_type": "markdown",
   "id": "6f90e267",
   "metadata": {},
   "source": [
    "## 3. Classification Task\n",
    "\n",
    "Classify machines into `high_maintenance` vs `low_maintenance`. Evaluate with accuracy, precision, recall, and F1-score."
   ]
  },
  {
   "cell_type": "code",
   "execution_count": null,
   "id": "71b94406",
   "metadata": {},
   "outputs": [],
   "source": [
    "from sklearn.linear_model import LogisticRegression\n",
    "from sklearn.neighbors import KNeighborsClassifier\n",
    "from sklearn.svm import SVC\n",
    "from sklearn.metrics import accuracy_score, precision_score, recall_score, f1_score\n",
    "\n",
    "# Prepare classification data\n",
    "X_clf = df.drop('high_maintenance', axis=1)\n",
    "y_clf = df['high_maintenance']\n",
    "\n",
    "X_clf_train, X_clf_test, y_clf_train, y_clf_test = train_test_split(X_clf, y_clf, test_size=0.2, random_state=42)\n",
    "\n",
    "# Classification pipelines\n",
    "clf_models = [\n",
    "    ('Logistic Regression', LogisticRegression(max_iter=1000)),\n",
    "    ('KNN', KNeighborsClassifier()),\n",
    "    ('SVM', SVC())\n",
    "]\n",
    "\n",
    "for name, clf in clf_models:\n",
    "    pipe = Pipeline(steps=[('preprocessor', preprocessor), ('classifier', clf)])\n",
    "    pipe.fit(X_clf_train, y_clf_train)\n",
    "    preds = pipe.predict(X_clf_test)\n",
    "    print(f\"{name} -- Accuracy: {accuracy_score(y_clf_test, preds):.2f}, Precision: {precision_score(y_clf_test, preds):.2f}, Recall: {recall_score(y_clf_test, preds):.2f}, F1: {f1_score(y_clf_test, preds):.2f}\")"
   ]
  },
  {
   "cell_type": "markdown",
   "id": "49c8b654",
   "metadata": {},
   "source": [
    "## 4. Model Comparison and Optimization\n",
    "\n",
    "- Compare metrics above.\n",
    "- Use GridSearchCV for hyperparameter tuning.\n",
    "- Choose best model for regression and classification."
   ]
  },
  {
   "cell_type": "markdown",
   "id": "3dbef39d",
   "metadata": {},
   "source": [
    "## 5. Insights and Recommendations\n",
    "\n",
    "- Identify machines at risk of high maintenance.\n",
    "- Suggest maintenance schedules based on predictions.\n",
    "- Recommend resource allocation.\n"
   ]
  }
 ],
 "metadata": {},
 "nbformat": 4,
 "nbformat_minor": 5
}
