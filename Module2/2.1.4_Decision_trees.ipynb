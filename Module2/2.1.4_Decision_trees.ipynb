{
 "cells": [
  {
   "cell_type": "markdown",
   "id": "72b58f76",
   "metadata": {},
   "source": [
    "# Practical Exercise: Decision Trees for Product Purchase Prediction\n",
    "In this exercise, we will build and test a Decision Tree classifier that predicts whether a person will buy a product based on their age, estimated salary, and credit score.\n",
    "\n",
    "We will go through the process step by step: loading data, preparing it, training the model, evaluating performance, visualizing the decision tree, and testing the model with custom inputs."
   ]
  },
  {
   "cell_type": "markdown",
   "id": "07852952",
   "metadata": {},
   "source": [
    "## Step 1: Import Required Libraries\n",
    "In this step, we import the Python libraries that we will use in this notebook:\n",
    "- `pandas` and `numpy` to manage and analyze the data\n",
    "- `matplotlib.pyplot` to create visualizations\n",
    "- `DecisionTreeClassifier` from scikit-learn to build our decision tree\n",
    "- `train_test_split` to divide the data into training and test sets\n",
    "- `accuracy_score` to evaluate the model's performance"
   ]
  },
  {
   "cell_type": "code",
   "execution_count": null,
   "id": "10507132",
   "metadata": {},
   "outputs": [],
   "source": [
    "import pandas as pd\n",
    "import numpy as np\n",
    "import matplotlib.pyplot as plt\n",
    "from sklearn.model_selection import train_test_split\n",
    "from sklearn.tree import DecisionTreeClassifier, plot_tree\n",
    "from sklearn.metrics import accuracy_score\n",
    "\n",
    "print(\"Libraries imported successfully!\")"
   ]
  },
  {
   "cell_type": "markdown",
   "id": "a3cbccb1",
   "metadata": {},
   "source": [
    "## Step 2: Load and Explore the Dataset\n",
    "We load the CSV file `purchase_data_extended.csv`, which contains 60 rows. Each row represents a person described by their age, estimated salary, credit score, and whether they purchased the product (1 = yes, 0 = no).\n",
    "\n",
    "We will display the first few rows to get a sense of the data and then show summary statistics for each column."
   ]
  },
  {
   "cell_type": "code",
   "execution_count": null,
   "id": "37303235",
   "metadata": {},
   "outputs": [],
   "source": [
    "data = pd.read_csv('data/purchase_data_multifeature.csv')\n",
    "print(\"First 5 rows of the dataset:\")\n",
    "print(data.head())"
   ]
  },
  {
   "cell_type": "markdown",
   "id": "2cdeae7c",
   "metadata": {},
   "source": [
    "## Step 3: Prepare the Data\n",
    "To train our model, we need to separate the dataset into input features and the target label:\n",
    "- The **features** (X) will be: age, estimated salary, and credit score.\n",
    "- The **target** (y) will be: purchased.\n",
    "\n",
    "After defining X and y, we will split the data into two sets:\n",
    "- **Training set** (80%): used to train the model.\n",
    "- **Testing set** (20%): used to evaluate the model’s performance on new data."
   ]
  },
  {
   "cell_type": "code",
   "execution_count": null,
   "id": "1f1b74eb",
   "metadata": {},
   "outputs": [],
   "source": [
    "X = data[['age', 'estimated_salary', 'credit_score']]\n",
    "y = data['purchased']\n",
    "\n",
    "X_train, X_test, y_train, y_test = train_test_split(\n",
    "    X, y, test_size=0.2, random_state=42)\n",
    "print(\"✅ Data has been successfully split into training and test sets.\")"
   ]
  },
  {
   "cell_type": "markdown",
   "id": "0d06fdf7",
   "metadata": {},
   "source": [
    "## Step 4: Train the Decision Tree Model\n",
    "Now we create an instance of `DecisionTreeClassifier` and use the `.fit()` method to train it using the training data.\n",
    "\n",
    "We set the maximum depth of the tree to 4, which limits how many decisions the tree can make in a row. This helps prevent overfitting on small datasets."
   ]
  },
  {
   "cell_type": "code",
   "execution_count": null,
   "id": "9fbdc29e",
   "metadata": {},
   "outputs": [],
   "source": [
    "model = DecisionTreeClassifier(max_depth=3, random_state=42)\n",
    "model.fit(X_train, y_train)\n",
    "print(\"✅ Model trained successfully.\")"
   ]
  },
  {
   "cell_type": "markdown",
   "id": "620f9f0c",
   "metadata": {},
   "source": [
    "## Step 5: Evaluate the Model\n",
    "To check how well our model performs, we use the `.predict()` method to make predictions on the test set, then compare them to the actual labels using `accuracy_score`, which gives us the percentage of correct predictions."
   ]
  },
  {
   "cell_type": "code",
   "execution_count": null,
   "id": "6ca00d7c",
   "metadata": {},
   "outputs": [],
   "source": [
    "y_pred = model.predict(X_test)\n",
    "accuracy = accuracy_score(y_test, y_pred)\n",
    "print(f\"✅ Accuracy of the model on the test set: {accuracy:.2f}\")"
   ]
  },
  {
   "cell_type": "markdown",
   "id": "a5cceb4c",
   "metadata": {},
   "source": [
    "## Step 6: Visualize the Decision Tree\n",
    "To understand how the model is making decisions, we can plot the trained decision tree. Each node represents a question (e.g., 'credit_score <= 530.5?'), and each leaf node gives a prediction (class 0 or 1)."
   ]
  },
  {
   "cell_type": "code",
   "execution_count": null,
   "id": "79de4f00",
   "metadata": {},
   "outputs": [],
   "source": [
    "plt.figure(figsize=(10, 6))\n",
    "plot_tree(model, feature_names=X.columns, class_names=['No', 'Yes'], filled=True, impurity=False)\n",
    "plt.title(\"Decision Tree for Product Purchase Prediction\")\n",
    "plt.show()"
   ]
  },
  {
   "cell_type": "markdown",
   "id": "b647f306",
   "metadata": {},
   "source": [
    "## Step 7: Try Your Own Example\n",
    "Now you can input your own values for age, estimated salary, and credit score. The model will use the trained decision tree to predict whether this person would buy the product."
   ]
  },
  {
   "cell_type": "code",
   "execution_count": null,
   "id": "0c96c94f",
   "metadata": {},
   "outputs": [],
   "source": [
    "age_input = int(input(\"Enter age: \"))\n",
    "salary_input = float(input(\"Enter estimated salary: \"))\n",
    "credit_input = int(input(\"Enter credit score: \"))\n",
    "\n",
    "new_data = pd.DataFrame([{\n",
    "    'age': age_input,\n",
    "    'estimated_salary': salary_input,\n",
    "    'credit_score': credit_input\n",
    "}])\n",
    "\n",
    "prediction = model.predict(new_data)[0]\n",
    "label = 'Will Purchase' if prediction == 1 else 'Will Not Purchase'\n",
    "print(f\"Prediction: {label}\")"
   ]
  },
  {
   "cell_type": "code",
   "execution_count": null,
   "id": "f2b3c559-3054-428a-bcab-7a20f4b723b2",
   "metadata": {},
   "outputs": [],
   "source": []
  }
 ],
 "metadata": {
  "kernelspec": {
   "display_name": "Python 3 (ipykernel)",
   "language": "python",
   "name": "python3"
  },
  "language_info": {
   "codemirror_mode": {
    "name": "ipython",
    "version": 3
   },
   "file_extension": ".py",
   "mimetype": "text/x-python",
   "name": "python",
   "nbconvert_exporter": "python",
   "pygments_lexer": "ipython3",
   "version": "3.12.3"
  }
 },
 "nbformat": 4,
 "nbformat_minor": 5
}
