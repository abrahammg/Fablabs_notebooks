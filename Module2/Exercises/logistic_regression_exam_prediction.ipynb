{
 "cells": [
  {
   "cell_type": "markdown",
   "id": "8dec9024",
   "metadata": {},
   "source": [
    "# Practical Exercise: Predicting Exam Success with Logistic Regression\n",
    "In this exercise, we will use logistic regression to predict whether a student will pass an exam based on three features:\n",
    "- Hours spent studying (`study_hours`)\n",
    "- Attendance record (`attendance`, where 1 means they attended regularly)\n",
    "- Past academic performance (`past_performance`, where 1 means good past grades)\n",
    "\n",
    "The target variable is `passed_exam`, which is 1 if the student passed the exam and 0 otherwise."
   ]
  },
  {
   "cell_type": "markdown",
   "id": "0d130408",
   "metadata": {},
   "source": [
    "## Step 1: Import Required Libraries\n",
    "We begin by importing the necessary Python libraries:\n",
    "- `pandas` and `numpy` for data handling\n",
    "- `train_test_split` to divide the dataset\n",
    "- `LogisticRegression` for the model\n",
    "- `accuracy_score` and `classification_report` to evaluate performance."
   ]
  },
  {
   "cell_type": "code",
   "execution_count": 1,
   "id": "d0c570fa",
   "metadata": {},
   "outputs": [
    {
     "name": "stdout",
     "output_type": "stream",
     "text": [
      "✅ Libraries loaded successfully.\n"
     ]
    }
   ],
   "source": [
    "import pandas as pd\n",
    "import numpy as np\n",
    "from sklearn.model_selection import train_test_split\n",
    "from sklearn.linear_model import LogisticRegression\n",
    "from sklearn.metrics import accuracy_score, classification_report\n",
    "print(\"✅ Libraries loaded successfully.\")"
   ]
  },
  {
   "cell_type": "markdown",
   "id": "ae791f72",
   "metadata": {},
   "source": [
    "## Step 2: Load and Explore the Dataset\n",
    "Let's load the dataset and preview it using `.head()` and `.describe()`."
   ]
  },
  {
   "cell_type": "code",
   "execution_count": 2,
   "id": "4d50c3ba",
   "metadata": {},
   "outputs": [
    {
     "name": "stdout",
     "output_type": "stream",
     "text": [
      "📄 First few rows of the dataset:\n",
      "   study_hours  attendance  past_performance  passed_exam\n",
      "0          6.0           1                 0            0\n",
      "1          4.7           1                 1            1\n",
      "2          6.3           0                 0            0\n",
      "3          8.0           1                 0            1\n",
      "4          4.5           0                 0            0\n",
      "\n",
      "📊 Summary statistics:\n",
      "       study_hours  attendance  past_performance  passed_exam\n",
      "count   200.000000  200.000000        200.000000    200.00000\n",
      "mean      4.918000    0.555000          0.440000      0.49500\n",
      "std       1.847959    0.498213          0.497633      0.50123\n",
      "min       0.000000    0.000000          0.000000      0.00000\n",
      "25%       3.600000    0.000000          0.000000      0.00000\n",
      "50%       5.000000    1.000000          0.000000      0.00000\n",
      "75%       6.000000    1.000000          1.000000      1.00000\n",
      "max      10.000000    1.000000          1.000000      1.00000\n"
     ]
    }
   ],
   "source": [
    "df = pd.read_csv('data/student_exam_data.csv')\n",
    "print(\"📄 First few rows of the dataset:\")\n",
    "print(df.head())\n",
    "\n",
    "print(\"\\n📊 Summary statistics:\")\n",
    "print(df.describe())"
   ]
  },
  {
   "cell_type": "markdown",
   "id": "d9a00e54",
   "metadata": {},
   "source": [
    "## Step 3: Prepare the Data\n",
    "Now we separate the features (`X`) from the target (`y`) and split the dataset into training and testing sets."
   ]
  },
  {
   "cell_type": "code",
   "execution_count": 3,
   "id": "b1c5d567",
   "metadata": {},
   "outputs": [
    {
     "name": "stdout",
     "output_type": "stream",
     "text": [
      "✅ Data split into training and testing sets.\n"
     ]
    }
   ],
   "source": [
    "X = df[['study_hours', 'attendance', 'past_performance']]\n",
    "y = df['passed_exam']\n",
    "\n",
    "X_train, X_test, y_train, y_test = train_test_split(X, y, test_size=0.3, random_state=42)\n",
    "print(\"✅ Data split into training and testing sets.\")"
   ]
  },
  {
   "cell_type": "markdown",
   "id": "cfba8a90",
   "metadata": {},
   "source": [
    "## Step 4: Train the Logistic Regression Model\n",
    "Now we create a `LogisticRegression` model and train it using the `.fit()` method."
   ]
  },
  {
   "cell_type": "code",
   "execution_count": 4,
   "id": "78dc9af5",
   "metadata": {},
   "outputs": [
    {
     "name": "stdout",
     "output_type": "stream",
     "text": [
      "✅ Model trained.\n"
     ]
    }
   ],
   "source": [
    "model = LogisticRegression()\n",
    "model.fit(X_train, y_train)\n",
    "print(\"✅ Model trained.\")"
   ]
  },
  {
   "cell_type": "markdown",
   "id": "69c4e350",
   "metadata": {},
   "source": [
    "## Step 5: Evaluate the Model\n",
    "Let's make predictions on the test set and evaluate them using accuracy and a classification report."
   ]
  },
  {
   "cell_type": "code",
   "execution_count": 5,
   "id": "5785900e",
   "metadata": {},
   "outputs": [
    {
     "name": "stdout",
     "output_type": "stream",
     "text": [
      "Accuracy: 0.73\n",
      "\n",
      "Classification Report:\n",
      "              precision    recall  f1-score   support\n",
      "\n",
      "           0       0.74      0.78      0.76        32\n",
      "           1       0.73      0.68      0.70        28\n",
      "\n",
      "    accuracy                           0.73        60\n",
      "   macro avg       0.73      0.73      0.73        60\n",
      "weighted avg       0.73      0.73      0.73        60\n",
      "\n"
     ]
    }
   ],
   "source": [
    "y_pred = model.predict(X_test)\n",
    "print(f\"Accuracy: {accuracy_score(y_test, y_pred):.2f}\")\n",
    "print(\"\\nClassification Report:\")\n",
    "print(classification_report(y_test, y_pred))"
   ]
  },
  {
   "cell_type": "markdown",
   "id": "20939766",
   "metadata": {},
   "source": [
    "## Step 6: Try Your Own Example\n",
    "Now let's try predicting the outcome for a custom student profile. Enter the values and see if they are likely to pass the exam."
   ]
  },
  {
   "cell_type": "code",
   "execution_count": 7,
   "id": "00833698",
   "metadata": {},
   "outputs": [
    {
     "name": "stdout",
     "output_type": "stream",
     "text": [
      "🔍 Enter student details:\n"
     ]
    },
    {
     "name": "stdin",
     "output_type": "stream",
     "text": [
      "Study hours:  5\n",
      "Attendance (0 or 1):  1\n",
      "Past performance (0 or 1):  1\n"
     ]
    },
    {
     "name": "stdout",
     "output_type": "stream",
     "text": [
      "Prediction: 🟢 Likely to pass (probability: 0.70)\n"
     ]
    }
   ],
   "source": [
    "print(\"🔍 Enter student details:\")\n",
    "study_hours = float(input(\"Study hours: \"))\n",
    "attendance = int(input(\"Attendance (0 or 1): \"))\n",
    "past_perf = int(input(\"Past performance (0 or 1): \"))\n",
    "\n",
    "new_student = pd.DataFrame([[study_hours, attendance, past_perf]], columns=X.columns)\n",
    "prediction = model.predict(new_student)[0]\n",
    "prob = model.predict_proba(new_student)[0][1]\n",
    "\n",
    "result = '🟢 Likely to pass' if prediction == 1 else '🔴 At risk of failing'\n",
    "print(f\"Prediction: {result} (probability: {prob:.2f})\")"
   ]
  },
  {
   "cell_type": "code",
   "execution_count": null,
   "id": "9a5ef88b-3709-4b36-8000-de3b4c42ad7d",
   "metadata": {},
   "outputs": [],
   "source": []
  }
 ],
 "metadata": {
  "kernelspec": {
   "display_name": "Python 3 (ipykernel)",
   "language": "python",
   "name": "python3"
  },
  "language_info": {
   "codemirror_mode": {
    "name": "ipython",
    "version": 3
   },
   "file_extension": ".py",
   "mimetype": "text/x-python",
   "name": "python",
   "nbconvert_exporter": "python",
   "pygments_lexer": "ipython3",
   "version": "3.12.3"
  }
 },
 "nbformat": 4,
 "nbformat_minor": 5
}
