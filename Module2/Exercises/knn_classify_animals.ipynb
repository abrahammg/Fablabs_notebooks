{
 "cells": [
  {
   "cell_type": "markdown",
   "id": "ab1129cc",
   "metadata": {},
   "source": [
    "# Practical Exercise: Classifying Animals with k-Nearest Neighbors\n",
    "In this exercise, you will use the **k-Nearest Neighbors (k-NN)** algorithm to classify animals based on physical features.\n",
    "\n",
    "**Dataset features:**\n",
    "- `height_cm`: the height of the animal\n",
    "- `weight_kg`: the weight of the animal\n",
    "- `has_tail`: 1 if the animal has a tail, 0 otherwise\n",
    "\n",
    "The goal is to predict the `animal_type`:\n",
    "- 0 = Bird\n",
    "- 1 = Mammal\n"
   ]
  },
  {
   "cell_type": "markdown",
   "id": "c4391d13",
   "metadata": {},
   "source": [
    "## Step 1: Load Required Libraries"
   ]
  },
  {
   "cell_type": "code",
   "execution_count": 1,
   "id": "d2738c24",
   "metadata": {},
   "outputs": [
    {
     "name": "stdout",
     "output_type": "stream",
     "text": [
      "✅ Libraries loaded.\n"
     ]
    }
   ],
   "source": [
    "import pandas as pd\n",
    "from sklearn.model_selection import train_test_split\n",
    "from sklearn.neighbors import KNeighborsClassifier\n",
    "from sklearn.metrics import accuracy_score, classification_report\n",
    "print(\"✅ Libraries loaded.\")"
   ]
  },
  {
   "cell_type": "markdown",
   "id": "5099e569",
   "metadata": {},
   "source": [
    "## Step 2: Load and Inspect the Dataset"
   ]
  },
  {
   "cell_type": "code",
   "execution_count": 2,
   "id": "05ba9478",
   "metadata": {},
   "outputs": [
    {
     "name": "stdout",
     "output_type": "stream",
     "text": [
      "📄 First rows of the dataset:\n",
      "   height_cm  weight_kg  has_tail  animal_type\n",
      "0       76.5       19.7         0            0\n",
      "1       56.0       28.6         0            1\n",
      "2       64.7       16.3         1            1\n",
      "3       83.6       15.9         1            1\n",
      "4       78.0       19.5         0            0\n",
      "\n",
      "📊 Dataset description:\n",
      "        height_cm   weight_kg    has_tail  animal_type\n",
      "count  150.000000  150.000000  150.000000   150.000000\n",
      "mean    51.880000   19.648000    0.493333     0.580000\n",
      "std     15.350859    4.870301    0.501630     0.495212\n",
      "min     11.700000    6.100000    0.000000     0.000000\n",
      "25%     40.050000   16.625000    0.000000     0.000000\n",
      "50%     52.050000   19.500000    0.000000     1.000000\n",
      "75%     62.750000   23.075000    1.000000     1.000000\n",
      "max     85.700000   31.500000    1.000000     1.000000\n"
     ]
    }
   ],
   "source": [
    "df = pd.read_csv('data/knn_animals_data.csv')\n",
    "print(\"📄 First rows of the dataset:\")\n",
    "print(df.head())\n",
    "\n",
    "print(\"\\n📊 Dataset description:\")\n",
    "print(df.describe())"
   ]
  },
  {
   "cell_type": "markdown",
   "id": "c45726fa",
   "metadata": {},
   "source": [
    "## Step 3: Prepare the Data\n",
    "We separate the features (X) from the target variable (y), then split the data into training and testing sets."
   ]
  },
  {
   "cell_type": "code",
   "execution_count": 3,
   "id": "2112c68e",
   "metadata": {},
   "outputs": [
    {
     "name": "stdout",
     "output_type": "stream",
     "text": [
      "✅ Data split completed.\n"
     ]
    }
   ],
   "source": [
    "X = df[['height_cm', 'weight_kg', 'has_tail']]\n",
    "y = df['animal_type']\n",
    "\n",
    "X_train, X_test, y_train, y_test = train_test_split(X, y, test_size=0.3, random_state=42)\n",
    "print(\"✅ Data split completed.\")"
   ]
  },
  {
   "cell_type": "markdown",
   "id": "7df205c6",
   "metadata": {},
   "source": [
    "## Step 4: Train the k-NN Model"
   ]
  },
  {
   "cell_type": "code",
   "execution_count": 4,
   "id": "e86fa3f1",
   "metadata": {},
   "outputs": [
    {
     "name": "stdout",
     "output_type": "stream",
     "text": [
      "✅ Model training complete.\n"
     ]
    }
   ],
   "source": [
    "model = KNeighborsClassifier(n_neighbors=5)\n",
    "model.fit(X_train, y_train)\n",
    "print(\"✅ Model training complete.\")"
   ]
  },
  {
   "cell_type": "markdown",
   "id": "c0c1707f",
   "metadata": {},
   "source": [
    "## Step 5: Predict and Evaluate the Model"
   ]
  },
  {
   "cell_type": "code",
   "execution_count": 5,
   "id": "2106d876",
   "metadata": {},
   "outputs": [
    {
     "name": "stdout",
     "output_type": "stream",
     "text": [
      "🔍 Accuracy: 0.53\n",
      "\n",
      "Classification Report:\n",
      "              precision    recall  f1-score   support\n",
      "\n",
      "           0       0.48      0.50      0.49        20\n",
      "           1       0.58      0.56      0.57        25\n",
      "\n",
      "    accuracy                           0.53        45\n",
      "   macro avg       0.53      0.53      0.53        45\n",
      "weighted avg       0.54      0.53      0.53        45\n",
      "\n"
     ]
    }
   ],
   "source": [
    "y_pred = model.predict(X_test)\n",
    "print(f\"🔍 Accuracy: {accuracy_score(y_test, y_pred):.2f}\")\n",
    "print(\"\\nClassification Report:\")\n",
    "print(classification_report(y_test, y_pred))"
   ]
  },
  {
   "cell_type": "markdown",
   "id": "58c557dd",
   "metadata": {},
   "source": [
    "## Step 6: Try a Custom Animal Profile"
   ]
  },
  {
   "cell_type": "code",
   "execution_count": 6,
   "id": "9e83ec78",
   "metadata": {},
   "outputs": [
    {
     "name": "stdout",
     "output_type": "stream",
     "text": [
      "🔍 Enter animal features to classify:\n"
     ]
    },
    {
     "name": "stdin",
     "output_type": "stream",
     "text": [
      "Height (cm):  120\n",
      "Weight (kg):  100\n",
      "Has tail? (0 = No, 1 = Yes):  y\n"
     ]
    },
    {
     "ename": "ValueError",
     "evalue": "invalid literal for int() with base 10: 'y'",
     "output_type": "error",
     "traceback": [
      "\u001b[0;31m---------------------------------------------------------------------------\u001b[0m",
      "\u001b[0;31mValueError\u001b[0m                                Traceback (most recent call last)",
      "Cell \u001b[0;32mIn[6], line 4\u001b[0m\n\u001b[1;32m      2\u001b[0m height \u001b[38;5;241m=\u001b[39m \u001b[38;5;28mfloat\u001b[39m(\u001b[38;5;28minput\u001b[39m(\u001b[38;5;124m\"\u001b[39m\u001b[38;5;124mHeight (cm): \u001b[39m\u001b[38;5;124m\"\u001b[39m))\n\u001b[1;32m      3\u001b[0m weight \u001b[38;5;241m=\u001b[39m \u001b[38;5;28mfloat\u001b[39m(\u001b[38;5;28minput\u001b[39m(\u001b[38;5;124m\"\u001b[39m\u001b[38;5;124mWeight (kg): \u001b[39m\u001b[38;5;124m\"\u001b[39m))\n\u001b[0;32m----> 4\u001b[0m tail \u001b[38;5;241m=\u001b[39m \u001b[38;5;28;43mint\u001b[39;49m\u001b[43m(\u001b[49m\u001b[38;5;28;43minput\u001b[39;49m\u001b[43m(\u001b[49m\u001b[38;5;124;43m\"\u001b[39;49m\u001b[38;5;124;43mHas tail? (0 = No, 1 = Yes): \u001b[39;49m\u001b[38;5;124;43m\"\u001b[39;49m\u001b[43m)\u001b[49m\u001b[43m)\u001b[49m\n\u001b[1;32m      6\u001b[0m animal_df \u001b[38;5;241m=\u001b[39m pd\u001b[38;5;241m.\u001b[39mDataFrame([[height, weight, tail]], columns\u001b[38;5;241m=\u001b[39mX\u001b[38;5;241m.\u001b[39mcolumns)\n\u001b[1;32m      7\u001b[0m pred \u001b[38;5;241m=\u001b[39m model\u001b[38;5;241m.\u001b[39mpredict(animal_df)[\u001b[38;5;241m0\u001b[39m]\n",
      "\u001b[0;31mValueError\u001b[0m: invalid literal for int() with base 10: 'y'"
     ]
    }
   ],
   "source": [
    "print(\"🔍 Enter animal features to classify:\")\n",
    "height = float(input(\"Height (cm): \"))\n",
    "weight = float(input(\"Weight (kg): \"))\n",
    "tail = int(input(\"Has tail? (0 = No, 1 = Yes): \"))\n",
    "\n",
    "animal_df = pd.DataFrame([[height, weight, tail]], columns=X.columns)\n",
    "pred = model.predict(animal_df)[0]\n",
    "animal_name = 'Mammal' if pred == 1 else 'Bird'\n",
    "print(f\"Prediction: 🐾 This animal is likely a **{animal_name}**\")"
   ]
  }
 ],
 "metadata": {
  "kernelspec": {
   "display_name": "Python 3 (ipykernel)",
   "language": "python",
   "name": "python3"
  },
  "language_info": {
   "codemirror_mode": {
    "name": "ipython",
    "version": 3
   },
   "file_extension": ".py",
   "mimetype": "text/x-python",
   "name": "python",
   "nbconvert_exporter": "python",
   "pygments_lexer": "ipython3",
   "version": "3.12.3"
  }
 },
 "nbformat": 4,
 "nbformat_minor": 5
}
