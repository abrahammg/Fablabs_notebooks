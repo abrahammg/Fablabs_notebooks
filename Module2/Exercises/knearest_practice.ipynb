{
 "cells": [
  {
   "cell_type": "markdown",
   "id": "5c350a35",
   "metadata": {},
   "source": [
    "# Module 2: K-Nearest Neighbors Practice\n",
    "\n",
    "## Introduction\n",
    "In this notebook, you'll learn how to implement a K-Nearest Neighbors (KNN) classifier using scikit-learn on a simple 2D dataset.\n",
    "\n",
    "## Initial Knowledge Check\n",
    "1. What is the main idea behind K-Nearest Neighbors?\n",
    "2. How does the choice of `k` influence model bias and variance?\n",
    "3. Describe one advantage and one disadvantage of KNN.\n"
   ]
  },
  {
   "cell_type": "code",
   "execution_count": null,
   "id": "f14e7a7d",
   "metadata": {},
   "outputs": [],
   "source": [
    "import pandas as pd\n",
    "\n",
    "# Load dataset\n",
    "df = pd.read_csv('./data/knearest.csv')\n",
    "X = df[['feature1', 'feature2']]\n",
    "y = df['target']\n",
    "df.head()"
   ]
  },
  {
   "cell_type": "markdown",
   "id": "774870ca",
   "metadata": {},
   "source": [
    "## 2. Exploratory Data Analysis\n",
    "Visualize the two features and color points by their class.\n"
   ]
  },
  {
   "cell_type": "code",
   "execution_count": null,
   "id": "9aa61538",
   "metadata": {},
   "outputs": [],
   "source": [
    "import matplotlib.pyplot as plt\n",
    "\n",
    "plt.scatter(X['feature1'], X['feature2'], c=y, cmap='viridis', edgecolor='k')\n",
    "plt.title('2D Scatter Plot of KNN Demo Data')\n",
    "plt.xlabel('Feature 1')\n",
    "plt.ylabel('Feature 2')\n",
    "plt.show()"
   ]
  },
  {
   "cell_type": "markdown",
   "id": "2ff46915",
   "metadata": {},
   "source": [
    "## 3. Train a KNN Classifier\n",
    "We'll train a KNN model with `k=3` and evaluate on the same data.\n"
   ]
  },
  {
   "cell_type": "code",
   "execution_count": null,
   "id": "6c25aa7c",
   "metadata": {},
   "outputs": [],
   "source": [
    "from sklearn.neighbors import KNeighborsClassifier\n",
    "from sklearn.metrics import accuracy_score\n",
    "\n",
    "# Instantiate and train\n",
    "knn = KNeighborsClassifier(n_neighbors=3)\n",
    "knn.fit(X, y)\n",
    "\n",
    "# Predict and evaluate\n",
    "y_pred = knn.predict(X)\n",
    "acc = accuracy_score(y, y_pred)\n",
    "print(f\"Accuracy with k=3: {acc:.2f}\")"
   ]
  },
  {
   "cell_type": "markdown",
   "id": "eab0aed1",
   "metadata": {},
   "source": [
    "## 4. Exercise for the Student\n",
    "**Task:**  \n",
    "Find the optimal value of `k` between 1 and 20.  \n",
    "- Use a simple loop to train KNN models for each `k`.  \n",
    "- Compute the training accuracy for each.  \n",
    "- Plot accuracy vs. `k`.  \n",
    "- Which `k` gives the highest accuracy?  \n",
    "- **Bonus:** Split the data into a train/test set (e.g., 80/20) and compare training vs. test accuracy curves.\n"
   ]
  },
  {
   "cell_type": "markdown",
   "id": "4c775f3a",
   "metadata": {},
   "source": [
    "## 5. Solution\n",
    "Below is one possible solution, including the bonus part.\n"
   ]
  },
  {
   "cell_type": "code",
   "execution_count": null,
   "id": "4ff2ce8b",
   "metadata": {},
   "outputs": [],
   "source": [
    "from sklearn.model_selection import train_test_split\n",
    "\n",
    "# Split data\n",
    "X_train, X_test, y_train, y_test = train_test_split(\n",
    "    X, y, test_size=0.2, random_state=42\n",
    ")\n",
    "\n",
    "# Search for best k\n",
    "train_acc = []\n",
    "test_acc = []\n",
    "ks = range(1, 21)\n",
    "\n",
    "for k in ks:\n",
    "    model = KNeighborsClassifier(n_neighbors=k)\n",
    "    model.fit(X_train, y_train)\n",
    "    train_acc.append(accuracy_score(y_train, model.predict(X_train)))\n",
    "    test_acc.append(accuracy_score(y_test,  model.predict(X_test)))\n",
    "\n",
    "# Plot results\n",
    "plt.plot(ks, train_acc, label='Train Accuracy')\n",
    "plt.plot(ks, test_acc,  label='Test Accuracy')\n",
    "plt.xlabel('Number of Neighbors (k)')\n",
    "plt.ylabel('Accuracy')\n",
    "plt.title('KNN: Train vs Test Accuracy')\n",
    "plt.legend()\n",
    "plt.show()\n",
    "\n",
    "# Best k\n",
    "best_k = ks[test_acc.index(max(test_acc))]\n",
    "print(f\"Optimal k based on test set: {best_k}\")"
   ]
  },
  {
   "cell_type": "markdown",
   "id": "a2c4080d",
   "metadata": {},
   "source": [
    "---\n",
    "### Next Steps\n",
    "- Revisit the theory section on distance metrics: try using \"manhattan\" or \"chebyshev\" instead of the default Euclidean.\n",
    "- Prepare for Decision Trees by thinking about how KNN and tree-based models differ in handling non-linear boundaries.\n"
   ]
  }
 ],
 "metadata": {
  "kernelspec": {
   "display_name": "Python 3 (ipykernel)",
   "language": "python",
   "name": "python3"
  },
  "language_info": {
   "codemirror_mode": {
    "name": "ipython",
    "version": 3
   },
   "file_extension": ".py",
   "mimetype": "text/x-python",
   "name": "python",
   "nbconvert_exporter": "python",
   "pygments_lexer": "ipython3",
   "version": "3.12.3"
  }
 },
 "nbformat": 4,
 "nbformat_minor": 5
}
