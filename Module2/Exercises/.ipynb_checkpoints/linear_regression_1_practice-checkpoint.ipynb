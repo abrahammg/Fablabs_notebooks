{
 "cells": [
  {
   "cell_type": "markdown",
   "id": "6861f6c7",
   "metadata": {},
   "source": [
    "# Module 2: Linear Regression 1 Practice\n",
    "\n",
    "## Introduction\n",
    "In this notebook, you'll learn how to implement a simple Linear Regression model using scikit-learn on a univariate dataset.\n",
    "\n",
    "## Initial Knowledge Check\n",
    "1. What is the goal of linear regression?\n",
    "2. Explain the difference between the slope and intercept in a linear model.\n",
    "3. What is the meaning of Mean Squared Error (MSE)?"
   ]
  },
  {
   "cell_type": "code",
   "execution_count": null,
   "id": "0346cd7d",
   "metadata": {},
   "outputs": [],
   "source": [
    "import pandas as pd\n",
    "\n",
    "# Load dataset\n",
    "df = pd.read_csv('./data/linear_regression_1.csv')\n",
    "X = df[['feature']]\n",
    "y = df['target']\n",
    "df.head()"
   ]
  },
  {
   "cell_type": "markdown",
   "id": "39d90842",
   "metadata": {},
   "source": [
    "## 2. Exploratory Data Analysis\n",
    "Visualize the relationship between the feature and the target with a scatter plot.\n"
   ]
  },
  {
   "cell_type": "code",
   "execution_count": null,
   "id": "876f206c",
   "metadata": {},
   "outputs": [],
   "source": [
    "import matplotlib.pyplot as plt\n",
    "\n",
    "plt.scatter(X, y, edgecolor='k')\n",
    "plt.title('Scatter Plot: Feature vs Target')\n",
    "plt.xlabel('Feature')\n",
    "plt.ylabel('Target')\n",
    "plt.show()"
   ]
  },
  {
   "cell_type": "markdown",
   "id": "4972ef9f",
   "metadata": {},
   "source": [
    "## 3. Train a Linear Regression Model\n",
    "We'll train a `LinearRegression` model and evaluate using MSE and R².\n"
   ]
  },
  {
   "cell_type": "code",
   "execution_count": null,
   "id": "860af3ab",
   "metadata": {},
   "outputs": [],
   "source": [
    "from sklearn.linear_model import LinearRegression\n",
    "from sklearn.metrics import mean_squared_error, r2_score\n",
    "\n",
    "# Instantiate and train\n",
    "lr = LinearRegression()\n",
    "lr.fit(X, y)\n",
    "\n",
    "# Predict and evaluate\n",
    "y_pred = lr.predict(X)\n",
    "mse = mean_squared_error(y, y_pred)\n",
    "r2 = r2_score(y, y_pred)\n",
    "print(f\"Intercept: {lr.intercept_:.2f}\")\n",
    "print(f\"Coefficient: {lr.coef_[0]:.2f}\")\n",
    "print(f\"MSE: {mse:.2f}\")\n",
    "print(f\"R²: {r2:.2f}\")"
   ]
  },
  {
   "cell_type": "markdown",
   "id": "ec4fde9f",
   "metadata": {},
   "source": [
    "## 4. Exercise for the Student\n",
    "**Task:**  \n",
    "1. Split the data into a train/test set (80/20).  \n",
    "2. Train the model on the training set and evaluate on both training and test sets (report MSE and R²).  \n",
    "3. Plot the regression line over the scatter plot for the test set.  \n",
    "4. **Bonus:** Try adding noise or outliers to the data and observe the effect on the model.\n"
   ]
  },
  {
   "cell_type": "markdown",
   "id": "8a4a6953",
   "metadata": {},
   "source": [
    "## 5. Solution\n",
    "Below is one possible solution, including train/test split and plotting.\n"
   ]
  },
  {
   "cell_type": "code",
   "execution_count": null,
   "id": "0656fa4c",
   "metadata": {},
   "outputs": [],
   "source": [
    "from sklearn.model_selection import train_test_split\n",
    "from sklearn.metrics import mean_squared_error, r2_score\n",
    "\n",
    "# Split data\n",
    "X_train, X_test, y_train, y_test = train_test_split(\n",
    "    X, y, test_size=0.2, random_state=42\n",
    ")\n",
    "\n",
    "# Train\n",
    "lr2 = LinearRegression()\n",
    "lr2.fit(X_train, y_train)\n",
    "\n",
    "# Predict\n",
    "y_train_pred = lr2.predict(X_train)\n",
    "y_test_pred = lr2.predict(X_test)\n",
    "\n",
    "# Metrics\n",
    "print(\"Train MSE:\", mean_squared_error(y_train, y_train_pred))\n",
    "print(\"Train R²:\", r2_score(y_train, y_train_pred))\n",
    "print(\"Test MSE:\", mean_squared_error(y_test, y_test_pred))\n",
    "print(\"Test R²:\", r2_score(y_test, y_test_pred))\n",
    "\n",
    "# Plot test predictions\n",
    "plt.scatter(X_test, y_test, label='True', edgecolor='k')\n",
    "plt.plot(X_test, y_test_pred, label='Predicted', linewidth=2)\n",
    "plt.title('Test Set: True vs Predicted')\n",
    "plt.xlabel('Feature')\n",
    "plt.ylabel('Target')\n",
    "plt.legend()\n",
    "plt.show()"
   ]
  },
  {
   "cell_type": "markdown",
   "id": "25d1f326",
   "metadata": {},
   "source": [
    "---\n",
    "### Next Steps\n",
    "- Experiment with polynomial features to capture non-linear relationships.\n",
    "- Review assumptions of linear regression and think about diagnostics.\n",
    "- Prepare for Linear Regression 2 by considering multivariate data.\n"
   ]
  }
 ],
 "metadata": {},
 "nbformat": 4,
 "nbformat_minor": 5
}
