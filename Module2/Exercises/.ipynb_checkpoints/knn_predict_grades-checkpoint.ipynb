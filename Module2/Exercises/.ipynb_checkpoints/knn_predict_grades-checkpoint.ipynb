{
 "cells": [
  {
   "cell_type": "markdown",
   "id": "bc655e54",
   "metadata": {},
   "source": [
    "# Practical Exercise: Predicting Student Grades with k-Nearest Neighbors\n",
    "In this exercise, you will use the **k-Nearest Neighbors (k-NN)** algorithm to predict the grade category of students based on study habits and lifestyle features.\n",
    "\n",
    "**Dataset features:**\n",
    "- `hours_studied`: daily hours dedicated to studying\n",
    "- `sleep_hours`: average sleep time per night\n",
    "- `coffee_intake`: 1 if drinks coffee, 0 otherwise\n",
    "\n",
    "**Target variable:**\n",
    "- `grade_category`: 0 = Low, 1 = Medium, 2 = High\n"
   ]
  },
  {
   "cell_type": "markdown",
   "id": "baadeade",
   "metadata": {},
   "source": [
    "## Step 1: Load Required Libraries"
   ]
  },
  {
   "cell_type": "code",
   "execution_count": null,
   "id": "47e5a760",
   "metadata": {},
   "outputs": [],
   "source": [
    "import pandas as pd\n",
    "from sklearn.model_selection import train_test_split\n",
    "from sklearn.neighbors import KNeighborsClassifier\n",
    "from sklearn.metrics import accuracy_score, classification_report\n",
    "print(\"✅ Libraries loaded.\")"
   ]
  },
  {
   "cell_type": "markdown",
   "id": "1e8c620e",
   "metadata": {},
   "source": [
    "## Step 2: Load and Inspect the Dataset"
   ]
  },
  {
   "cell_type": "code",
   "execution_count": null,
   "id": "a5171c04",
   "metadata": {},
   "outputs": [],
   "source": [
    "df = pd.read_csv('knn_student_grades.csv')\n",
    "print(\"📄 First rows of the dataset:\")\n",
    "print(df.head())\n",
    "\n",
    "print(\"\\n📊 Dataset description:\")\n",
    "print(df.describe())"
   ]
  },
  {
   "cell_type": "markdown",
   "id": "1943ccbd",
   "metadata": {},
   "source": [
    "## Step 3: Prepare the Data"
   ]
  },
  {
   "cell_type": "code",
   "execution_count": null,
   "id": "83f90480",
   "metadata": {},
   "outputs": [],
   "source": [
    "X = df[['hours_studied', 'sleep_hours', 'coffee_intake']]\n",
    "y = df['grade_category']\n",
    "\n",
    "X_train, X_test, y_train, y_test = train_test_split(X, y, test_size=0.25, random_state=42)\n",
    "print(\"✅ Data split completed.\")"
   ]
  },
  {
   "cell_type": "markdown",
   "id": "e0521e08",
   "metadata": {},
   "source": [
    "## Step 4: Train the k-NN Model"
   ]
  },
  {
   "cell_type": "code",
   "execution_count": null,
   "id": "99ec2c76",
   "metadata": {},
   "outputs": [],
   "source": [
    "model = KNeighborsClassifier(n_neighbors=3)\n",
    "model.fit(X_train, y_train)\n",
    "print(\"✅ Model training complete.\")"
   ]
  },
  {
   "cell_type": "markdown",
   "id": "3a062a52",
   "metadata": {},
   "source": [
    "## Step 5: Evaluate the Model"
   ]
  },
  {
   "cell_type": "code",
   "execution_count": null,
   "id": "34ce5f43",
   "metadata": {},
   "outputs": [],
   "source": [
    "y_pred = model.predict(X_test)\n",
    "print(f\"🔍 Accuracy: {accuracy_score(y_test, y_pred):.2f}\")\n",
    "print(\"\\nClassification Report:\")\n",
    "print(classification_report(y_test, y_pred))"
   ]
  },
  {
   "cell_type": "markdown",
   "id": "d9a24fc9",
   "metadata": {},
   "source": [
    "## Step 6: Try a Custom Student Profile"
   ]
  },
  {
   "cell_type": "code",
   "execution_count": null,
   "id": "e12b922b",
   "metadata": {},
   "outputs": [],
   "source": [
    "print(\"🔍 Enter student information to predict grade category:\")\n",
    "study = float(input(\"Hours studied per day: \"))\n",
    "sleep = float(input(\"Hours of sleep per night: \"))\n",
    "coffee = int(input(\"Drinks coffee? (0 = No, 1 = Yes): \"))\n",
    "\n",
    "student_df = pd.DataFrame([[study, sleep, coffee]], columns=X.columns)\n",
    "pred = model.predict(student_df)[0]\n",
    "label = ['Low', 'Medium', 'High'][pred]\n",
    "print(f\"Prediction: 📘 The predicted grade category is **{label}**\")"
   ]
  }
 ],
 "metadata": {},
 "nbformat": 4,
 "nbformat_minor": 5
}
