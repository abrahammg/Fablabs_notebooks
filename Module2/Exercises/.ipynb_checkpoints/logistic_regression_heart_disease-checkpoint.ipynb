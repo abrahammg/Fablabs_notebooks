{
 "cells": [
  {
   "cell_type": "markdown",
   "id": "e2da6fbf",
   "metadata": {},
   "source": [
    "# Practical Exercise: Predicting Heart Disease with Logistic Regression\n",
    "In this exercise, we will build a Logistic Regression model to predict whether a person is at risk of heart disease based on their medical information.\n",
    "\n",
    "We will use a dataset that includes age, blood pressure, cholesterol levels, and heart rate. The target is a binary variable: **1 = high risk**, **0 = low risk**.\n",
    "\n",
    "This exercise will help you understand how logistic regression can be applied to real-world health data."
   ]
  },
  {
   "cell_type": "markdown",
   "id": "b51cef31",
   "metadata": {},
   "source": [
    "## Step 1: Import Required Libraries\n",
    "We begin by importing the necessary Python libraries. These include:\n",
    "- `pandas` for data handling\n",
    "- `numpy` for numerical operations\n",
    "- `train_test_split` for splitting data into training and testing sets\n",
    "- `LogisticRegression` to train our model\n",
    "- `accuracy_score` and `classification_report` to evaluate our model's performance."
   ]
  },
  {
   "cell_type": "code",
   "execution_count": null,
   "id": "23489556",
   "metadata": {},
   "outputs": [],
   "source": [
    "import pandas as pd\n",
    "import numpy as np\n",
    "from sklearn.model_selection import train_test_split\n",
    "from sklearn.linear_model import LogisticRegression\n",
    "from sklearn.metrics import accuracy_score, classification_report\n",
    "print(\"✅ Libraries imported correctly.\")"
   ]
  },
  {
   "cell_type": "markdown",
   "id": "492c53c9",
   "metadata": {},
   "source": [
    "## Step 2: Load and Explore the Dataset\n",
    "Next, we load the dataset from a CSV file. This dataset includes various medical parameters for several patients.\n",
    "\n",
    "We will first preview the data using `.head()` and then get a statistical summary using `.describe()`."
   ]
  },
  {
   "cell_type": "code",
   "execution_count": null,
   "id": "1b8dfbfd",
   "metadata": {},
   "outputs": [],
   "source": [
    "df = pd.read_csv('heart_disease_data.csv')\n",
    "print(\"📄 First few rows of the dataset:\")\n",
    "print(df.head())\n",
    "\n",
    "print(\"\\n📊 Statistical summary:\")\n",
    "print(df.describe())"
   ]
  },
  {
   "cell_type": "markdown",
   "id": "fe29ec1d",
   "metadata": {},
   "source": [
    "## Step 3: Prepare the Data\n",
    "Now we prepare the dataset for modeling. We will separate the independent variables (`X`) from the target variable (`y`), and then split the dataset into training and testing sets.\n",
    "\n",
    "This allows us to evaluate how well our model generalizes to new data."
   ]
  },
  {
   "cell_type": "code",
   "execution_count": null,
   "id": "f100c93c",
   "metadata": {},
   "outputs": [],
   "source": [
    "X = df[['age', 'resting_blood_pressure', 'cholesterol', 'max_heart_rate']]\n",
    "y = df['heart_disease']\n",
    "\n",
    "X_train, X_test, y_train, y_test = train_test_split(X, y, test_size=0.25, random_state=42)\n",
    "print(\"✅ Data prepared and split into training and testing sets.\")"
   ]
  },
  {
   "cell_type": "markdown",
   "id": "64cb60fd",
   "metadata": {},
   "source": [
    "## Step 4: Train the Logistic Regression Model\n",
    "We now create and train a Logistic Regression model using the training data. \n",
    "\n",
    "The `.fit()` method adjusts the model parameters based on the training data so it can learn the relationship between the inputs and the target."
   ]
  },
  {
   "cell_type": "code",
   "execution_count": null,
   "id": "1e234678",
   "metadata": {},
   "outputs": [],
   "source": [
    "model = LogisticRegression()\n",
    "model.fit(X_train, y_train)\n",
    "print(\"✅ Model trained successfully.\")"
   ]
  },
  {
   "cell_type": "markdown",
   "id": "1e458050",
   "metadata": {},
   "source": [
    "## Step 5: Evaluate the Model\n",
    "We now test the model on the testing dataset using `.predict()`, and evaluate its performance using `accuracy_score` and `classification_report`.\n",
    "\n",
    "These metrics will tell us how many predictions were correct and give us more detailed insights into model performance."
   ]
  },
  {
   "cell_type": "code",
   "execution_count": null,
   "id": "6ac5e448",
   "metadata": {},
   "outputs": [],
   "source": [
    "y_pred = model.predict(X_test)\n",
    "print(f\"Accuracy: {accuracy_score(y_test, y_pred):.2f}\")\n",
    "print(\"\\nClassification Report:\")\n",
    "print(classification_report(y_test, y_pred))"
   ]
  },
  {
   "cell_type": "markdown",
   "id": "32b98656",
   "metadata": {},
   "source": [
    "## Step 6: Try Your Own Example\n",
    "Finally, you can test the model with your own data. Enter values for a new patient and the model will predict if they are at high risk of heart disease."
   ]
  },
  {
   "cell_type": "code",
   "execution_count": null,
   "id": "bf215d3c",
   "metadata": {},
   "outputs": [],
   "source": [
    "print(\"🔍 Try entering your own patient's values:\")\n",
    "age = int(input(\"Enter age: \"))\n",
    "bp = int(input(\"Enter resting blood pressure: \"))\n",
    "chol = int(input(\"Enter cholesterol level: \"))\n",
    "hr = int(input(\"Enter max heart rate: \"))\n",
    "\n",
    "new_patient = pd.DataFrame([[age, bp, chol, hr]], columns=X.columns)\n",
    "prediction = model.predict(new_patient)[0]\n",
    "probability = model.predict_proba(new_patient)[0][1]\n",
    "\n",
    "result = '🔴 High risk of heart disease' if prediction == 1 else '🟢 Low risk'\n",
    "print(f\"Prediction: {result} (probability: {probability:.2f})\")"
   ]
  }
 ],
 "metadata": {},
 "nbformat": 4,
 "nbformat_minor": 5
}
