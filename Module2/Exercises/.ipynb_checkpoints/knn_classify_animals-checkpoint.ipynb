{
 "cells": [
  {
   "cell_type": "markdown",
   "id": "ab1129cc",
   "metadata": {},
   "source": [
    "# Practical Exercise: Classifying Animals with k-Nearest Neighbors\n",
    "In this exercise, you will use the **k-Nearest Neighbors (k-NN)** algorithm to classify animals based on physical features.\n",
    "\n",
    "**Dataset features:**\n",
    "- `height_cm`: the height of the animal\n",
    "- `weight_kg`: the weight of the animal\n",
    "- `has_tail`: 1 if the animal has a tail, 0 otherwise\n",
    "\n",
    "The goal is to predict the `animal_type`:\n",
    "- 0 = Bird\n",
    "- 1 = Mammal\n"
   ]
  },
  {
   "cell_type": "markdown",
   "id": "c4391d13",
   "metadata": {},
   "source": [
    "## Step 1: Load Required Libraries"
   ]
  },
  {
   "cell_type": "code",
   "execution_count": null,
   "id": "d2738c24",
   "metadata": {},
   "outputs": [],
   "source": [
    "import pandas as pd\n",
    "from sklearn.model_selection import train_test_split\n",
    "from sklearn.neighbors import KNeighborsClassifier\n",
    "from sklearn.metrics import accuracy_score, classification_report\n",
    "print(\"✅ Libraries loaded.\")"
   ]
  },
  {
   "cell_type": "markdown",
   "id": "5099e569",
   "metadata": {},
   "source": [
    "## Step 2: Load and Inspect the Dataset"
   ]
  },
  {
   "cell_type": "code",
   "execution_count": null,
   "id": "05ba9478",
   "metadata": {},
   "outputs": [],
   "source": [
    "df = pd.read_csv('knn_animals_data.csv')\n",
    "print(\"📄 First rows of the dataset:\")\n",
    "print(df.head())\n",
    "\n",
    "print(\"\\n📊 Dataset description:\")\n",
    "print(df.describe())"
   ]
  },
  {
   "cell_type": "markdown",
   "id": "c45726fa",
   "metadata": {},
   "source": [
    "## Step 3: Prepare the Data\n",
    "We separate the features (X) from the target variable (y), then split the data into training and testing sets."
   ]
  },
  {
   "cell_type": "code",
   "execution_count": null,
   "id": "2112c68e",
   "metadata": {},
   "outputs": [],
   "source": [
    "X = df[['height_cm', 'weight_kg', 'has_tail']]\n",
    "y = df['animal_type']\n",
    "\n",
    "X_train, X_test, y_train, y_test = train_test_split(X, y, test_size=0.3, random_state=42)\n",
    "print(\"✅ Data split completed.\")"
   ]
  },
  {
   "cell_type": "markdown",
   "id": "7df205c6",
   "metadata": {},
   "source": [
    "## Step 4: Train the k-NN Model"
   ]
  },
  {
   "cell_type": "code",
   "execution_count": null,
   "id": "e86fa3f1",
   "metadata": {},
   "outputs": [],
   "source": [
    "model = KNeighborsClassifier(n_neighbors=5)\n",
    "model.fit(X_train, y_train)\n",
    "print(\"✅ Model training complete.\")"
   ]
  },
  {
   "cell_type": "markdown",
   "id": "c0c1707f",
   "metadata": {},
   "source": [
    "## Step 5: Predict and Evaluate the Model"
   ]
  },
  {
   "cell_type": "code",
   "execution_count": null,
   "id": "2106d876",
   "metadata": {},
   "outputs": [],
   "source": [
    "y_pred = model.predict(X_test)\n",
    "print(f\"🔍 Accuracy: {accuracy_score(y_test, y_pred):.2f}\")\n",
    "print(\"\\nClassification Report:\")\n",
    "print(classification_report(y_test, y_pred))"
   ]
  },
  {
   "cell_type": "markdown",
   "id": "58c557dd",
   "metadata": {},
   "source": [
    "## Step 6: Try a Custom Animal Profile"
   ]
  },
  {
   "cell_type": "code",
   "execution_count": null,
   "id": "9e83ec78",
   "metadata": {},
   "outputs": [],
   "source": [
    "print(\"🔍 Enter animal features to classify:\")\n",
    "height = float(input(\"Height (cm): \"))\n",
    "weight = float(input(\"Weight (kg): \"))\n",
    "tail = int(input(\"Has tail? (0 = No, 1 = Yes): \"))\n",
    "\n",
    "animal_df = pd.DataFrame([[height, weight, tail]], columns=X.columns)\n",
    "pred = model.predict(animal_df)[0]\n",
    "animal_name = 'Mammal' if pred == 1 else 'Bird'\n",
    "print(f\"Prediction: 🐾 This animal is likely a **{animal_name}**\")"
   ]
  }
 ],
 "metadata": {},
 "nbformat": 4,
 "nbformat_minor": 5
}
