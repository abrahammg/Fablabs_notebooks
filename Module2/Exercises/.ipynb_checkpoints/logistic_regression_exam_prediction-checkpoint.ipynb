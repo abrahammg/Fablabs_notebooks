{
 "cells": [
  {
   "cell_type": "markdown",
   "id": "8dec9024",
   "metadata": {},
   "source": [
    "# Practical Exercise: Predicting Exam Success with Logistic Regression\n",
    "In this exercise, we will use logistic regression to predict whether a student will pass an exam based on three features:\n",
    "- Hours spent studying (`study_hours`)\n",
    "- Attendance record (`attendance`, where 1 means they attended regularly)\n",
    "- Past academic performance (`past_performance`, where 1 means good past grades)\n",
    "\n",
    "The target variable is `passed_exam`, which is 1 if the student passed the exam and 0 otherwise."
   ]
  },
  {
   "cell_type": "markdown",
   "id": "0d130408",
   "metadata": {},
   "source": [
    "## Step 1: Import Required Libraries\n",
    "We begin by importing the necessary Python libraries:\n",
    "- `pandas` and `numpy` for data handling\n",
    "- `train_test_split` to divide the dataset\n",
    "- `LogisticRegression` for the model\n",
    "- `accuracy_score` and `classification_report` to evaluate performance."
   ]
  },
  {
   "cell_type": "code",
   "execution_count": null,
   "id": "d0c570fa",
   "metadata": {},
   "outputs": [],
   "source": [
    "import pandas as pd\n",
    "import numpy as np\n",
    "from sklearn.model_selection import train_test_split\n",
    "from sklearn.linear_model import LogisticRegression\n",
    "from sklearn.metrics import accuracy_score, classification_report\n",
    "print(\"✅ Libraries loaded successfully.\")"
   ]
  },
  {
   "cell_type": "markdown",
   "id": "ae791f72",
   "metadata": {},
   "source": [
    "## Step 2: Load and Explore the Dataset\n",
    "Let's load the dataset and preview it using `.head()` and `.describe()`."
   ]
  },
  {
   "cell_type": "code",
   "execution_count": null,
   "id": "4d50c3ba",
   "metadata": {},
   "outputs": [],
   "source": [
    "df = pd.read_csv('student_exam_data.csv')\n",
    "print(\"📄 First few rows of the dataset:\")\n",
    "print(df.head())\n",
    "\n",
    "print(\"\\n📊 Summary statistics:\")\n",
    "print(df.describe())"
   ]
  },
  {
   "cell_type": "markdown",
   "id": "d9a00e54",
   "metadata": {},
   "source": [
    "## Step 3: Prepare the Data\n",
    "Now we separate the features (`X`) from the target (`y`) and split the dataset into training and testing sets."
   ]
  },
  {
   "cell_type": "code",
   "execution_count": null,
   "id": "b1c5d567",
   "metadata": {},
   "outputs": [],
   "source": [
    "X = df[['study_hours', 'attendance', 'past_performance']]\n",
    "y = df['passed_exam']\n",
    "\n",
    "X_train, X_test, y_train, y_test = train_test_split(X, y, test_size=0.3, random_state=42)\n",
    "print(\"✅ Data split into training and testing sets.\")"
   ]
  },
  {
   "cell_type": "markdown",
   "id": "cfba8a90",
   "metadata": {},
   "source": [
    "## Step 4: Train the Logistic Regression Model\n",
    "Now we create a `LogisticRegression` model and train it using the `.fit()` method."
   ]
  },
  {
   "cell_type": "code",
   "execution_count": null,
   "id": "78dc9af5",
   "metadata": {},
   "outputs": [],
   "source": [
    "model = LogisticRegression()\n",
    "model.fit(X_train, y_train)\n",
    "print(\"✅ Model trained.\")"
   ]
  },
  {
   "cell_type": "markdown",
   "id": "69c4e350",
   "metadata": {},
   "source": [
    "## Step 5: Evaluate the Model\n",
    "Let's make predictions on the test set and evaluate them using accuracy and a classification report."
   ]
  },
  {
   "cell_type": "code",
   "execution_count": null,
   "id": "5785900e",
   "metadata": {},
   "outputs": [],
   "source": [
    "y_pred = model.predict(X_test)\n",
    "print(f\"Accuracy: {accuracy_score(y_test, y_pred):.2f}\")\n",
    "print(\"\\nClassification Report:\")\n",
    "print(classification_report(y_test, y_pred))"
   ]
  },
  {
   "cell_type": "markdown",
   "id": "20939766",
   "metadata": {},
   "source": [
    "## Step 6: Try Your Own Example\n",
    "Now let's try predicting the outcome for a custom student profile. Enter the values and see if they are likely to pass the exam."
   ]
  },
  {
   "cell_type": "code",
   "execution_count": null,
   "id": "00833698",
   "metadata": {},
   "outputs": [],
   "source": [
    "print(\"🔍 Enter student details:\")\n",
    "study_hours = float(input(\"Study hours: \"))\n",
    "attendance = int(input(\"Attendance (0 or 1): \"))\n",
    "past_perf = int(input(\"Past performance (0 or 1): \"))\n",
    "\n",
    "new_student = pd.DataFrame([[study_hours, attendance, past_perf]], columns=X.columns)\n",
    "prediction = model.predict(new_student)[0]\n",
    "prob = model.predict_proba(new_student)[0][1]\n",
    "\n",
    "result = '🟢 Likely to pass' if prediction == 1 else '🔴 At risk of failing'\n",
    "print(f\"Prediction: {result} (probability: {prob:.2f})\")"
   ]
  }
 ],
 "metadata": {},
 "nbformat": 4,
 "nbformat_minor": 5
}
