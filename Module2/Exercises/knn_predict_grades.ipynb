{
 "cells": [
  {
   "cell_type": "markdown",
   "id": "bc655e54",
   "metadata": {},
   "source": [
    "# Practical Exercise: Predicting Student Grades with k-Nearest Neighbors\n",
    "In this exercise, you will use the **k-Nearest Neighbors (k-NN)** algorithm to predict the grade category of students based on study habits and lifestyle features.\n",
    "\n",
    "**Dataset features:**\n",
    "- `hours_studied`: daily hours dedicated to studying\n",
    "- `sleep_hours`: average sleep time per night\n",
    "- `coffee_intake`: 1 if drinks coffee, 0 otherwise\n",
    "\n",
    "**Target variable:**\n",
    "- `grade_category`: 0 = Low, 1 = Medium, 2 = High\n"
   ]
  },
  {
   "cell_type": "markdown",
   "id": "baadeade",
   "metadata": {},
   "source": [
    "## Step 1: Load Required Libraries"
   ]
  },
  {
   "cell_type": "code",
   "execution_count": 1,
   "id": "47e5a760",
   "metadata": {},
   "outputs": [
    {
     "name": "stdout",
     "output_type": "stream",
     "text": [
      "✅ Libraries loaded.\n"
     ]
    }
   ],
   "source": [
    "import pandas as pd\n",
    "from sklearn.model_selection import train_test_split\n",
    "from sklearn.neighbors import KNeighborsClassifier\n",
    "from sklearn.metrics import accuracy_score, classification_report\n",
    "print(\"✅ Libraries loaded.\")"
   ]
  },
  {
   "cell_type": "markdown",
   "id": "1e8c620e",
   "metadata": {},
   "source": [
    "## Step 2: Load and Inspect the Dataset"
   ]
  },
  {
   "cell_type": "code",
   "execution_count": 2,
   "id": "a5171c04",
   "metadata": {},
   "outputs": [
    {
     "name": "stdout",
     "output_type": "stream",
     "text": [
      "📄 First rows of the dataset:\n",
      "   hours_studied  sleep_hours  coffee_intake  grade_category\n",
      "0            3.3          5.5              0               1\n",
      "1            6.6          7.1              0               1\n",
      "2            4.6          4.6              0               1\n",
      "3            2.5          4.6              0               0\n",
      "4            6.7          6.2              0               1\n",
      "\n",
      "📊 Dataset description:\n",
      "       hours_studied  sleep_hours  coffee_intake  grade_category\n",
      "count     160.000000   160.000000     160.000000      160.000000\n",
      "mean        4.856875     6.778125       0.481250        1.325000\n",
      "std         2.076663     1.392282       0.501217        0.532586\n",
      "min         0.400000     4.000000       0.000000        0.000000\n",
      "25%         3.275000     5.800000       0.000000        1.000000\n",
      "50%         5.000000     6.900000       0.000000        1.000000\n",
      "75%         6.600000     7.800000       1.000000        2.000000\n",
      "max         9.000000    10.000000       1.000000        2.000000\n"
     ]
    }
   ],
   "source": [
    "df = pd.read_csv('data/knn_student_grades.csv')\n",
    "print(\"📄 First rows of the dataset:\")\n",
    "print(df.head())\n",
    "\n",
    "print(\"\\n📊 Dataset description:\")\n",
    "print(df.describe())"
   ]
  },
  {
   "cell_type": "markdown",
   "id": "1943ccbd",
   "metadata": {},
   "source": [
    "## Step 3: Prepare the Data"
   ]
  },
  {
   "cell_type": "code",
   "execution_count": 3,
   "id": "83f90480",
   "metadata": {},
   "outputs": [
    {
     "name": "stdout",
     "output_type": "stream",
     "text": [
      "✅ Data split completed.\n"
     ]
    }
   ],
   "source": [
    "X = df[['hours_studied', 'sleep_hours', 'coffee_intake']]\n",
    "y = df['grade_category']\n",
    "\n",
    "X_train, X_test, y_train, y_test = train_test_split(X, y, test_size=0.25, random_state=42)\n",
    "print(\"✅ Data split completed.\")"
   ]
  },
  {
   "cell_type": "markdown",
   "id": "e0521e08",
   "metadata": {},
   "source": [
    "## Step 4: Train the k-NN Model"
   ]
  },
  {
   "cell_type": "code",
   "execution_count": 4,
   "id": "99ec2c76",
   "metadata": {},
   "outputs": [
    {
     "name": "stdout",
     "output_type": "stream",
     "text": [
      "✅ Model training complete.\n"
     ]
    }
   ],
   "source": [
    "model = KNeighborsClassifier(n_neighbors=3)\n",
    "model.fit(X_train, y_train)\n",
    "print(\"✅ Model training complete.\")"
   ]
  },
  {
   "cell_type": "markdown",
   "id": "3a062a52",
   "metadata": {},
   "source": [
    "## Step 5: Evaluate the Model"
   ]
  },
  {
   "cell_type": "code",
   "execution_count": 5,
   "id": "34ce5f43",
   "metadata": {},
   "outputs": [
    {
     "name": "stdout",
     "output_type": "stream",
     "text": [
      "🔍 Accuracy: 0.93\n",
      "\n",
      "Classification Report:\n",
      "              precision    recall  f1-score   support\n",
      "\n",
      "           0       0.50      1.00      0.67         1\n",
      "           1       0.92      1.00      0.96        24\n",
      "           2       1.00      0.80      0.89        15\n",
      "\n",
      "    accuracy                           0.93        40\n",
      "   macro avg       0.81      0.93      0.84        40\n",
      "weighted avg       0.94      0.93      0.93        40\n",
      "\n"
     ]
    }
   ],
   "source": [
    "y_pred = model.predict(X_test)\n",
    "print(f\"🔍 Accuracy: {accuracy_score(y_test, y_pred):.2f}\")\n",
    "print(\"\\nClassification Report:\")\n",
    "print(classification_report(y_test, y_pred))"
   ]
  },
  {
   "cell_type": "markdown",
   "id": "d9a24fc9",
   "metadata": {},
   "source": [
    "## Step 6: Try a Custom Student Profile"
   ]
  },
  {
   "cell_type": "code",
   "execution_count": 6,
   "id": "e12b922b",
   "metadata": {},
   "outputs": [
    {
     "name": "stdout",
     "output_type": "stream",
     "text": [
      "🔍 Enter student information to predict grade category:\n"
     ]
    },
    {
     "name": "stdin",
     "output_type": "stream",
     "text": [
      "Hours studied per day:  3\n",
      "Hours of sleep per night:  8\n",
      "Drinks coffee? (0 = No, 1 = Yes):  1\n"
     ]
    },
    {
     "name": "stdout",
     "output_type": "stream",
     "text": [
      "Prediction: 📘 The predicted grade category is **Medium**\n"
     ]
    }
   ],
   "source": [
    "print(\"🔍 Enter student information to predict grade category:\")\n",
    "study = float(input(\"Hours studied per day: \"))\n",
    "sleep = float(input(\"Hours of sleep per night: \"))\n",
    "coffee = int(input(\"Drinks coffee? (0 = No, 1 = Yes): \"))\n",
    "\n",
    "student_df = pd.DataFrame([[study, sleep, coffee]], columns=X.columns)\n",
    "pred = model.predict(student_df)[0]\n",
    "label = ['Low', 'Medium', 'High'][pred]\n",
    "print(f\"Prediction: 📘 The predicted grade category is **{label}**\")"
   ]
  }
 ],
 "metadata": {
  "kernelspec": {
   "display_name": "Python 3 (ipykernel)",
   "language": "python",
   "name": "python3"
  },
  "language_info": {
   "codemirror_mode": {
    "name": "ipython",
    "version": 3
   },
   "file_extension": ".py",
   "mimetype": "text/x-python",
   "name": "python",
   "nbconvert_exporter": "python",
   "pygments_lexer": "ipython3",
   "version": "3.12.3"
  }
 },
 "nbformat": 4,
 "nbformat_minor": 5
}
