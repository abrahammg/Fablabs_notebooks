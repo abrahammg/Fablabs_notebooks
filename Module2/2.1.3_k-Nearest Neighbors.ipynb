{
 "cells": [
  {
   "cell_type": "markdown",
   "id": "41aa3640",
   "metadata": {},
   "source": [
    "# k-Nearest Neighbors (k-NN) - Product Purchase Prediction\n",
    "In this notebook, we will use the k-Nearest Neighbors (k-NN) algorithm to predict whether a person will purchase a product based on their **age**, **estimated salary**, and **credit score**.\n",
    "\n",
    "We will go step by step: from loading the dataset, exploring and visualizing it, to building and evaluating the model."
   ]
  },
  {
   "cell_type": "markdown",
   "id": "02d67fcb",
   "metadata": {},
   "source": [
    "## Step 1: Import Required Libraries\n",
    "We begin by importing the necessary Python libraries for data handling, visualization, and machine learning."
   ]
  },
  {
   "cell_type": "code",
   "execution_count": null,
   "id": "ab2bdec0",
   "metadata": {},
   "outputs": [],
   "source": [
    "import pandas as pd\n",
    "import numpy as np\n",
    "import matplotlib.pyplot as plt\n",
    "from sklearn.model_selection import train_test_split\n",
    "from sklearn.neighbors import KNeighborsClassifier\n",
    "from sklearn.metrics import accuracy_score\n",
    "\n",
    "print(\"Libraries imported successfully!\")"
   ]
  },
  {
   "cell_type": "markdown",
   "id": "84571288",
   "metadata": {},
   "source": [
    "## Step 2: Load and Explore the Dataset\n",
    "We will load a dataset that contains information about customers: their **age**, **estimated salary**, and **credit score**, along with a label that tells us if they purchased the product (`1`) or not (`0`)."
   ]
  },
  {
   "cell_type": "code",
   "execution_count": null,
   "id": "e467cb35",
   "metadata": {
    "scrolled": true
   },
   "outputs": [],
   "source": [
    "# Load the dataset\n",
    "data = pd.read_csv('data/purchase_data.csv')\n",
    "\n",
    "# Show the first few rows\n",
    "print(data.head())"
   ]
  },
  {
   "cell_type": "markdown",
   "id": "4193d63d",
   "metadata": {},
   "source": [
    "## Step 3: Visualize the Data\n",
    "Let's visualize the relationship between some of the variables and the purchase decision. We will use scatter plots."
   ]
  },
  {
   "cell_type": "code",
   "execution_count": null,
   "id": "5264c294",
   "metadata": {},
   "outputs": [],
   "source": [
    "# Age vs Purchased\n",
    "plt.scatter(data['age'], data['purchased'], c='blue')\n",
    "plt.xlabel('Age')\n",
    "plt.ylabel('Purchased')\n",
    "plt.title('Age vs Purchased')\n",
    "plt.show()\n",
    "\n",
    "# Credit Score vs Purchased\n",
    "plt.scatter(data['credit_score'], data['purchased'], c='green')\n",
    "plt.xlabel('Credit Score')\n",
    "plt.ylabel('Purchased')\n",
    "plt.title('Credit Score vs Purchased')\n",
    "plt.show()"
   ]
  },
  {
   "cell_type": "markdown",
   "id": "b7c9ef56",
   "metadata": {},
   "source": [
    "## Step 4: Prepare the Data\n",
    "Now we select the input features (`age`, `estimated_salary`, `credit_score`) and the target variable (`purchased`).\n",
    "We split the data into a training set and a test set to evaluate the model performance later."
   ]
  },
  {
   "cell_type": "code",
   "execution_count": null,
   "id": "037e5b8c",
   "metadata": {},
   "outputs": [],
   "source": [
    "# Feature matrix and target vector\n",
    "X = data[['age', 'estimated_salary', 'credit_score']]\n",
    "y = data['purchased']\n",
    "\n",
    "# Split the dataset\n",
    "X_train, X_test, y_train, y_test = train_test_split(\n",
    "    X, y, test_size=0.2, random_state=42)\n",
    "print(\"✅ Data prepared and split into training and test sets.\")"
   ]
  },
  {
   "cell_type": "markdown",
   "id": "69eb10a9",
   "metadata": {},
   "source": [
    "## Step 5: Train the k-NN Model\n",
    "We create an instance of `KNeighborsClassifier` and use the `.fit()` method to train it with the training data."
   ]
  },
  {
   "cell_type": "code",
   "execution_count": null,
   "id": "2d5ed1ea",
   "metadata": {},
   "outputs": [],
   "source": [
    "knn = KNeighborsClassifier(n_neighbors=5)\n",
    "knn.fit(X_train, y_train)\n",
    "print(\"✅ Model trained successfully.\")"
   ]
  },
  {
   "cell_type": "markdown",
   "id": "c97af880",
   "metadata": {},
   "source": [
    "## Step 6: Make Predictions\n",
    "We use the trained model to predict values for the test set."
   ]
  },
  {
   "cell_type": "code",
   "execution_count": null,
   "id": "28288c5d",
   "metadata": {},
   "outputs": [],
   "source": [
    "predictions = knn.predict(X_test)\n",
    "print(\"✅ Predictions completed.\")"
   ]
  },
  {
   "cell_type": "markdown",
   "id": "b5dd6f7c",
   "metadata": {},
   "source": [
    "## Step 7: Evaluate the Model\n",
    "We evaluate how well the model performed using accuracy as our metric."
   ]
  },
  {
   "cell_type": "code",
   "execution_count": null,
   "id": "70eae0c5",
   "metadata": {},
   "outputs": [],
   "source": [
    "accuracy = accuracy_score(y_test, predictions)\n",
    "print(f\"✅ Model Accuracy: {accuracy:.2f}\")"
   ]
  },
  {
   "cell_type": "markdown",
   "id": "50abdd53",
   "metadata": {},
   "source": [
    "## Step 8: Try Your Own Prediction\n",
    "Now you can try a custom example. Enter the **age**, **estimated salary**, and **credit score**, and the model will predict whether the person would buy the product."
   ]
  },
  {
   "cell_type": "code",
   "execution_count": null,
   "id": "e1c41853",
   "metadata": {},
   "outputs": [],
   "source": [
    "## User input\n",
    "age_input = int(input(\"Enter age: \"))\n",
    "salary_input = float(input(\"Enter estimated salary: \"))\n",
    "credit_input = int(input(\"Enter credit score: \"))\n",
    "\n",
    "# Make prediction\n",
    "# Create DataFrame with feature names\n",
    "new_data = pd.DataFrame([{\n",
    "    'age': age_input,\n",
    "    'estimated_salary': salary_input,\n",
    "    'credit_score': credit_input\n",
    "}])\n",
    "prediction = knn.predict(new_data)[0]\n",
    "label = 'Will Purchase' if prediction == 1 else 'Will Not Purchase'\n",
    "print(f\"Prediction: {label}\")"
   ]
  }
 ],
 "metadata": {
  "kernelspec": {
   "display_name": "Python 3 (ipykernel)",
   "language": "python",
   "name": "python3"
  },
  "language_info": {
   "codemirror_mode": {
    "name": "ipython",
    "version": 3
   },
   "file_extension": ".py",
   "mimetype": "text/x-python",
   "name": "python",
   "nbconvert_exporter": "python",
   "pygments_lexer": "ipython3",
   "version": "3.12.3"
  }
 },
 "nbformat": 4,
 "nbformat_minor": 5
}
