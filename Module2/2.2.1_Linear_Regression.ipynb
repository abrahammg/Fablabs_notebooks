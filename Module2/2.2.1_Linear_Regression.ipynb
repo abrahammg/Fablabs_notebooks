{
 "cells": [
  {
   "cell_type": "markdown",
   "id": "329740f2",
   "metadata": {},
   "source": [
    "# Linear Regression Example: Predicting House Prices\n",
    "En este notebook construiremos un modelo de **regresión lineal** para predecir precios de casas a partir de su tamaño en metros cuadrados. Cada paso se explica en detalle, mostrando cómo se preparan los datos, se entrena el modelo y se realizan las predicciones."
   ]
  },
  {
   "cell_type": "markdown",
   "id": "e449e530",
   "metadata": {},
   "source": [
    "## Step 1: Importing Required Libraries\n",
    "Primero, importamos las librerías necesarias:\n",
    "\n",
    "- **NumPy**: Para manejar arrays numéricos.\n",
    "- **Matplotlib**: Para visualizar datos.\n",
    "- **scikit-learn (sklearn)**: Para crear y entrenar el modelo de regresión.\n",
    "- **train_test_split**: Para dividir el conjunto de datos en entrenamiento y prueba."
   ]
  },
  {
   "cell_type": "code",
   "execution_count": null,
   "id": "14a8f986",
   "metadata": {},
   "outputs": [],
   "source": [
    "import numpy as np\n",
    "import matplotlib.pyplot as plt\n",
    "from sklearn.linear_model import LinearRegression\n",
    "from sklearn.model_selection import train_test_split\n",
    "import ipywidgets as widgets\n",
    "from IPython.display import display"
   ]
  },
  {
   "cell_type": "markdown",
   "id": "30b8df96",
   "metadata": {},
   "source": [
    "## Step 2: Creating the Dataset\n",
    "Creamos un pequeño conjunto de datos con **tamaños de casas (m²)** y sus precios correspondientes **(miles de dólares)**."
   ]
  },
  {
   "cell_type": "code",
   "execution_count": null,
   "id": "a406cd41",
   "metadata": {},
   "outputs": [],
   "source": [
    "# Datos simulados: tamaño (m²) y precio (miles de $)\n",
    "X = np.array([50, 60, 75, 80, 100, 120, 150, 170, 200, 220]).reshape(-1, 1)\n",
    "y = np.array([150, 180, 210, 230, 280, 300, 350, 370, 400, 450])  # Precio en miles de dólares"
   ]
  },
  {
   "cell_type": "markdown",
   "id": "01271896",
   "metadata": {},
   "source": [
    "## Step 3: Splitting the Data into Training and Test Sets\n",
    "Para evaluar el modelo, dividimos los datos en conjuntos de **entrenamiento (80%)** y **prueba (20%)**."
   ]
  },
  {
   "cell_type": "code",
   "execution_count": null,
   "id": "7e873bf1",
   "metadata": {},
   "outputs": [],
   "source": [
    "X_train, X_test, y_train, y_test = train_test_split(\n",
    "    X, y, test_size=0.2, random_state=42\n",
    ")"
   ]
  },
  {
   "cell_type": "markdown",
   "id": "c43ee5b4",
   "metadata": {},
   "source": [
    "## Step 4: Training the Linear Regression Model\n",
    "Creamos y entrenamos el modelo de regresión lineal."
   ]
  },
  {
   "cell_type": "code",
   "execution_count": null,
   "id": "016ba4a4",
   "metadata": {},
   "outputs": [],
   "source": [
    "model = LinearRegression()\n",
    "model.fit(X_train, y_train)"
   ]
  },
  {
   "cell_type": "markdown",
   "id": "840f3074",
   "metadata": {},
   "source": [
    "## Step 5: Displaying the Regression Equation\n",
    "Extraemos la **ecuación de la línea de regresión**."
   ]
  },
  {
   "cell_type": "code",
   "execution_count": null,
   "id": "3be39e54",
   "metadata": {},
   "outputs": [],
   "source": [
    "print(f\"Model equation: Price = {model.coef_[0]:.2f} * Size + {model.intercept_:.2f}\")"
   ]
  },
  {
   "cell_type": "markdown",
   "id": "e88f5c51",
   "metadata": {},
   "source": [
    "## Step 6: Visualizing the Regression Model\n",
    "Visualizamos los datos reales y la línea de regresión."
   ]
  },
  {
   "cell_type": "code",
   "execution_count": null,
   "id": "9a790d52",
   "metadata": {},
   "outputs": [],
   "source": [
    "plt.scatter(X, y, label='Real Data')\n",
    "plt.plot(X, model.predict(X), linewidth=2, label='Linear Regression')\n",
    "plt.xlabel('Size (m²)')\n",
    "plt.ylabel('Price (thousands of $)')\n",
    "plt.title('Linear Regression: House Price Prediction')\n",
    "plt.legend()\n",
    "plt.show()"
   ]
  },
  {
   "cell_type": "markdown",
   "id": "4bc7ec79",
   "metadata": {},
   "source": [
    "## Step 7: Predicting House Prices with User Input\n",
    "Permitimos al usuario introducir un tamaño y obtener una predicción."
   ]
  },
  {
   "cell_type": "code",
   "execution_count": null,
   "id": "8537ec91",
   "metadata": {},
   "outputs": [],
   "source": [
    "def predict_price(size):\n",
    "    price = model.predict(np.array([[size]]))[0]\n",
    "    # En vez de imprimir, devolvemos o texto que queremos amosar\n",
    "    return f\"Predicted price for a {size}m² house: ${price:.2f}k\"\n",
    "\n",
    "size_input = widgets.IntText(description=\"Size (m²):\", value=100)\n",
    "predict_button = widgets.Button(description=\"Predict Price\")\n",
    "output_label = widgets.Label()\n",
    "\n",
    "def on_button_click(b):\n",
    "    result_text = predict_price(size_input.value)\n",
    "    output_label.value = result_text\n",
    "\n",
    "predict_button.on_click(on_button_click)\n",
    "\n",
    "display(size_input, predict_button, output_label)"
   ]
  },
  {
   "cell_type": "code",
   "execution_count": null,
   "id": "09363ae1-0588-4546-85b6-aa24c6ad6d50",
   "metadata": {},
   "outputs": [],
   "source": []
  }
 ],
 "metadata": {
  "kernelspec": {
   "display_name": "Python 3 (ipykernel)",
   "language": "python",
   "name": "python3"
  },
  "language_info": {
   "codemirror_mode": {
    "name": "ipython",
    "version": 3
   },
   "file_extension": ".py",
   "mimetype": "text/x-python",
   "name": "python",
   "nbconvert_exporter": "python",
   "pygments_lexer": "ipython3",
   "version": "3.12.3"
  }
 },
 "nbformat": 4,
 "nbformat_minor": 5
}
