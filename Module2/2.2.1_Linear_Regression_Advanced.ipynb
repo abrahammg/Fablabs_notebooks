{
 "cells": [
  {
   "cell_type": "markdown",
   "id": "d0a149a2",
   "metadata": {},
   "source": [
    "# Proxecto Exemplo: Predición de Prezos de Vivendas en California\n",
    "\n",
    "**Obxectivo:** Construír un modelo de regresión lineal que prediga o prezo dunha vivenda en California baseándose nas características da zona onde se atopa.\n",
    "\n",
    "Neste exercicio imos predicir o prezo medio dunha vivenda en función de características como os ingresos da zona, a antigüidade media das casas, o número medio de cuartos e a localización xeográfica. Usamos un modelo sinxelo de regresión lineal para comezar a explorar como funciona o Machine Learning cando tratamos datos reais"
   ]
  },
  {
   "cell_type": "markdown",
   "id": "589e86a4",
   "metadata": {},
   "source": [
    "### Paso 1: Cargar os Datos (Directamente dende Scikit-learn)\n",
    "\n",
    "Non necesitamos buscar ficheiros CSV. A librería `scikit-learn` ofrécenos o dataset directamente, o que facilita moito o comezo."
   ]
  },
  {
   "cell_type": "code",
   "execution_count": null,
   "id": "d680f4f6",
   "metadata": {},
   "outputs": [],
   "source": [
    "# Importamos as librarías necesarias\n",
    "import pandas as pd\n",
    "from sklearn.datasets import fetch_california_housing\n",
    "import matplotlib.pyplot as plt\n",
    "import seaborn as sns\n",
    "import ipywidgets as widgets\n",
    "from sklearn.model_selection import train_test_split\n",
    "from sklearn.linear_model import LinearRegression\n",
    "from ipywidgets import FloatSlider, FloatText, Button, Label, VBox, interactive_output\n",
    "from IPython.display import display\n",
    "import numpy as np  \n",
    "\n",
    "print(\"Libraries importes successfully!\")\n",
    "\n",
    "# Cargamos o conxunto de datos de vivendas de California\n",
    "housing = fetch_california_housing()\n",
    "\n",
    "# Convertemos os datos a un DataFrame de Pandas para traballar máis comodamente\n",
    "df = pd.DataFrame(housing.data, columns=housing.feature_names)\n",
    "df['PRICE'] = housing.target # O prezo está en unidades de 100,000$\n",
    "\n",
    "# Botamos unha primeira ollada aos datos\n",
    "print(\"Primeiras 5 filas do dataset:\")\n",
    "print(df.head())"
   ]
  },
  {
   "cell_type": "markdown",
   "id": "3d821f04",
   "metadata": {},
   "source": [
    "### Paso 2: Análise e Visualización Exploratoria (Entender a Relación)\n",
    "\n",
    "Antes de adestrar, é fundamental *ver* os datos. Imos visualizar a relación entre a característica que, a priori, parece máis influente, os **ingresos medios da veciñanza** (`MedInc`), e o **prezo** da vivenda."
   ]
  },
  {
   "cell_type": "code",
   "execution_count": null,
   "id": "4e59ec5b",
   "metadata": {},
   "outputs": [],
   "source": [
    "# Creamos un gráfico de dispersión para ver a relación\n",
    "plt.figure(figsize=(6, 5))\n",
    "sns.scatterplot(x='MedInc', y='PRICE', data=df, alpha=0.5)\n",
    "\n",
    "plt.title('Prezo da Vivenda vs. Ingresos Medios da Zona', fontsize=16)\n",
    "plt.xlabel('Ingresos Medios (en decenas de miles de $)', fontsize=12)\n",
    "plt.ylabel('Prezo Mediano da Vivenda (en centos de miles de $)', fontsize=12)\n",
    "plt.grid(True)\n",
    "plt.show()"
   ]
  },
  {
   "cell_type": "markdown",
   "id": "e8f7e166",
   "metadata": {},
   "source": [
    "### Paso 3: Preparar os Datos e Adestrar o Modelo (Versión Simple)\n",
    "\n",
    "Comezaremos coa versión máis sinxela posible: predicir o prezo usando **unha soa característica**, os ingresos medios (`MedInc`). Isto permitiranos debuxar unha liña de regresión en 2D moi fácil de interpretar."
   ]
  },
  {
   "cell_type": "code",
   "execution_count": null,
   "id": "11fc10a3",
   "metadata": {},
   "outputs": [],
   "source": [
    "# 1. Definimos a nosa característica (X) e o noso obxectivo (y)\n",
    "X = df[['MedInc']] \n",
    "y = df['PRICE']\n",
    "\n",
    "# 2. Dividimos os datos para adestrar e para probar\n",
    "X_train, X_test, y_train, y_test = train_test_split(X, y, test_size=0.2, random_state=42)\n",
    "\n",
    "# 3. Creamos e adestramos o modelo de regresión lineal\n",
    "simple_model = LinearRegression()\n",
    "simple_model.fit(X_train, y_train)\n",
    "\n",
    "print(\"Modelo de regresión lineal simple adestrado con éxito!\")"
   ]
  },
  {
   "cell_type": "markdown",
   "id": "c0f3b1f7",
   "metadata": {},
   "source": [
    "### Paso 4: Visualizar a Liña de Regresión (A Parte Máis Intuitiva)\n",
    "\n",
    "Agora debuxaremos a \"liña de mellor axuste\" que o noso modelo aprendeu sobre os datos de proba. Esta liña representa a predición do modelo para calquera valor de ingresos medios."
   ]
  },
  {
   "cell_type": "code",
   "execution_count": null,
   "id": "7a5451fb",
   "metadata": {},
   "outputs": [],
   "source": [
    "# Facemos predicións sobre os datos de proba\n",
    "prediccions_simples = simple_model.predict(X_test)\n",
    "\n",
    "# Debuxamos os datos de proba reais (puntos azuis)\n",
    "plt.figure(figsize=(10, 8))\n",
    "plt.scatter(X_test, y_test, alpha=0.5, label='Datos Reais')\n",
    "\n",
    "# Debuxamos a nosa liña de regresión (liña vermella)\n",
    "plt.plot(X_test, prediccions_simples, color='red', linewidth=3, label='Liña de Regresión do Modelo')\n",
    "\n",
    "plt.title('Liña de Regresión: Axuste do Modelo aos Datos', fontsize=16)\n",
    "plt.xlabel('Ingresos Medios', fontsize=12)\n",
    "plt.ylabel('Prezo da Vivenda', fontsize=12)\n",
    "plt.legend()\n",
    "plt.grid(True)\n",
    "plt.show()\n",
    "\n",
    "print(\"A liña vermella é a predición do noso modelo. É a liña recta que mellor se axusta á nube de puntos, minimizando o erro colectivo.\")"
   ]
  },
  {
   "cell_type": "markdown",
   "id": "dc9a8218-ddea-4f36-a611-5565a69c73db",
   "metadata": {},
   "source": [
    "### Paso 5: Probamos o modelo\n",
    "\n",
    "Introducimos un valor para a única característica que coñece o modelo, os \"Ingresos Medios\", e ao premer o botón, utiliza a liña de regresión que aprendeu para calcular o prezo estimado da vivenda."
   ]
  },
  {
   "cell_type": "code",
   "execution_count": null,
   "id": "e46d468c-b43c-45ba-bc17-736d8878b1aa",
   "metadata": {},
   "outputs": [],
   "source": [
    "# Creamos os elementos do formulario\n",
    "income_input = widgets.FloatText(description=\"Ingresos Medios:\", value=3.5)\n",
    "predict_button = widgets.Button(description=\"Predicir Prezo\")\n",
    "output_label = widgets.Label()\n",
    "\n",
    "# Función para predecir\n",
    "def on_predict_button_clicked(b):\n",
    "    income_value = income_input.value\n",
    "    predicted_price = simple_model.predict(np.array([[income_value]]))[0]\n",
    "    final_price = predicted_price * 100000\n",
    "    output_label.value = f\"Prezo Predicido: ${final_price:,.2f}\"\n",
    "\n",
    "predict_button.on_click(on_predict_button_clicked)\n",
    "\n",
    "# Amosamos o resultado\n",
    "display(income_input, predict_button, output_label)"
   ]
  },
  {
   "attachments": {},
   "cell_type": "markdown",
   "id": "f1a829a0-511c-4bf7-9bdb-76a5fbf31ebc",
   "metadata": {},
   "source": [
    "### Paso 6: (AVANZADO) Mapa de prezos das vivendas en California\n",
    "\n",
    "Este código xera un mapa visual dos prezos da vivenda en California, debuxando cada casa como un punto segundo a súa lonxitude e latitude. A cor de cada punto está determinada polo prezo, o que permite identificar de forma rápida e intuitiva as zonas xeograficamente máis caras (con cores máis claras) fronte ás máis económicas (con cores máis escuras)."
   ]
  },
  {
   "cell_type": "code",
   "execution_count": null,
   "id": "e7507224-46ce-42a3-b6c3-8cb70cf7291e",
   "metadata": {},
   "outputs": [],
   "source": [
    "# Amosamos un gráfico cos prezos baseándonos na situación da vivenda\n",
    "plt.figure(figsize=(8, 6))\n",
    "plt.scatter(df['Longitude'], df['Latitude'], c=df['PRICE'], cmap='viridis', alpha=0.5)\n",
    "plt.colorbar(label='Prezo Mediano da Vivenda ($100,000s)')\n",
    "plt.xlabel('Lonxitude')\n",
    "plt.ylabel('Latitude')\n",
    "plt.title('Mapa de Prezos das Vivendas en California')\n",
    "plt.show()\n",
    "print(\"No mapa pódense ver claramente os prezos altos preto da costa (ex: Os Ánxeles e a Baía de San Francisco).\")"
   ]
  },
  {
   "cell_type": "markdown",
   "id": "e321365d",
   "metadata": {},
   "source": [
    "### Paso 6: Expandir a un Modelo de Regresión Múltiple\n",
    "\n",
    "Para mellorar a precisión, podemos usar máis características. O proceso é case idéntico, pero agora o modelo terá en conta máis información para facer a súa predición. Non poderemos debuxar unha única liña (porque teriamos máis de dúas dimensións), pero podemos comparar o seu rendemento numericamente."
   ]
  },
  {
   "cell_type": "code",
   "execution_count": null,
   "id": "e44ada8d",
   "metadata": {},
   "outputs": [],
   "source": [
    "# Escollemos as características que desexemos\n",
    "features = ['Latitude', 'Longitude']\n",
    "X = df[features]\n",
    "y = df['PRICE']\n",
    "\n",
    "# Dividimos os datos e adestramos\n",
    "X_train, X_test, y_train, y_test = train_test_split(X, y, test_size=0.2, random_state=42)\n",
    "final_model = LinearRegression()\n",
    "final_model.fit(X_train, y_train)\n",
    "\n",
    "print(\"Modelo final adestrado con éxito!\")"
   ]
  },
  {
   "cell_type": "markdown",
   "id": "a613c4d0-1121-4a89-8b79-056793c5c5de",
   "metadata": {},
   "source": [
    "### Paso 7: Probamos o modelo\n",
    "\n",
    "Poñemos o modelo a proba: imos introducir manualmente as coordenadas (latitude e lonxitude) dun lugar específico de California para pedirlle ao noso modelo que estime o prezo dunha vivenda nesa localización."
   ]
  },
  {
   "cell_type": "code",
   "execution_count": null,
   "id": "ad0f8eba-e5bc-4bc1-8d24-9136ba0e2886",
   "metadata": {},
   "outputs": [],
   "source": [
    "# Definimos os inpunts para variar a latitude e a lonxitude, ademais dunha etiqueta onde se amosará o prezo predito\n",
    "lat_input = FloatText(value=34.0,description='Latitude:',disabled=False)\n",
    "lon_input = FloatText(value=-118.0,description='Lonxitude:',disabled=False)\n",
    "\n",
    "# Creamos o botón que activará o cálculo\n",
    "calcular_button = Button(description='Calcular Prezo',button_style='success', tooltip='Fai clic para estimar o prezo da vivenda',icon='calculator')\n",
    "\n",
    "# A etiqueta de saída segue a ser a mesma\n",
    "output_label = Label(value=\"Introduce os valores e preme en 'Calcular'.\")\n",
    "\n",
    "# Creamos unha función que se executará SÓ cando se prema o botón\n",
    "def on_button_clicked(b):\n",
    "    # Dentro da función, collemos os valores actuais das caixas de texto\n",
    "    lat = lat_input.value\n",
    "    lon = lon_input.value\n",
    "    \n",
    "    # Executamos a mesma lóxica de predición que tiñas antes\n",
    "    datos_para_predecir = [[lat, lon]]\n",
    "    prezo_predicido = final_model.predict(datos_para_predecir)\n",
    "    prezo_final = prezo_predicido[0] * 100000\n",
    "    \n",
    "    # Actualizamos o texto da etiqueta co resultado\n",
    "    output_label.value = f'O prezo estimado da vivenda é: ${prezo_final:,.2f}'\n",
    "\n",
    "# 4. Conectamos a función ao evento 'on_click' do botón\n",
    "calcular_button.on_click(on_button_clicked)\n",
    "\n",
    "# Poñemos todo xunto para que apareza ordenado\n",
    "ui = VBox([lat_input, lon_input, calcular_button, output_label])\n",
    "display(ui)"
   ]
  },
  {
   "cell_type": "code",
   "execution_count": null,
   "id": "335b5490-684e-4b4c-970f-7f0883dc170a",
   "metadata": {},
   "outputs": [],
   "source": []
  }
 ],
 "metadata": {
  "kernelspec": {
   "display_name": "Python 3 (ipykernel)",
   "language": "python",
   "name": "python3"
  },
  "language_info": {
   "codemirror_mode": {
    "name": "ipython",
    "version": 3
   },
   "file_extension": ".py",
   "mimetype": "text/x-python",
   "name": "python",
   "nbconvert_exporter": "python",
   "pygments_lexer": "ipython3",
   "version": "3.12.3"
  }
 },
 "nbformat": 4,
 "nbformat_minor": 5
}
