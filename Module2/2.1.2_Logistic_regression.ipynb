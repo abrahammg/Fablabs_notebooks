{
 "cells": [
  {
   "cell_type": "markdown",
   "id": "9b5eedb2",
   "metadata": {},
   "source": [
    "# Logistic Regression for Email Spam Classification\n",
    "In this notebook, we will use a Logistic Regression model to classify emails as spam or not spam. We will work with a small sample dataset and go through each step of the machine learning process."
   ]
  },
  {
   "cell_type": "markdown",
   "id": "eee0c20c",
   "metadata": {},
   "source": [
    "## Step 1: Import Required Libraries\n",
    "We need the following libraries:\n",
    "- `Pandas` for data handling\n",
    "- `Numpy` for numerical operations\n",
    "- `Scikit-learn` to build and evaluate the logistic regression model"
   ]
  },
  {
   "cell_type": "code",
   "execution_count": null,
   "id": "88045303",
   "metadata": {},
   "outputs": [],
   "source": [
    "import pandas as pd\n",
    "import numpy as np\n",
    "from sklearn.model_selection import train_test_split\n",
    "from sklearn.feature_extraction.text import CountVectorizer\n",
    "from sklearn.linear_model import LogisticRegression\n",
    "from sklearn.metrics import accuracy_score, classification_report\n",
    "\n",
    "print(\"Libraries imported successfully!\")"
   ]
  },
  {
   "cell_type": "markdown",
   "id": "9404e646",
   "metadata": {},
   "source": [
    "## Step 2: Load and Explore the Dataset\n",
    "We load a CSV file that contains example emails and labels: `1` for spam, `0` for not spam."
   ]
  },
  {
   "cell_type": "code",
   "execution_count": null,
   "id": "29344d64",
   "metadata": {},
   "outputs": [],
   "source": [
    "# Load the dataset\n",
    "df = pd.read_csv('data/spam_email_dataset.csv')\n",
    "df.head()"
   ]
  },
  {
   "cell_type": "markdown",
   "id": "4f460629",
   "metadata": {},
   "source": [
    "## Step 3: Convert Text to Numeric Features\n",
    "Machine learning models can't work directly with text, so we use `CountVectorizer` to convert each email into a vector of word counts.\n",
    "We also split the data into a training set and a test set."
   ]
  },
  {
   "cell_type": "code",
   "execution_count": null,
   "id": "5c3ad30d",
   "metadata": {},
   "outputs": [],
   "source": [
    "vectorizer = CountVectorizer()\n",
    "X = vectorizer.fit_transform(df['Email'])\n",
    "y = df['Spam']\n",
    "\n",
    "# Split into train and test sets\n",
    "X_train, X_test, y_train, y_test = train_test_split(X, y, test_size=0.2, random_state=42)"
   ]
  },
  {
   "cell_type": "markdown",
   "id": "7e9526f2",
   "metadata": {},
   "source": [
    "## Step 4: Train the Logistic Regression Model\n",
    "We create a Logistic Regression model and train it using the `.fit()` method, which learns from the training data."
   ]
  },
  {
   "cell_type": "code",
   "execution_count": null,
   "id": "761a3326",
   "metadata": {},
   "outputs": [],
   "source": [
    "model = LogisticRegression()\n",
    "model.fit(X_train, y_train)\n",
    "\n",
    "# Feedback after evaluation\n",
    "print(\"✅ Model trained successfully!\")"
   ]
  },
  {
   "cell_type": "markdown",
   "id": "bfd48493-b4ae-4fa5-baa9-6af8be430490",
   "metadata": {},
   "source": [
    "## Step 5: Understand What the Model Learned\n",
    "\n",
    "Now that the model is trained, we can inspect it to understand how it makes decisions. We will extract two key pieces of information:\n",
    "\n",
    "- **Vocabulary**: The list of all unique words the model knows from the training data.\n",
    "- **Coefficients (Weights)**: The importance value the model has assigned to each word. A high positive weight means a word is a strong indicator of \"Spam,\" while a large negative weight suggests the word is a strong indicator of \"Not Spam\".\n",
    "\n",
    "By looking at the words with the highest and lowest weights, we can see which terms the model relies on most for its classification."
   ]
  },
  {
   "cell_type": "code",
   "execution_count": null,
   "id": "8ccec480-05c7-4d07-aded-d1b8d1a598e6",
   "metadata": {},
   "outputs": [],
   "source": [
    "# Get the vocabulary and the learned weights from the model\n",
    "vocabulary = vectorizer.get_feature_names_out()\n",
    "weights = model.coef_[0]\n",
    "\n",
    "# Create a DataFrame to view the words and their weights\n",
    "weights_df = pd.DataFrame({'Word': vocabulary, 'Weight': weights})\n",
    "\n",
    "# Display the words that most strongly predict SPAM (highest weights)\n",
    "print(\"--- Top Words Predicting SPAM ---\")\n",
    "print(weights_df.sort_values(by='Weight', ascending=False).head())\n",
    "\n",
    "print(\"\\n--- Top Words Predicting NOT SPAM ---\")\n",
    "print(weights_df.sort_values(by='Weight', ascending=True).head())"
   ]
  },
  {
   "cell_type": "markdown",
   "id": "e7ab4268",
   "metadata": {},
   "source": [
    "## Step 6: Evaluate the Model\n",
    "We use the model to predict labels for the test set. Then, we evaluate the results using accuracy and a classification report."
   ]
  },
  {
   "cell_type": "code",
   "execution_count": null,
   "id": "18b4b876",
   "metadata": {},
   "outputs": [],
   "source": [
    "y_pred = model.predict(X_test)\n",
    "print(f\"Accuracy: {accuracy_score(y_test, y_pred):.2f}\")\n",
    "print(classification_report(y_test, y_pred))"
   ]
  },
  {
   "cell_type": "markdown",
   "id": "86817df1",
   "metadata": {},
   "source": [
    "## Step 7: Try It Yourself – Classify a New Email\n",
    "Now that the model is trained, you can enter a new email subject below and let the model predict if it is spam or not.\n",
    "\n",
    "This is a simple way to interact with the model and understand how it makes decisions based on the words in the message."
   ]
  },
  {
   "cell_type": "code",
   "execution_count": null,
   "id": "d6ba914a",
   "metadata": {},
   "outputs": [],
   "source": [
    "# Enter a new email subject\n",
    "user_input = input(\"Enter the subject of an email: \")\n",
    "\n",
    "# Convert the input to the same vector format used during training\n",
    "user_vector = vectorizer.transform([user_input])\n",
    "\n",
    "# Predict and show result\n",
    "prediction = model.predict(user_vector)[0]\n",
    "prob = model.predict_proba(user_vector)[0][prediction]\n",
    "label = 'Spam' if prediction == 1 else 'Not Spam'\n",
    "print(f\"Prediction: {label} (Probability: {prob:.2f})\")"
   ]
  },
  {
   "cell_type": "markdown",
   "id": "5ae15cae",
   "metadata": {},
   "source": [
    "## Conclusion\n",
    "- We loaded and explored a dataset of labeled emails.\n",
    "- We converted text into numeric format using `CountVectorizer`.\n",
    "- We trained a Logistic Regression model to detect spam.\n",
    "- We evaluated its performance with test data.\n",
    "\n",
    "This basic example demonstrates how to apply machine learning to a real-world text classification task."
   ]
  }
 ],
 "metadata": {
  "kernelspec": {
   "display_name": "Python 3 (ipykernel)",
   "language": "python",
   "name": "python3"
  },
  "language_info": {
   "codemirror_mode": {
    "name": "ipython",
    "version": 3
   },
   "file_extension": ".py",
   "mimetype": "text/x-python",
   "name": "python",
   "nbconvert_exporter": "python",
   "pygments_lexer": "ipython3",
   "version": "3.12.3"
  }
 },
 "nbformat": 4,
 "nbformat_minor": 5
}
