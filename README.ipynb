{
 "cells": [
  {
   "cell_type": "markdown",
   "id": "729921e1-113c-4331-b802-56d0c8525a34",
   "metadata": {},
   "source": [
    "# Fablabs Course -> Unit 4: Big Data and Artificial Intelligence – Interactive Exercises\n",
    "\n",
    "Welcome to the **Unit 4** workspace for the FabLabs AI course! In this directory you’ll find all of the hands-on Jupyter Notebooks and data files you need to work through each module.\n",
    "\n",
    "## Folder Structure\n",
    "\n",
    "- **Module 1/**  \n",
    "  Exercises and notebooks for **Data Tools for AI** (NumPy, Pandas, Matplotlib), ordered to match the module’s sections.  \n",
    "- **Module 2/**  \n",
    "  Exercises and notebooks for **Machine Learning Fundamentals** (classification, regression, model evaluation).  \n",
    "- **Module 3/**  \n",
    "  Exercises and notebooks for **Deep Learning & Neural Networks** (ANN, CNN, RNN, Raspberry Pi workshop).  \n",
    "\n",
    "Each module folder contains two subfolders:\n",
    "\n",
    "- **data/**  \n",
    "  All `.csv` files and raw datasets required to train and run the models.  \n",
    "- **exercises/**  \n",
    "  A mix of fully implemented examples and “starter” notebooks with TODOs for you to complete.\n",
    "\n",
    "## How to Use\n",
    "\n",
    "- **Run here** on JupyterHub.  \n",
    "- **Download any .ipynb** and run locally (you’ll need Python, Jupyter Lab/Notebook, and the listed dependencies).  \n",
    "- **Upload to Google Colab** and link the data folder for cloud-based execution.\n",
    "\n",
    "Feel free to explore, modify, and extend the examples.\n",
    "\n",
    "---\n",
    "\n",
    "## Additional Resources\n",
    "\n",
    "- **FabLabs Project Home:** https://fabs-erasmus.eu  \n",
    "- **Full Course Online:** https://course.fabs-erasmus.eu  \n",
    "- **Toolkit & Project Deliverables:** https://toolkit.fabs-erasmus.eu  \n",
    "\n",
    "Happy learning! 😊  \n"
   ]
  }
 ],
 "metadata": {
  "kernelspec": {
   "display_name": "Python 3 (ipykernel)",
   "language": "python",
   "name": "python3"
  },
  "language_info": {
   "codemirror_mode": {
    "name": "ipython",
    "version": 3
   },
   "file_extension": ".py",
   "mimetype": "text/x-python",
   "name": "python",
   "nbconvert_exporter": "python",
   "pygments_lexer": "ipython3",
   "version": "3.12.3"
  }
 },
 "nbformat": 4,
 "nbformat_minor": 5
}
